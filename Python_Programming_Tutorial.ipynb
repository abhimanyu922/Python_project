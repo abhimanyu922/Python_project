{
  "cells": [
    {
      "cell_type": "markdown",
      "metadata": {
        "id": "view-in-github",
        "colab_type": "text"
      },
      "source": [
        "<a href=\"https://colab.research.google.com/github/abhimanyu922/demo-2/blob/master/Python_Programming_Tutorial.ipynb\" target=\"_parent\"><img src=\"https://colab.research.google.com/assets/colab-badge.svg\" alt=\"Open In Colab\"/></a>"
      ]
    },
    {
      "cell_type": "markdown",
      "metadata": {
        "id": "2rORRlc2fe_N"
      },
      "source": [
        "# <font color=red> Python Programming Tutorial <font/>"
      ]
    },
    {
      "cell_type": "markdown",
      "metadata": {
        "id": "VmqRwregfe_Z"
      },
      "source": [
        "# <font color=blue>Operators<font/>\n",
        "\n",
        "### 1. Arithmetic operator\n",
        "### 2. Relational(Comparison) operator\n",
        "### 3. Assignment operator\n",
        "### 4. Logical operator\n",
        "### 5. Identity operator\n",
        "### 6. Membership operator\n",
        "### 7. Bitwise operator"
      ]
    },
    {
      "cell_type": "markdown",
      "metadata": {
        "id": "JAAgjF6yfe_b"
      },
      "source": [
        "# 1. Arithmetic operator\n",
        "\n",
        "# +  ,  -   ,  * ,  ** ,  /  ,  //  ,  %\n"
      ]
    },
    {
      "cell_type": "code",
      "execution_count": 1,
      "metadata": {
        "id": "1m-nqkndfe_d"
      },
      "outputs": [],
      "source": [
        " a = 10\n",
        " b = 20"
      ]
    },
    {
      "cell_type": "code",
      "execution_count": 3,
      "metadata": {
        "colab": {
          "base_uri": "https://localhost:8080/"
        },
        "id": "a1HhkOeEfe_g",
        "outputId": "eac0d5f5-9825-4508-be6d-c0e7886eb5ba"
      },
      "outputs": [
        {
          "output_type": "execute_result",
          "data": {
            "text/plain": [
              "30"
            ]
          },
          "metadata": {},
          "execution_count": 3
        }
      ],
      "source": [
        "# Addition of two number            (a=100, b=20)\n",
        "a+b"
      ]
    },
    {
      "cell_type": "code",
      "execution_count": null,
      "metadata": {
        "id": "WegJ5vmrfe_k",
        "outputId": "3207f87f-4008-4faa-bcd2-31aa5032e389"
      },
      "outputs": [
        {
          "data": {
            "text/plain": [
              "-10"
            ]
          },
          "execution_count": 4,
          "metadata": {},
          "output_type": "execute_result"
        }
      ],
      "source": [
        "# Subtraction of Two numbers        (a=10, b=20)\n",
        "a-b"
      ]
    },
    {
      "cell_type": "code",
      "execution_count": null,
      "metadata": {
        "id": "OiK6jsjmfe_m",
        "outputId": "04b13ce3-f03a-4cb5-88cc-521408cc08aa"
      },
      "outputs": [
        {
          "data": {
            "text/plain": [
              "200"
            ]
          },
          "execution_count": 5,
          "metadata": {},
          "output_type": "execute_result"
        }
      ],
      "source": [
        "# Multiplication of two numbers    (a=10, b=20)\n",
        "a*b"
      ]
    },
    {
      "cell_type": "code",
      "execution_count": null,
      "metadata": {
        "id": "SUocHKebfe_o",
        "outputId": "e9868e9b-631d-42e2-a237-4846d68c5d84"
      },
      "outputs": [
        {
          "data": {
            "text/plain": [
              "0.5"
            ]
          },
          "execution_count": 7,
          "metadata": {},
          "output_type": "execute_result"
        }
      ],
      "source": [
        "# Division of two numbers          (a=10, b=20)\n",
        "a/b"
      ]
    },
    {
      "cell_type": "code",
      "execution_count": null,
      "metadata": {
        "id": "Nh_zhSMxfe_q",
        "outputId": "5e1cfed4-39e4-464d-8e25-4ab68fdea245"
      },
      "outputs": [
        {
          "data": {
            "text/plain": [
              "0"
            ]
          },
          "execution_count": 8,
          "metadata": {},
          "output_type": "execute_result"
        }
      ],
      "source": [
        "# Floor division of two numbers    (a=10, b=20)\n",
        "a//b"
      ]
    },
    {
      "cell_type": "code",
      "execution_count": null,
      "metadata": {
        "id": "Lb_KQ6R3fe_s",
        "outputId": "5eb6596f-ca95-4f8d-e195-d3cf79a56df6"
      },
      "outputs": [
        {
          "data": {
            "text/plain": [
              "0"
            ]
          },
          "execution_count": 9,
          "metadata": {},
          "output_type": "execute_result"
        }
      ],
      "source": [
        "# Remainders                    (a=10, b=20)\n",
        "b%a"
      ]
    },
    {
      "cell_type": "code",
      "execution_count": null,
      "metadata": {
        "id": "PDziMHHAfe_u",
        "outputId": "bd6913bb-775e-487d-e1ef-634906bfa81f"
      },
      "outputs": [
        {
          "data": {
            "text/plain": [
              "100000000000000000000"
            ]
          },
          "execution_count": 10,
          "metadata": {},
          "output_type": "execute_result"
        }
      ],
      "source": [
        "# Exponential  (20 power of a )\n",
        "a**b"
      ]
    },
    {
      "cell_type": "markdown",
      "metadata": {
        "id": "8rS03Znjfe_v"
      },
      "source": [
        "# 2. Comparison / Relational operator\n",
        "It gives outpit in bolean value.\n",
        "\n",
        "# ==  ,  <   ,  > ,  <= ,  >=  ,  !="
      ]
    },
    {
      "cell_type": "code",
      "execution_count": null,
      "metadata": {
        "id": "mRsrRyzlfe_w",
        "outputId": "53166dbf-d0b6-4b63-9ae4-afe8ef29d775"
      },
      "outputs": [
        {
          "data": {
            "text/plain": [
              "False"
            ]
          },
          "execution_count": 14,
          "metadata": {},
          "output_type": "execute_result"
        }
      ],
      "source": [
        "# Equal to comparison between a and b.     ( a=10, b=20)\n",
        "a==b"
      ]
    },
    {
      "cell_type": "code",
      "execution_count": null,
      "metadata": {
        "id": "_yVRNlMWfe_x",
        "outputId": "b3ef0605-69a9-42fc-c984-5c0cb5426063"
      },
      "outputs": [
        {
          "data": {
            "text/plain": [
              "True"
            ]
          },
          "execution_count": 15,
          "metadata": {},
          "output_type": "execute_result"
        }
      ],
      "source": [
        "# Not equal to comparison between a and b.     ( a=10, b=20)\n",
        "a!=b"
      ]
    },
    {
      "cell_type": "code",
      "execution_count": null,
      "metadata": {
        "id": "E4ZFuLE4fe_y",
        "outputId": "56f4d67c-9444-4cf6-b6d8-d00ea4570466"
      },
      "outputs": [
        {
          "data": {
            "text/plain": [
              "False"
            ]
          },
          "execution_count": 16,
          "metadata": {},
          "output_type": "execute_result"
        }
      ],
      "source": [
        "# Greater than comparison between a and b.     ( a=10, b=20)\n",
        "a>b"
      ]
    },
    {
      "cell_type": "code",
      "execution_count": null,
      "metadata": {
        "id": "mMe-c5xGfe_z",
        "outputId": "d36d3be5-6b9c-4f9f-ad61-2029fc83d8aa"
      },
      "outputs": [
        {
          "data": {
            "text/plain": [
              "True"
            ]
          },
          "execution_count": 17,
          "metadata": {},
          "output_type": "execute_result"
        }
      ],
      "source": [
        "# Less than comparison between a and b.     ( a=10, b=20)\n",
        "a<b------------------"
      ]
    },
    {
      "cell_type": "code",
      "execution_count": null,
      "metadata": {
        "id": "n9e1V9zffe_z",
        "outputId": "9a6a94ff-f0a2-4b63-e55a-15b46e31a298"
      },
      "outputs": [
        {
          "data": {
            "text/plain": [
              "False"
            ]
          },
          "execution_count": 18,
          "metadata": {},
          "output_type": "execute_result"
        }
      ],
      "source": [
        "# Greater than & equal to comparison between a and b.     ( a=10, b=20)\n",
        "a>=b"
      ]
    },
    {
      "cell_type": "code",
      "execution_count": null,
      "metadata": {
        "id": "a-PlU8MKfe_0",
        "outputId": "0ae55f37-0605-47d9-c2c4-ea81585ba1e7"
      },
      "outputs": [
        {
          "data": {
            "text/plain": [
              "True"
            ]
          },
          "execution_count": 20,
          "metadata": {},
          "output_type": "execute_result"
        }
      ],
      "source": [
        "# Greater than & equal to comparison between a and b.     ( a=10, b=20)\n",
        "a<=b"
      ]
    },
    {
      "cell_type": "markdown",
      "metadata": {
        "id": "HeLCunNzfe_1"
      },
      "source": [
        "# 3. Assignment operator\n",
        "# =  ,  +=   ,  -= ,  *= ,  /=  ,  //= , %=\n"
      ]
    },
    {
      "cell_type": "code",
      "execution_count": null,
      "metadata": {
        "id": "aoX7gFH7fe_2",
        "outputId": "5dbcb670-bc8a-42fe-8358-955cf2f8c75b"
      },
      "outputs": [
        {
          "data": {
            "text/plain": [
              "30"
            ]
          },
          "execution_count": 27,
          "metadata": {},
          "output_type": "execute_result"
        }
      ],
      "source": [
        "# Assignment operator       (a=10, b=20)\n",
        "c = a+b\n",
        "\n",
        "c"
      ]
    },
    {
      "cell_type": "code",
      "execution_count": null,
      "metadata": {
        "id": "ZYbLN7tNfe_2",
        "outputId": "dc36226e-bb69-4382-a435-8f7b5e90f196"
      },
      "outputs": [
        {
          "data": {
            "text/plain": [
              "(11, 12, 13, 17)"
            ]
          },
          "execution_count": 29,
          "metadata": {},
          "output_type": "execute_result"
        }
      ],
      "source": [
        "# Multiple Assignment method\n",
        "w, x, y, z = 11, 12, 13, 17\n",
        "w, x, y, z"
      ]
    },
    {
      "cell_type": "code",
      "execution_count": null,
      "metadata": {
        "id": "Avss0jerfe_3",
        "outputId": "0f61daa9-90c0-4f9c-a23a-c72ebd88e1bb"
      },
      "outputs": [
        {
          "data": {
            "text/plain": [
              "50"
            ]
          },
          "execution_count": 30,
          "metadata": {},
          "output_type": "execute_result"
        }
      ],
      "source": [
        "# Plus equal        ( c = c+b )\n",
        "c+=b\n",
        "c"
      ]
    },
    {
      "cell_type": "code",
      "execution_count": null,
      "metadata": {
        "id": "lygne1E9fe_4",
        "outputId": "d6f98ade-bc93-43fa-a915-8ec077994ac3"
      },
      "outputs": [
        {
          "data": {
            "text/plain": [
              "30"
            ]
          },
          "execution_count": 31,
          "metadata": {},
          "output_type": "execute_result"
        }
      ],
      "source": [
        "# Minus equal        ( c = c-b )\n",
        "c-=b\n",
        "c"
      ]
    },
    {
      "cell_type": "code",
      "execution_count": null,
      "metadata": {
        "id": "sbTvr-5hfe_4",
        "outputId": "db3cefc4-bca7-483a-e3ea-ddf3046e5386"
      },
      "outputs": [
        {
          "data": {
            "text/plain": [
              "600"
            ]
          },
          "execution_count": 32,
          "metadata": {},
          "output_type": "execute_result"
        }
      ],
      "source": [
        "# Multiply equal        ( c = c*b )\n",
        "c*=b\n",
        "c"
      ]
    },
    {
      "cell_type": "code",
      "execution_count": null,
      "metadata": {
        "id": "dTzmjCD7fe_5",
        "outputId": "06807e77-582f-4048-9320-d4d133797cc7"
      },
      "outputs": [
        {
          "data": {
            "text/plain": [
              "30.0"
            ]
          },
          "execution_count": 33,
          "metadata": {},
          "output_type": "execute_result"
        }
      ],
      "source": [
        "# Divide equal        ( c = c/b )\n",
        "c/=b\n",
        "c"
      ]
    },
    {
      "cell_type": "code",
      "execution_count": null,
      "metadata": {
        "id": "vgYfY0k4fe_7",
        "outputId": "28e8ede6-2632-44d0-f22f-3c5a59c63702"
      },
      "outputs": [
        {
          "data": {
            "text/plain": [
              "1.0"
            ]
          },
          "execution_count": 34,
          "metadata": {},
          "output_type": "execute_result"
        }
      ],
      "source": [
        "# Floor division equal        ( c = c//b )\n",
        "c//=b\n",
        "c"
      ]
    },
    {
      "cell_type": "code",
      "execution_count": null,
      "metadata": {
        "id": "7mOY28FEfe_7",
        "outputId": "845a2665-596b-4b06-ee3f-b56837b1ec04"
      },
      "outputs": [
        {
          "data": {
            "text/plain": [
              "1.0"
            ]
          },
          "execution_count": 35,
          "metadata": {},
          "output_type": "execute_result"
        }
      ],
      "source": [
        "# Modulus/Remainder equal        ( c = c%b )\n",
        "c%=b\n",
        "c"
      ]
    },
    {
      "cell_type": "markdown",
      "metadata": {
        "id": "Fa9OZlStfe_8"
      },
      "source": [
        "# 4. Logical operator\n",
        "# 'and' , 'or' , 'not'\n"
      ]
    },
    {
      "cell_type": "code",
      "execution_count": null,
      "metadata": {
        "id": "jFZWGnEgfe_9",
        "outputId": "3ed65b7a-a514-49ee-e393-8d391219944b"
      },
      "outputs": [
        {
          "data": {
            "text/plain": [
              "True"
            ]
          },
          "execution_count": 36,
          "metadata": {},
          "output_type": "execute_result"
        }
      ],
      "source": [
        "# and logic\n",
        "a=10\n",
        "b=20\n",
        "\n",
        "c = (a<b) and (b>0) and (a<100) and (b!=a)\n",
        "c"
      ]
    },
    {
      "cell_type": "code",
      "execution_count": null,
      "metadata": {
        "id": "3LIMBiZLfe_9",
        "outputId": "acc68ccc-eddb-4fe9-c81a-05ec41f7d2f5"
      },
      "outputs": [
        {
          "data": {
            "text/plain": [
              "False"
            ]
          },
          "execution_count": 37,
          "metadata": {},
          "output_type": "execute_result"
        }
      ],
      "source": [
        "# and logic :- Takes all the condition and check. Ony if, all condition is true then returns true.\n",
        "\n",
        "c = (a<b) and (b>0) and (a<9) and (b!=a)\n",
        "c"
      ]
    },
    {
      "cell_type": "code",
      "execution_count": null,
      "metadata": {
        "id": "APxJiqJEfe_-",
        "outputId": "3d3be1ba-045d-41db-b27b-9a85dd6de902"
      },
      "outputs": [
        {
          "data": {
            "text/plain": [
              "True"
            ]
          },
          "execution_count": 38,
          "metadata": {},
          "output_type": "execute_result"
        }
      ],
      "source": [
        "# or logic :- Takes more than one condition and returns true if any condition is true.\n",
        "\n",
        "c = (a<b) or (b>0) or (a<9) or (b!=a)\n",
        "c"
      ]
    },
    {
      "cell_type": "code",
      "execution_count": null,
      "metadata": {
        "id": "261LvJenfe_-",
        "outputId": "53fcf214-2c84-4e80-efb6-f24ef5778a94"
      },
      "outputs": [
        {
          "data": {
            "text/plain": [
              "False"
            ]
          },
          "execution_count": 39,
          "metadata": {},
          "output_type": "execute_result"
        }
      ],
      "source": [
        "# not logic :- Takes one condition and return opposite result.\n",
        "\n",
        "c = not(a<b)\n",
        "c"
      ]
    },
    {
      "cell_type": "markdown",
      "metadata": {
        "id": "6iRyIOa2fe__"
      },
      "source": [
        "# 5. Identity operator\n",
        "It will check that left value is equal to right value or not.\n",
        "# 'is' , 'is not'"
      ]
    },
    {
      "cell_type": "code",
      "execution_count": null,
      "metadata": {
        "id": "bUMHD55rfe__",
        "outputId": "241a5610-7ad3-491b-8d85-02fba66aa6ec"
      },
      "outputs": [
        {
          "data": {
            "text/plain": [
              "True"
            ]
          },
          "execution_count": 40,
          "metadata": {},
          "output_type": "execute_result"
        }
      ],
      "source": [
        "# is\n",
        "a=5\n",
        "b=5\n",
        "a is b"
      ]
    },
    {
      "cell_type": "code",
      "execution_count": null,
      "metadata": {
        "id": "tYSvMFT-ffAA",
        "outputId": "0c5b29fe-3d79-4db5-d476-b4027976c0b0"
      },
      "outputs": [
        {
          "name": "stderr",
          "output_type": "stream",
          "text": [
            "<>:1: SyntaxWarning: \"is\" with a literal. Did you mean \"==\"?\n",
            "<>:1: SyntaxWarning: \"is\" with a literal. Did you mean \"==\"?\n",
            "<>:1: SyntaxWarning: \"is\" with a literal. Did you mean \"==\"?\n",
            "<>:1: SyntaxWarning: \"is\" with a literal. Did you mean \"==\"?\n",
            "<>:1: SyntaxWarning: \"is\" with a literal. Did you mean \"==\"?\n",
            "<>:1: SyntaxWarning: \"is\" with a literal. Did you mean \"==\"?\n",
            "<ipython-input-41-d8fe3b2d85d5>:1: SyntaxWarning: \"is\" with a literal. Did you mean \"==\"?\n",
            "  (('Y' is 'Python') , 1 is 1, 1 is 0)\n",
            "<ipython-input-41-d8fe3b2d85d5>:1: SyntaxWarning: \"is\" with a literal. Did you mean \"==\"?\n",
            "  (('Y' is 'Python') , 1 is 1, 1 is 0)\n",
            "<ipython-input-41-d8fe3b2d85d5>:1: SyntaxWarning: \"is\" with a literal. Did you mean \"==\"?\n",
            "  (('Y' is 'Python') , 1 is 1, 1 is 0)\n"
          ]
        },
        {
          "data": {
            "text/plain": [
              "(False, True, False)"
            ]
          },
          "execution_count": 41,
          "metadata": {},
          "output_type": "execute_result"
        }
      ],
      "source": [
        "(('Y' is 'Python') , 1 is 1, 1 is 0)"
      ]
    },
    {
      "cell_type": "code",
      "execution_count": null,
      "metadata": {
        "id": "njfGYrMzffAB",
        "outputId": "f5cc1363-0b09-425a-cdc6-669b987e2401"
      },
      "outputs": [
        {
          "name": "stderr",
          "output_type": "stream",
          "text": [
            "<>:1: SyntaxWarning: \"is not\" with a literal. Did you mean \"!=\"?\n",
            "<>:1: SyntaxWarning: \"is not\" with a literal. Did you mean \"!=\"?\n",
            "<>:1: SyntaxWarning: \"is not\" with a literal. Did you mean \"!=\"?\n",
            "<>:1: SyntaxWarning: \"is not\" with a literal. Did you mean \"!=\"?\n",
            "<>:1: SyntaxWarning: \"is not\" with a literal. Did you mean \"!=\"?\n",
            "<>:1: SyntaxWarning: \"is not\" with a literal. Did you mean \"!=\"?\n",
            "<ipython-input-42-7fb7f88df096>:1: SyntaxWarning: \"is not\" with a literal. Did you mean \"!=\"?\n",
            "  (('Y' is not 'Python') , 1 is not 1, 1 is not 0)\n",
            "<ipython-input-42-7fb7f88df096>:1: SyntaxWarning: \"is not\" with a literal. Did you mean \"!=\"?\n",
            "  (('Y' is not 'Python') , 1 is not 1, 1 is not 0)\n",
            "<ipython-input-42-7fb7f88df096>:1: SyntaxWarning: \"is not\" with a literal. Did you mean \"!=\"?\n",
            "  (('Y' is not 'Python') , 1 is not 1, 1 is not 0)\n"
          ]
        },
        {
          "data": {
            "text/plain": [
              "(True, False, True)"
            ]
          },
          "execution_count": 42,
          "metadata": {},
          "output_type": "execute_result"
        }
      ],
      "source": [
        "(('Y' is not 'Python') , 1 is not 1, 1 is not 0)"
      ]
    },
    {
      "cell_type": "markdown",
      "metadata": {
        "id": "tOPktphZffAB"
      },
      "source": [
        "# 6. Membership operator\n",
        "Checks the existence of a particular thing within object of the objects and return boolean values.\n",
        "\n",
        "# 'in' , 'not in'"
      ]
    },
    {
      "cell_type": "code",
      "execution_count": null,
      "metadata": {
        "id": "q2XtrFAuffAC",
        "outputId": "6c7e48b6-65fa-4975-dd2b-a724fafc7cf5"
      },
      "outputs": [
        {
          "data": {
            "text/plain": [
              "(False, True)"
            ]
          },
          "execution_count": 45,
          "metadata": {},
          "output_type": "execute_result"
        }
      ],
      "source": [
        "a = 'Akshay Kumar'\n",
        "'Y' in a , 'K' in a"
      ]
    },
    {
      "cell_type": "code",
      "execution_count": null,
      "metadata": {
        "id": "KlLnS181ffAC",
        "outputId": "dcf92094-50b8-4e97-a013-41e13c30fb83"
      },
      "outputs": [
        {
          "data": {
            "text/plain": [
              "(False, True)"
            ]
          },
          "execution_count": 48,
          "metadata": {},
          "output_type": "execute_result"
        }
      ],
      "source": [
        "a = 'New York City'\n",
        "'Y' not in a , 'K' not in a"
      ]
    },
    {
      "cell_type": "markdown",
      "metadata": {
        "id": "bltpUoHCffAO"
      },
      "source": [
        "# 7. Bitwise operator\n",
        "\n",
        "Works with binary digits.\n",
        "# &  ,  |  , ^ , ~  ,  <<  ,  >>"
      ]
    },
    {
      "cell_type": "code",
      "execution_count": null,
      "metadata": {
        "id": "pyIDsRtSffAO"
      },
      "outputs": [],
      "source": [
        "# Bitwise 'and' operator\n",
        "a = 5\n",
        "b = 6\n",
        "\n",
        "a&b"
      ]
    },
    {
      "cell_type": "code",
      "execution_count": null,
      "metadata": {
        "id": "5CnX3adiffAP"
      },
      "outputs": [],
      "source": [
        "# Bitwise 'or' operator\n",
        "a = 5\n",
        "b = 6\n",
        "\n",
        "a|b"
      ]
    },
    {
      "cell_type": "code",
      "execution_count": null,
      "metadata": {
        "id": "XiEO2ZCsffAP"
      },
      "outputs": [],
      "source": [
        "# Bitwise 'Xor' operator\n",
        "a = 5\n",
        "b = 6\n",
        "\n",
        "a^b"
      ]
    },
    {
      "cell_type": "code",
      "execution_count": null,
      "metadata": {
        "id": "4cy6YvEFffAQ"
      },
      "outputs": [],
      "source": [
        "# Bitwise complement\n",
        "a = 5\n",
        "\n",
        "c=~a\n",
        "c"
      ]
    },
    {
      "cell_type": "code",
      "execution_count": null,
      "metadata": {
        "id": "_lkImKiUffAQ"
      },
      "outputs": [],
      "source": [
        "# Bitwise left complement\n",
        "a = 5\n",
        "\n",
        "c=a<<2\n",
        "c"
      ]
    },
    {
      "cell_type": "code",
      "execution_count": null,
      "metadata": {
        "id": "NE2ooWdrffAR"
      },
      "outputs": [],
      "source": [
        "# Bitwise right complement\n",
        "a = 5\n",
        "\n",
        "c=a>>2\n",
        "c"
      ]
    },
    {
      "cell_type": "markdown",
      "metadata": {
        "id": "KbpsIqmFffAR"
      },
      "source": [
        "# * Program To Swap Two Number\n",
        "\n",
        "   1. Using third variable\n",
        "   \n",
        "   2. Using + and –\n",
        "    \n",
        "   3. Using * and /\n",
        "    \n",
        "   4. Using bitwise Xor (^)\n",
        "    \n",
        "   5. Using python construct\n"
      ]
    },
    {
      "cell_type": "code",
      "execution_count": null,
      "metadata": {
        "id": "s0_CQiqIffAS",
        "outputId": "8c663705-8107-49be-adb5-aca2a64b7e83"
      },
      "outputs": [
        {
          "name": "stdout",
          "output_type": "stream",
          "text": [
            "Value before swapping........\n",
            "value of a is = 5\n",
            "value of b is = 6\n",
            "Value after swapping.........\n",
            "value of a is = 6\n",
            "value of b is = 5\n"
          ]
        }
      ],
      "source": [
        "# Swapping of number by\n",
        "# 1. Using third variable\n",
        "\n",
        "a = 5\n",
        "b = 6\n",
        "\n",
        "print('Value before swapping........')\n",
        "print('value of a is =',a)\n",
        "print('value of b is =',b)\n",
        "\n",
        "c=a\n",
        "\n",
        "a=b\n",
        "b=c\n",
        "\n",
        "\n",
        "print('Value after swapping.........')\n",
        "print('value of a is =',a)\n",
        "print('value of b is =',b)"
      ]
    },
    {
      "cell_type": "code",
      "execution_count": null,
      "metadata": {
        "id": "m19ymrCmffAT",
        "outputId": "14efa976-ebac-4a1d-e681-84de9738135b"
      },
      "outputs": [
        {
          "name": "stdout",
          "output_type": "stream",
          "text": [
            "Value before swapping........\n",
            "value of a is = 5\n",
            "value of b is = 6\n",
            "Value after swapping.........\n",
            "value of a is = 6\n",
            "value of b is = 5\n"
          ]
        }
      ],
      "source": [
        "# Swapping of number by\n",
        "# # 2. Using + and –\n",
        "\n",
        "a = 5\n",
        "b = 6\n",
        "\n",
        "print('Value before swapping........')\n",
        "print('value of a is =',a)\n",
        "print('value of b is =',b)\n",
        "\n",
        "a=a+b\n",
        "\n",
        "b=a-b\n",
        "a=a-b\n",
        "\n",
        "\n",
        "print('Value after swapping.........')\n",
        "print('value of a is =',a)\n",
        "print('value of b is =',b)"
      ]
    },
    {
      "cell_type": "code",
      "execution_count": null,
      "metadata": {
        "id": "D9u01wPiffAV",
        "outputId": "3d5a452e-4764-4dff-afde-e3fcc067ecc1"
      },
      "outputs": [
        {
          "name": "stdout",
          "output_type": "stream",
          "text": [
            "Value before swapping........\n",
            "value of a is = 5\n",
            "value of b is = 6\n",
            "Value after swapping.........\n",
            "value of a is = 6.0\n",
            "value of b is = 5.0\n"
          ]
        }
      ],
      "source": [
        "# Swapping of number by\n",
        "# 3. Using * and /\n",
        "\n",
        "a = 5\n",
        "b = 6\n",
        "\n",
        "print('Value before swapping........')\n",
        "print('value of a is =',a)\n",
        "print('value of b is =',b)\n",
        "\n",
        "a=a*b\n",
        "\n",
        "b=a/b\n",
        "a=a/b\n",
        "\n",
        "\n",
        "print('Value after swapping.........')\n",
        "print('value of a is =',a)\n",
        "print('value of b is =',b)"
      ]
    },
    {
      "cell_type": "code",
      "execution_count": null,
      "metadata": {
        "id": "7pnUKQcyffAW"
      },
      "outputs": [],
      "source": [
        "# Swapping of number by\n",
        "# 4. Using Xor operator (' ^ ')\n",
        "\n",
        "a = 5\n",
        "b = 6\n",
        "\n",
        "print('Value before swapping........')\n",
        "print('value of a is =',a)\n",
        "print('value of b is =',b)\n",
        "\n",
        "a=a^b\n",
        "b=a^b\n",
        "a=a^b\n",
        "\n",
        "\n",
        "print('Value after swapping.........')\n",
        "print('value of a is =',a)\n",
        "print('value of b is =',b)"
      ]
    },
    {
      "cell_type": "code",
      "execution_count": null,
      "metadata": {
        "id": "Sfz01bkqffAX"
      },
      "outputs": [],
      "source": [
        "# Swapping of number by\n",
        "# 5. Using python construct\n",
        "\n",
        "a = 5\n",
        "b = 6\n",
        "\n",
        "print('Value before swapping........')\n",
        "print('value of a is =',a)\n",
        "print('value of b is =',b)\n",
        "\n",
        "a,b=b,a\n",
        "\n",
        "print('Value after swapping.........')\n",
        "print('value of a is =',a)\n",
        "print('value of b is =',b)"
      ]
    },
    {
      "cell_type": "code",
      "execution_count": null,
      "metadata": {
        "id": "kdHDLHQaffAY"
      },
      "outputs": [],
      "source": [
        "# Simple interest calculation\n",
        "p=1000    # value assigning\n",
        "r=2.5\n",
        "t=2\n",
        "\n",
        "si=(p*r*t)/100   # formula\n",
        "\n",
        "print('simple interest is=',si)"
      ]
    },
    {
      "cell_type": "code",
      "execution_count": null,
      "metadata": {
        "id": "QB8t6Os2ffAY"
      },
      "outputs": [],
      "source": [
        "# Temperature converter fehrenheit to celcius\n",
        "\n",
        "f=98.6\n",
        "\n",
        "c=((f-32)/9)*5\n",
        "\n",
        "print('temperature in celcius',c)"
      ]
    },
    {
      "cell_type": "code",
      "execution_count": null,
      "metadata": {
        "id": "b4BnGBHhffAZ"
      },
      "outputs": [],
      "source": [
        "# Temperature converter, celcius to fehrenheit\n",
        "\n",
        "c=37\n",
        "\n",
        "f=(c/5)*9+32\n",
        "\n",
        "print('temperature in fehrenheit',f)"
      ]
    },
    {
      "cell_type": "markdown",
      "metadata": {
        "id": "lqtg1A9TffAa"
      },
      "source": [
        "# <font color=red>DATA STRUCTURE<font/>\n",
        "\n",
        "## Built in Data- structure\n",
        "\n",
        "### 1. Tuple\n",
        "### 2. List\n",
        "### 3. Dictionary\n",
        "### 4. Set"
      ]
    },
    {
      "cell_type": "markdown",
      "metadata": {
        "id": "GWetSCHBffAb"
      },
      "source": [
        "## <font color=red>1. Tuple<font/>\n",
        "\n",
        "Tuple is an ordered collection of elements enclosed within ( ).\n",
        "\n",
        "Tuples are immutable."
      ]
    },
    {
      "cell_type": "code",
      "execution_count": null,
      "metadata": {
        "id": "2sXZEjwbffAb"
      },
      "outputs": [],
      "source": [
        "S = ('Akshay kumar', 345, 67.9, 456, 32, 'Python')"
      ]
    },
    {
      "cell_type": "markdown",
      "metadata": {
        "id": "PGavfzkwffAc"
      },
      "source": [
        "### Slicing Operation\n",
        "\n",
        "### <font color=red>variable<font/> <font color=green>[ start : end<font/> :<font color=red>step<font/> <font color=green>]<font/>"
      ]
    },
    {
      "cell_type": "code",
      "execution_count": null,
      "metadata": {
        "id": "fZYcQMsyffAc"
      },
      "outputs": [],
      "source": [
        "S= (1, 2, 3, 4, 5, 6, 7, 8, 9, 10, 11, 12 )"
      ]
    },
    {
      "cell_type": "code",
      "execution_count": null,
      "metadata": {
        "id": "ZHxUqDBzffAd",
        "outputId": "872ceec8-4352-4190-afba-ad53633eec57"
      },
      "outputs": [
        {
          "data": {
            "text/plain": [
              "3"
            ]
          },
          "execution_count": 69,
          "metadata": {},
          "output_type": "execute_result"
        }
      ],
      "source": [
        "S[2]"
      ]
    },
    {
      "cell_type": "code",
      "execution_count": null,
      "metadata": {
        "id": "Pb9xCu4xffAd",
        "outputId": "3124696e-8a36-4512-e829-0d41c8b09581"
      },
      "outputs": [
        {
          "data": {
            "text/plain": [
              "(3, 4, 5, 6, 7, 8)"
            ]
          },
          "execution_count": 70,
          "metadata": {},
          "output_type": "execute_result"
        }
      ],
      "source": [
        "S[2:8]"
      ]
    },
    {
      "cell_type": "code",
      "execution_count": null,
      "metadata": {
        "id": "2FiTd0EbffAe",
        "outputId": "0cf1ee0d-27e2-40a7-c333-3ff4e3b8fa0d"
      },
      "outputs": [
        {
          "data": {
            "text/plain": [
              "(4, 6, 8)"
            ]
          },
          "execution_count": 71,
          "metadata": {},
          "output_type": "execute_result"
        }
      ],
      "source": [
        "S[3:9:2]"
      ]
    },
    {
      "cell_type": "code",
      "execution_count": null,
      "metadata": {
        "id": "yYZhc-RQffAe",
        "outputId": "7e03af23-3d36-4c6e-ae35-19e22e2ff56f"
      },
      "outputs": [
        {
          "data": {
            "text/plain": [
              "9"
            ]
          },
          "execution_count": 72,
          "metadata": {},
          "output_type": "execute_result"
        }
      ],
      "source": [
        "S[-4]"
      ]
    },
    {
      "cell_type": "code",
      "execution_count": null,
      "metadata": {
        "id": "PMJC833QffAf",
        "outputId": "635ca337-bdb4-4eff-a0f7-dcc41962a7b2"
      },
      "outputs": [
        {
          "data": {
            "text/plain": [
              "(1, 5)"
            ]
          },
          "execution_count": 73,
          "metadata": {},
          "output_type": "execute_result"
        }
      ],
      "source": [
        "S[:8:4]"
      ]
    },
    {
      "cell_type": "code",
      "execution_count": null,
      "metadata": {
        "id": "Q4_ucMXNffAf",
        "outputId": "22c809f0-fdc3-459f-9fcc-1624ee9948eb"
      },
      "outputs": [
        {
          "data": {
            "text/plain": [
              "(9, 7)"
            ]
          },
          "execution_count": 74,
          "metadata": {},
          "output_type": "execute_result"
        }
      ],
      "source": [
        "S[-4:-8:-2]"
      ]
    },
    {
      "cell_type": "code",
      "execution_count": null,
      "metadata": {
        "id": "ei3NGPqMffAf",
        "outputId": "d76b5a3f-92a4-4b9d-8139-2bca6f3850c8"
      },
      "outputs": [
        {
          "data": {
            "text/plain": [
              "(1, 2, 3, 4, 5, 6)"
            ]
          },
          "execution_count": 75,
          "metadata": {},
          "output_type": "execute_result"
        }
      ],
      "source": [
        "S[:6]"
      ]
    },
    {
      "cell_type": "code",
      "execution_count": null,
      "metadata": {
        "id": "6zxOyThJffAg",
        "outputId": "fff575e7-7c03-40f2-8c3f-d8829df89a29"
      },
      "outputs": [
        {
          "data": {
            "text/plain": [
              "(12, 11, 10, 9, 8, 7, 6, 5, 4, 3, 2, 1)"
            ]
          },
          "execution_count": 76,
          "metadata": {},
          "output_type": "execute_result"
        }
      ],
      "source": [
        "# Reverse squence\n",
        "S[::-1]"
      ]
    },
    {
      "cell_type": "code",
      "execution_count": null,
      "metadata": {
        "id": "Xkio4CT2ffAg",
        "outputId": "a11f6e65-db01-40e8-9d50-79df210a5d43"
      },
      "outputs": [
        {
          "data": {
            "text/plain": [
              "(4, 5, 6, 7, 8, 9, 10, 11, 12)"
            ]
          },
          "execution_count": 77,
          "metadata": {},
          "output_type": "execute_result"
        }
      ],
      "source": [
        "S[3:]"
      ]
    },
    {
      "cell_type": "code",
      "execution_count": null,
      "metadata": {
        "id": "V3tW7iQTffAg",
        "outputId": "d0f3c8aa-6c4a-4634-b764-1e3d8fa06c46"
      },
      "outputs": [
        {
          "data": {
            "text/plain": [
              "(4, 6, 8, 10, 12)"
            ]
          },
          "execution_count": 78,
          "metadata": {},
          "output_type": "execute_result"
        }
      ],
      "source": [
        "S[3::2]"
      ]
    },
    {
      "cell_type": "markdown",
      "metadata": {
        "id": "P7wcDp5bffAh"
      },
      "source": [
        "### Tuple method\n",
        "#### <font color=green>1.count( )<font/>\n",
        "#### <font color=green>2.index( )<font/>"
      ]
    },
    {
      "cell_type": "code",
      "execution_count": null,
      "metadata": {
        "id": "tUuIYYSNffAh"
      },
      "outputs": [],
      "source": [
        "X = (1,2,3,5,5,5,3,2,5,2,9,5,6,7)"
      ]
    },
    {
      "cell_type": "code",
      "execution_count": null,
      "metadata": {
        "id": "hKcpVkibffAh",
        "outputId": "dac88820-e765-4151-e6c7-b7d58f01bb24"
      },
      "outputs": [
        {
          "data": {
            "text/plain": [
              "3"
            ]
          },
          "execution_count": 80,
          "metadata": {},
          "output_type": "execute_result"
        }
      ],
      "source": [
        "# finding frequency of an object.\n",
        "X.count(2)"
      ]
    },
    {
      "cell_type": "code",
      "execution_count": null,
      "metadata": {
        "id": "1yO66BGsffAi",
        "outputId": "3ba58823-0236-4113-9100-d0d626037c99"
      },
      "outputs": [
        {
          "data": {
            "text/plain": [
              "10"
            ]
          },
          "execution_count": 81,
          "metadata": {},
          "output_type": "execute_result"
        }
      ],
      "source": [
        "# finding Index number of any value\n",
        "X.index(9)"
      ]
    },
    {
      "cell_type": "code",
      "execution_count": null,
      "metadata": {
        "id": "bpcFYszyffAi",
        "outputId": "1dfa7b4f-d2db-486e-ee6e-2f3d96ac3607"
      },
      "outputs": [
        {
          "data": {
            "text/plain": [
              "(1, 2, 3, 4, 5, 6)"
            ]
          },
          "execution_count": 82,
          "metadata": {},
          "output_type": "execute_result"
        }
      ],
      "source": [
        "# Concatenating Tuple\n",
        "tup1 = (1,2,3)\n",
        "tup2 = (4,5,6)\n",
        "tup1+tup2"
      ]
    },
    {
      "cell_type": "code",
      "execution_count": null,
      "metadata": {
        "id": "udGcFSK2ffAj",
        "outputId": "11237309-6306-4cd9-9072-0702a7ec08fe"
      },
      "outputs": [
        {
          "data": {
            "text/plain": [
              "(1, 2, 3, 1, 2, 3, 1, 2, 3, 4, 5, 6)"
            ]
          },
          "execution_count": 83,
          "metadata": {},
          "output_type": "execute_result"
        }
      ],
      "source": [
        "# Repeating and Concatenating\n",
        "tup1*3+tup2\n"
      ]
    },
    {
      "cell_type": "markdown",
      "metadata": {
        "id": "UbGQXonHffAj"
      },
      "source": [
        "### Tuple Function\n",
        "### <font color=green>1.len( )<font/>\n",
        "### <font color=green>2.max( )<font/>\n",
        "### <font color=green>3.min( )<font/>\n",
        "### <font color=green>4.sorted( )<font/>   "
      ]
    },
    {
      "cell_type": "code",
      "execution_count": null,
      "metadata": {
        "id": "hPT0PnqAffAj",
        "outputId": "a5794fc3-95b1-4d44-f2de-bc85fd5ab4db"
      },
      "outputs": [
        {
          "data": {
            "text/plain": [
              "14"
            ]
          },
          "execution_count": 84,
          "metadata": {},
          "output_type": "execute_result"
        }
      ],
      "source": [
        "# Finding Length of Tuple\n",
        "len(X)"
      ]
    },
    {
      "cell_type": "code",
      "execution_count": null,
      "metadata": {
        "id": "B1dAvDulffAk",
        "outputId": "3ed57780-07d7-4df1-f8ce-3d595d67d7ac"
      },
      "outputs": [
        {
          "data": {
            "text/plain": [
              "9"
            ]
          },
          "execution_count": 85,
          "metadata": {},
          "output_type": "execute_result"
        }
      ],
      "source": [
        "# Maximum value in Tuple\n",
        "max(X)"
      ]
    },
    {
      "cell_type": "code",
      "execution_count": null,
      "metadata": {
        "id": "dkGCh54qffAk",
        "outputId": "e075fa91-300b-4df2-a4c0-9e0dc1de1e04"
      },
      "outputs": [
        {
          "data": {
            "text/plain": [
              "1"
            ]
          },
          "execution_count": 86,
          "metadata": {},
          "output_type": "execute_result"
        }
      ],
      "source": [
        "# Mininmum value in tuple\n",
        "min(X)"
      ]
    },
    {
      "cell_type": "code",
      "execution_count": null,
      "metadata": {
        "id": "4QEJjPSxffAk",
        "outputId": "ff6f772e-c990-4a22-8ece-bc3e9ed9d72a"
      },
      "outputs": [
        {
          "data": {
            "text/plain": [
              "[1, 2, 2, 2, 3, 3, 5, 5, 5, 5, 5, 6, 7, 9]"
            ]
          },
          "execution_count": 87,
          "metadata": {},
          "output_type": "execute_result"
        }
      ],
      "source": [
        "# Sorting the values in Ascending order\n",
        "sorted(X)"
      ]
    },
    {
      "cell_type": "code",
      "execution_count": null,
      "metadata": {
        "id": "zqxASvzOffAl",
        "outputId": "6f044b6e-6a36-4ba1-dc5d-525f6ac90566"
      },
      "outputs": [
        {
          "data": {
            "text/plain": [
              "10"
            ]
          },
          "execution_count": 88,
          "metadata": {},
          "output_type": "execute_result"
        }
      ],
      "source": [
        "# Deleting the Tuple\n",
        "del X\n",
        "x"
      ]
    },
    {
      "cell_type": "code",
      "execution_count": null,
      "metadata": {
        "id": "TVxseBLsffAm",
        "outputId": "199c0f4e-af32-471a-c5c7-23cf640fab5d"
      },
      "outputs": [
        {
          "data": {
            "text/plain": [
              "(4, 5, 6, (25, 36), [24, 23, 12, 14])"
            ]
          },
          "execution_count": 89,
          "metadata": {},
          "output_type": "execute_result"
        }
      ],
      "source": [
        "# Nested Tuple\n",
        "a = (4, 5, 6,(25,36),[24, 23, 12, 14])\n",
        "a"
      ]
    },
    {
      "cell_type": "markdown",
      "metadata": {
        "id": "y7uUpY3IffAn"
      },
      "source": [
        "## <font color=red>2. List<font/>\n",
        "\n",
        "List is an ordered collection of heterogeneous elements enclosed within [ ].\n",
        "\n",
        "Tuples are mutable."
      ]
    },
    {
      "cell_type": "code",
      "execution_count": null,
      "metadata": {
        "id": "IN-1BHM7ffAo",
        "outputId": "caa632d6-a472-435d-c923-7925d0279e9e"
      },
      "outputs": [
        {
          "data": {
            "text/plain": [
              "['Akshay', 25, 75.5, True, 25, 52, 1, 9]"
            ]
          },
          "execution_count": 90,
          "metadata": {},
          "output_type": "execute_result"
        }
      ],
      "source": [
        "S = ['Akshay', 25, 75.5, True, 25, 52, 1, 9]\n",
        "S"
      ]
    },
    {
      "cell_type": "markdown",
      "metadata": {
        "id": "tXTJulx-ffAo"
      },
      "source": [
        "### Slicing Operation\n",
        "Accessing\n",
        "\n",
        "Adding\n",
        "\n",
        "Changing\n",
        "\n",
        "Deleting\n",
        "\n",
        "### <font color=red>variable<font/> <font color=green>[ start : end<font/> :<font color=red>step<font/> <font color=green>]<font/>"
      ]
    },
    {
      "cell_type": "code",
      "execution_count": null,
      "metadata": {
        "id": "ncD7srz2ffAp",
        "outputId": "b20ee341-a23a-4556-ea33-25b68a8545f8"
      },
      "outputs": [
        {
          "data": {
            "text/plain": [
              "'Akshay'"
            ]
          },
          "execution_count": 91,
          "metadata": {},
          "output_type": "execute_result"
        }
      ],
      "source": [
        "S[0]"
      ]
    },
    {
      "cell_type": "code",
      "execution_count": null,
      "metadata": {
        "id": "zRH5e5z1ffAp",
        "outputId": "61f85f9c-0f9e-45fd-f221-361556bc0424"
      },
      "outputs": [
        {
          "data": {
            "text/plain": [
              "['Akshay', 75.5, 25, 1]"
            ]
          },
          "execution_count": 94,
          "metadata": {},
          "output_type": "execute_result"
        }
      ],
      "source": [
        "S[::2]"
      ]
    },
    {
      "cell_type": "code",
      "execution_count": null,
      "metadata": {
        "id": "SfotyjFoffAq",
        "outputId": "7a1e377a-6eb6-4101-d078-6fa88e20f07f"
      },
      "outputs": [
        {
          "data": {
            "text/plain": [
              "[1, 25, 75.5]"
            ]
          },
          "execution_count": 95,
          "metadata": {},
          "output_type": "execute_result"
        }
      ],
      "source": [
        "S[-2:-8:-2]"
      ]
    },
    {
      "cell_type": "code",
      "execution_count": null,
      "metadata": {
        "id": "H6wXrDlWffAq",
        "outputId": "add2455e-36d0-40c8-9d84-7c1b962c7847"
      },
      "outputs": [
        {
          "data": {
            "text/plain": [
              "['Akshay', 25, 75.5, True, 'Added element', 52, 1, 9]"
            ]
          },
          "execution_count": 96,
          "metadata": {},
          "output_type": "execute_result"
        }
      ],
      "source": [
        "# Adding element\n",
        "S[4] = \"Added element\"\n",
        "S"
      ]
    },
    {
      "cell_type": "code",
      "execution_count": null,
      "metadata": {
        "id": "8_WPB6R0ffAr",
        "outputId": "f54fd291-4441-4bd5-db66-37c74156e434"
      },
      "outputs": [
        {
          "data": {
            "text/plain": [
              "['Google',\n",
              " 25,\n",
              " 75.5,\n",
              " True,\n",
              " 'Added element',\n",
              " 52,\n",
              " 1,\n",
              " 9,\n",
              " 5,\n",
              " 3,\n",
              " 'Different list',\n",
              " 5,\n",
              " 3,\n",
              " 'Different list',\n",
              " 5,\n",
              " 3,\n",
              " 'Different list']"
            ]
          },
          "execution_count": 100,
          "metadata": {},
          "output_type": "execute_result"
        }
      ],
      "source": [
        "# Adding element\n",
        "x=[5,3,'Different list']\n",
        "\n",
        "S=S+x\n",
        "S"
      ]
    },
    {
      "cell_type": "code",
      "execution_count": null,
      "metadata": {
        "id": "szWB_zkaffAr",
        "outputId": "7d7f990f-0542-4950-8d98-df1e4013448b"
      },
      "outputs": [
        {
          "data": {
            "text/plain": [
              "['Google',\n",
              " 25,\n",
              " 75.5,\n",
              " True,\n",
              " 'Added element',\n",
              " 52,\n",
              " 1,\n",
              " 9,\n",
              " 5,\n",
              " 3,\n",
              " 'Different list',\n",
              " 5,\n",
              " 3,\n",
              " 'Different list',\n",
              " 5,\n",
              " 3,\n",
              " 'Different list']"
            ]
          },
          "execution_count": 101,
          "metadata": {},
          "output_type": "execute_result"
        }
      ],
      "source": [
        "# Changing 0rth index element\n",
        "S[0]=\"Google\"\n",
        "S"
      ]
    },
    {
      "cell_type": "code",
      "execution_count": null,
      "metadata": {
        "id": "eSCq3SxwffAr"
      },
      "outputs": [],
      "source": [
        "S[1] = [23]"
      ]
    },
    {
      "cell_type": "code",
      "execution_count": null,
      "metadata": {
        "id": "VjDIBjN1ffAr"
      },
      "outputs": [],
      "source": [
        "# Deleting the list\n",
        "del(S)"
      ]
    },
    {
      "cell_type": "markdown",
      "metadata": {
        "id": "Gi3WlrfiffAs"
      },
      "source": [
        "### List methods\n",
        "#### <font color=green>1.append( )<font/>,                                               <font color=green>2.extend( )<font/>\n",
        "#### <font color=green>3.count( )<font/>,                                                <font color=green>4.index( )<font/>\n",
        "#### <font color=green>5.insert( )<font/>,                                               <font color=green>6.remove( )<font/>\n",
        "#### <font color=green>7.pop( )<font/>,                                                  <font color=green>8.reverse( )<font/>"
      ]
    },
    {
      "cell_type": "code",
      "execution_count": null,
      "metadata": {
        "id": "NRc9Wl_vffAs"
      },
      "outputs": [],
      "source": [
        "X = [1, 2, 3, 4, 5, 6,7]"
      ]
    },
    {
      "cell_type": "code",
      "execution_count": null,
      "metadata": {
        "id": "l2eKtF0MffAs",
        "outputId": "78180afa-0449-4842-c9dd-c786ea159abe"
      },
      "outputs": [
        {
          "data": {
            "text/plain": [
              "[1, 2, 3, 4, 5, 6, 7, 'Akshay']"
            ]
          },
          "execution_count": 106,
          "metadata": {},
          "output_type": "execute_result"
        }
      ],
      "source": [
        "# Append method: Appending a new elemnent\n",
        "X.append('Akshay')\n",
        "X"
      ]
    },
    {
      "cell_type": "code",
      "execution_count": null,
      "metadata": {
        "id": "1RXTj6aLffAs",
        "outputId": "2393d82a-8fad-4e60-91b5-d45a2739fc71"
      },
      "outputs": [
        {
          "data": {
            "text/plain": [
              "[1, 2, 3, 4, 5, 6, 7, 'Akshay', 2, 3, 2, 4, 5, 6]"
            ]
          },
          "execution_count": 107,
          "metadata": {},
          "output_type": "execute_result"
        }
      ],
      "source": [
        "# Extend method: Extending a tuple with other tuple\n",
        "Y = [2, 3, 2, 4, 5, 6]\n",
        "\n",
        "X.extend(Y)\n",
        "X"
      ]
    },
    {
      "cell_type": "code",
      "execution_count": null,
      "metadata": {
        "id": "WSzZ09vnffAt",
        "outputId": "70a66b14-f73a-4e7f-f2fa-3e2146efc5a9"
      },
      "outputs": [
        {
          "data": {
            "text/plain": [
              "3"
            ]
          },
          "execution_count": 108,
          "metadata": {},
          "output_type": "execute_result"
        }
      ],
      "source": [
        "# Count method : Counting the number of occurance\n",
        "X.count(2)"
      ]
    },
    {
      "cell_type": "code",
      "execution_count": null,
      "metadata": {
        "id": "wGbPUUhCffAt",
        "outputId": "1e397e3b-e305-4061-b084-b66f6d0419a3"
      },
      "outputs": [
        {
          "data": {
            "text/plain": [
              "7"
            ]
          },
          "execution_count": 109,
          "metadata": {},
          "output_type": "execute_result"
        }
      ],
      "source": [
        "# Index method\n",
        "X.index('Akshay')"
      ]
    },
    {
      "cell_type": "code",
      "execution_count": null,
      "metadata": {
        "id": "cmwRr7QnffAt",
        "outputId": "41f95805-9585-48f8-9262-f4436a32316a"
      },
      "outputs": [
        {
          "data": {
            "text/plain": [
              "[1, 2, 3, 4, 5, 6, 7, 'Akshay', 'kumar']"
            ]
          },
          "execution_count": 110,
          "metadata": {},
          "output_type": "execute_result"
        }
      ],
      "source": [
        "# Insert method\n",
        "X =[1, 2, 3, 4, 5, 6, 7, 'Akshay']\n",
        "\n",
        "X.insert(8,'kumar')\n",
        "X"
      ]
    },
    {
      "cell_type": "code",
      "execution_count": null,
      "metadata": {
        "id": "m7IMMfR8ffAt",
        "outputId": "32cf1dfd-bd8d-43cf-aac4-250a7bad3f4a"
      },
      "outputs": [
        {
          "data": {
            "text/plain": [
              "[1, 2, 3, 4, 5, 6, 7, 'Akshay']"
            ]
          },
          "execution_count": 111,
          "metadata": {},
          "output_type": "execute_result"
        }
      ],
      "source": [
        "# Remove method\n",
        "X.remove('kumar')\n",
        "X"
      ]
    },
    {
      "cell_type": "code",
      "execution_count": null,
      "metadata": {
        "id": "lKgE4UNYffAu",
        "outputId": "ccbf3afa-584c-4bf9-82f0-7ded8b8e04cb"
      },
      "outputs": [
        {
          "data": {
            "text/plain": [
              "[2, 3, 45]"
            ]
          },
          "execution_count": 112,
          "metadata": {},
          "output_type": "execute_result"
        }
      ],
      "source": [
        "# Pop method : Deleting last value or by specifying index\n",
        "X =  ['Google', 1, 2, 3, [2, 3, 45] ]\n",
        "X.pop()"
      ]
    },
    {
      "cell_type": "code",
      "execution_count": null,
      "metadata": {
        "id": "3RrvaWHfffAu",
        "outputId": "418c9800-b4ea-42ad-f8d3-f0c6ca38c963"
      },
      "outputs": [
        {
          "data": {
            "text/plain": [
              "[1, 2, 3]"
            ]
          },
          "execution_count": 113,
          "metadata": {},
          "output_type": "execute_result"
        }
      ],
      "source": [
        "X.pop(0)\n",
        "X"
      ]
    },
    {
      "cell_type": "code",
      "execution_count": null,
      "metadata": {
        "id": "PDgiO2_xffAv",
        "outputId": "5286d9d2-40bd-434a-fc46-60dc643d9260"
      },
      "outputs": [
        {
          "data": {
            "text/plain": [
              "[10, 9, 8, 7, 6, 5, 4, 3, 2, 1]"
            ]
          },
          "execution_count": 114,
          "metadata": {},
          "output_type": "execute_result"
        }
      ],
      "source": [
        "# Reverse method\n",
        "X = [1, 2, 3, 4, 5, 6, 7, 8, 9, 10]\n",
        "X.reverse()\n",
        "X"
      ]
    },
    {
      "cell_type": "markdown",
      "metadata": {
        "id": "6m8bOfBAffAv"
      },
      "source": [
        "### List Function\n",
        "### <font color=green>1.len( )<font/>\n",
        "### <font color=green>2.max( )<font/>\n",
        "### <font color=green>3.min( )<font/>\n",
        "### <font color=green>4.sorted( )<font/>\n",
        "### <font color=green>5.list( )<font/>"
      ]
    },
    {
      "cell_type": "code",
      "execution_count": null,
      "metadata": {
        "id": "m82QK2lfffAw"
      },
      "outputs": [],
      "source": [
        "X = [1, 2, 3, 4, 5, 6, 7, 8, 9, 10]"
      ]
    },
    {
      "cell_type": "code",
      "execution_count": null,
      "metadata": {
        "id": "FTQt1KIbffAx",
        "outputId": "593573aa-2ced-4f18-cae0-75e05471a253"
      },
      "outputs": [
        {
          "data": {
            "text/plain": [
              "10"
            ]
          },
          "execution_count": 116,
          "metadata": {},
          "output_type": "execute_result"
        }
      ],
      "source": [
        "# len function:find the length of list\n",
        "len(X)"
      ]
    },
    {
      "cell_type": "code",
      "execution_count": null,
      "metadata": {
        "id": "FqKoK1H3ffAy",
        "outputId": "611fa8bf-60dd-4758-e794-72cfd6230a59"
      },
      "outputs": [
        {
          "data": {
            "text/plain": [
              "10"
            ]
          },
          "execution_count": 117,
          "metadata": {},
          "output_type": "execute_result"
        }
      ],
      "source": [
        "# max function: Gives the maximum value of tuple.\n",
        "max(X)"
      ]
    },
    {
      "cell_type": "code",
      "execution_count": null,
      "metadata": {
        "id": "POAtX-7xffAy",
        "outputId": "ebb65fae-6956-4bac-ca39-5894d7bd54b2"
      },
      "outputs": [
        {
          "data": {
            "text/plain": [
              "1"
            ]
          },
          "execution_count": 118,
          "metadata": {},
          "output_type": "execute_result"
        }
      ],
      "source": [
        "# min function: Gives the minimum value of tuple.\n",
        "min(X)"
      ]
    },
    {
      "cell_type": "code",
      "execution_count": null,
      "metadata": {
        "id": "669wS-8-ffAz"
      },
      "outputs": [],
      "source": [
        "# Ascending and descending order\n",
        "X = [2, 3, 8, 4, 6, 1, 6, 3, 5]"
      ]
    },
    {
      "cell_type": "code",
      "execution_count": null,
      "metadata": {
        "id": "1If8xd5VffAz",
        "outputId": "42d61ea8-a2a8-4573-e238-bbccbc823b26"
      },
      "outputs": [
        {
          "data": {
            "text/plain": [
              "[1, 2, 3, 3, 4, 5, 6, 6, 8]"
            ]
          },
          "execution_count": 128,
          "metadata": {},
          "output_type": "execute_result"
        }
      ],
      "source": [
        "# sorted function: Sorting the element in Ascending\n",
        "sorted(X)"
      ]
    },
    {
      "cell_type": "code",
      "execution_count": null,
      "metadata": {
        "id": "IhJXiK8pffAz",
        "outputId": "85473cdd-9c37-435a-f1cc-c8613fd24579"
      },
      "outputs": [
        {
          "data": {
            "text/plain": [
              "[8, 6, 6, 5, 4, 3, 3, 2, 1]"
            ]
          },
          "execution_count": 129,
          "metadata": {},
          "output_type": "execute_result"
        }
      ],
      "source": [
        "# sorted function: Sorting the element in descending\n",
        "sorted(X, reverse=True)"
      ]
    },
    {
      "cell_type": "code",
      "execution_count": null,
      "metadata": {
        "id": "SGYV7agaffA0",
        "outputId": "ee1bc4c0-8c0f-4814-ce1c-dbff8418f70e"
      },
      "outputs": [
        {
          "data": {
            "text/plain": [
              "[5, 3, 6, 1, 6, 4, 8, 3, 2]"
            ]
          },
          "execution_count": 130,
          "metadata": {},
          "output_type": "execute_result"
        }
      ],
      "source": [
        "# Reverse order\n",
        "X[::-1]"
      ]
    },
    {
      "cell_type": "code",
      "execution_count": null,
      "metadata": {
        "id": "I3yzWyq6ffA0",
        "outputId": "3b4ad451-8b5b-47f5-a9d5-9d9fa28ee04c"
      },
      "outputs": [
        {
          "data": {
            "text/plain": [
              "[2, 3, 8, 4, 6, 1, 6, 3, 5]"
            ]
          },
          "execution_count": 131,
          "metadata": {},
          "output_type": "execute_result"
        }
      ],
      "source": [
        "# list function: Converting other data type into list type.\n",
        "list(X)"
      ]
    },
    {
      "cell_type": "markdown",
      "metadata": {
        "id": "8YAHvJE8ffA0"
      },
      "source": [
        "### User input in list\n",
        "P = [ ]\n",
        "\n",
        "X = input('Enter element')\n",
        "\n",
        "P.append(X)"
      ]
    },
    {
      "cell_type": "code",
      "execution_count": null,
      "metadata": {
        "id": "lnikXJH9ffA0",
        "outputId": "90eb583a-0f82-4235-a57e-efda122ca7b6"
      },
      "outputs": [
        {
          "name": "stdout",
          "output_type": "stream",
          "text": [
            "Enter number of element6\n",
            "Enter the element1\n",
            "Enter the element2\n",
            "Enter the element6\n",
            "Enter the element3\n",
            "Enter the element5\n",
            "Enter the element1\n",
            "['1', '2', '6', '3', '5', '1']\n"
          ]
        }
      ],
      "source": [
        "P = [ ]\n",
        "\n",
        "a = (int)(input('Enter number of element'))   # 1st input: How many numbers user want to enter\n",
        "n=1\n",
        "\n",
        "while n<=a:\n",
        "    X=input('Enter the element')   # 2nd input: Enter the element\n",
        "    P.append(X)\n",
        "    n=n+1\n",
        "\n",
        "print(P)"
      ]
    },
    {
      "cell_type": "markdown",
      "metadata": {
        "id": "nWQI3RXiffA1"
      },
      "source": [
        "## <font color=red>3. Dictionary<font/>\n",
        "\n",
        "Dictionary is an unordered collection of data type that stores values in the form of key and value\n",
        "\n",
        "    \n",
        "Dictionary is mutable data type where keys can not be changed but values can be changed, repeated or updated . Use: { }. values are stored in curly bracket."
      ]
    },
    {
      "cell_type": "code",
      "execution_count": null,
      "metadata": {
        "id": "ISleBdfxffA2"
      },
      "outputs": [],
      "source": [
        "X = {'Name':'Akshay', 'Age':23, 12:'class'}\n",
        "X"
      ]
    },
    {
      "cell_type": "markdown",
      "metadata": {
        "id": "5Mbzhle6ffA2"
      },
      "source": [
        "### Slicing Operation\n",
        "Accessing\n",
        "\n",
        "Adding\n",
        "\n",
        "Changing\n",
        "\n",
        "Deleting"
      ]
    },
    {
      "cell_type": "code",
      "execution_count": null,
      "metadata": {
        "id": "EFqeW31lffA3"
      },
      "outputs": [],
      "source": [
        "# Accessing\n",
        "X['Name']"
      ]
    },
    {
      "cell_type": "code",
      "execution_count": null,
      "metadata": {
        "id": "4Kmkoa9-ffA4"
      },
      "outputs": [],
      "source": [
        "# Adding\n",
        "X['Marks'] = 600\n",
        "X"
      ]
    },
    {
      "cell_type": "code",
      "execution_count": null,
      "metadata": {
        "id": "A_KEO9g5ffA4"
      },
      "outputs": [],
      "source": [
        "# Changing\n",
        "X['Name'] = \"Amit\"\n",
        "X"
      ]
    },
    {
      "cell_type": "code",
      "execution_count": null,
      "metadata": {
        "id": "BL_pbLJ3ffA4"
      },
      "outputs": [],
      "source": [
        "# Deleting\n",
        "del(X)"
      ]
    },
    {
      "cell_type": "markdown",
      "metadata": {
        "id": "LUSV9E15ffA5"
      },
      "source": [
        "### Dictionary methods\n",
        "#### <font color=green>1.copy( )<font/>,                                                 <font color=green>2.get( )<font/>\n",
        "#### <font color=green>3.setdefault( )<font/>,                                           <font color=green>4.keys( )<font/>\n",
        "#### <font color=green>5.values( )<font/>,                                               <font color=green>6.Update( )<font/>\n",
        "#### <font color=green>7.items( )<font/>,                                                <font color=green>8.clear( )<font/>"
      ]
    },
    {
      "cell_type": "code",
      "execution_count": null,
      "metadata": {
        "id": "Z6zO-LHbffA5",
        "outputId": "c16f62f7-bb91-4186-fffe-ff88b95543a6"
      },
      "outputs": [
        {
          "data": {
            "text/plain": [
              "{'Name': 'Akshay', 'Age': 23, 12: 'class'}"
            ]
          },
          "execution_count": 133,
          "metadata": {},
          "output_type": "execute_result"
        }
      ],
      "source": [
        "# Copy method\n",
        "X = {'Name':'Akshay', 'Age':23, 12:'class'}\n",
        "\n",
        "Y=X.copy()\n",
        "Y"
      ]
    },
    {
      "cell_type": "code",
      "execution_count": null,
      "metadata": {
        "id": "IC6S5FC3ffA6",
        "outputId": "64316881-4680-42f9-a8a7-210247cc3988"
      },
      "outputs": [
        {
          "data": {
            "text/plain": [
              "'Akshay'"
            ]
          },
          "execution_count": 134,
          "metadata": {},
          "output_type": "execute_result"
        }
      ],
      "source": [
        "# Get method\n",
        "X.get('Name')"
      ]
    },
    {
      "cell_type": "code",
      "execution_count": null,
      "metadata": {
        "id": "f9IDCviwffA6",
        "outputId": "9ab5d071-b337-4e03-efb3-fea1a5f5c600"
      },
      "outputs": [
        {
          "data": {
            "text/plain": [
              "'Unknown value'"
            ]
          },
          "execution_count": 136,
          "metadata": {},
          "output_type": "execute_result"
        }
      ],
      "source": [
        "X.get('xyz','Unknown value')"
      ]
    },
    {
      "cell_type": "code",
      "execution_count": null,
      "metadata": {
        "id": "Finqy1qCffA7",
        "outputId": "ab05927c-0bc3-4b92-c0c1-1987abde048d"
      },
      "outputs": [
        {
          "data": {
            "text/plain": [
              "'Unknown value'"
            ]
          },
          "execution_count": 137,
          "metadata": {},
          "output_type": "execute_result"
        }
      ],
      "source": [
        "# Setdefault\n",
        "X.setdefault('xyz','Unknown value')"
      ]
    },
    {
      "cell_type": "code",
      "execution_count": null,
      "metadata": {
        "id": "Mgg1xfdrffA7",
        "outputId": "9d8c7b68-dba8-4f9e-8e24-0f93528646bd"
      },
      "outputs": [
        {
          "data": {
            "text/plain": [
              "{'Name': 'Akshay', 'Age': 23, 12: 'class', 'xyz': 'Unknown value'}"
            ]
          },
          "execution_count": 138,
          "metadata": {},
          "output_type": "execute_result"
        }
      ],
      "source": [
        "X"
      ]
    },
    {
      "cell_type": "code",
      "execution_count": null,
      "metadata": {
        "id": "C__lnI-jffA8",
        "outputId": "378b872a-c2ad-4d20-fcca-a149e1c2faec"
      },
      "outputs": [
        {
          "data": {
            "text/plain": [
              "dict_keys(['Name', 'Age', 12, 'xyz'])"
            ]
          },
          "execution_count": 142,
          "metadata": {},
          "output_type": "execute_result"
        }
      ],
      "source": [
        "# Key method\n",
        "X.keys()"
      ]
    },
    {
      "cell_type": "code",
      "execution_count": null,
      "metadata": {
        "id": "_H-CWcETffA8",
        "outputId": "fff6a84b-5fe4-4c3f-d677-48178f20bc02"
      },
      "outputs": [
        {
          "data": {
            "text/plain": [
              "dict_values(['Akshay', 23, 'class', 'Unknown value'])"
            ]
          },
          "execution_count": 143,
          "metadata": {},
          "output_type": "execute_result"
        }
      ],
      "source": [
        "# Value method\n",
        "X.values()"
      ]
    },
    {
      "cell_type": "code",
      "execution_count": null,
      "metadata": {
        "id": "PdaLBJRyffA8",
        "outputId": "5701f1d6-9e3c-4580-d122-130d3d48e578"
      },
      "outputs": [
        {
          "data": {
            "text/plain": [
              "dict_items([('Name', 'Akshay'), ('Age', 23), (12, 'class'), ('xyz', 'Unknown value')])"
            ]
          },
          "execution_count": 144,
          "metadata": {},
          "output_type": "execute_result"
        }
      ],
      "source": [
        "# Item method\n",
        "X.items()"
      ]
    },
    {
      "cell_type": "code",
      "execution_count": null,
      "metadata": {
        "id": "4PieFBEEffA9",
        "outputId": "72a7a46d-bdf1-46c5-ae97-954ab3c99950"
      },
      "outputs": [
        {
          "data": {
            "text/plain": [
              "{'Name': 'Akshay',\n",
              " 'Age': 23,\n",
              " 12: 'class',\n",
              " 'xyz': 'Unknown value',\n",
              " 'city': 'New Delhi'}"
            ]
          },
          "execution_count": 145,
          "metadata": {},
          "output_type": "execute_result"
        }
      ],
      "source": [
        "# Append method\n",
        "S = {'city':'New Delhi'}\n",
        "\n",
        "X.update(S)\n",
        "X"
      ]
    },
    {
      "cell_type": "code",
      "execution_count": null,
      "metadata": {
        "id": "IoAnv4guffA-",
        "outputId": "c0021f22-47c1-4efa-d1c2-41ced89320b3"
      },
      "outputs": [
        {
          "data": {
            "text/plain": [
              "{}"
            ]
          },
          "execution_count": 146,
          "metadata": {},
          "output_type": "execute_result"
        }
      ],
      "source": [
        "# clear method\n",
        "X.clear()\n",
        "X"
      ]
    },
    {
      "cell_type": "markdown",
      "metadata": {
        "id": "SLumDpgmffA-"
      },
      "source": [
        "### Dictionary Function\n",
        "### <font color=green>1.len( )<font/>\n",
        "### <font color=green>2.max( )<font/>\n",
        "### <font color=green>3.min( )<font/>\n",
        "### <font color=green>4.str( )<font/>\n",
        "### <font color=green>4.dict( )<font/>"
      ]
    },
    {
      "cell_type": "code",
      "execution_count": null,
      "metadata": {
        "id": "Vl-1JORGffA-"
      },
      "outputs": [],
      "source": [
        "# Dictionary\n",
        "X = {'Name':'Akshay', 'Age':23, 12:'class'}"
      ]
    },
    {
      "cell_type": "code",
      "execution_count": null,
      "metadata": {
        "id": "feqe15uuffA_",
        "outputId": "946ed5eb-c01e-40ef-fcff-c3e97c1a4b2d"
      },
      "outputs": [
        {
          "data": {
            "text/plain": [
              "3"
            ]
          },
          "execution_count": 148,
          "metadata": {},
          "output_type": "execute_result"
        }
      ],
      "source": [
        "# len function\n",
        "len(X)"
      ]
    },
    {
      "cell_type": "code",
      "execution_count": null,
      "metadata": {
        "id": "zBFp-1TfffA_",
        "outputId": "44b02421-6038-4033-f713-272fd4a842e7"
      },
      "outputs": [
        {
          "data": {
            "text/plain": [
              "\"{'Name': 'Akshay', 'Age': 23, 12: 'class'}\""
            ]
          },
          "execution_count": 149,
          "metadata": {},
          "output_type": "execute_result"
        }
      ],
      "source": [
        "# Str function\n",
        "str(X)"
      ]
    },
    {
      "cell_type": "code",
      "execution_count": null,
      "metadata": {
        "id": "BRpTweJOffBA",
        "outputId": "261f676f-9131-4e02-d857-9b99c14d8d65"
      },
      "outputs": [
        {
          "data": {
            "text/plain": [
              "{'Name': 'Akshay', 'Age': 23, 12: 'class'}"
            ]
          },
          "execution_count": 150,
          "metadata": {},
          "output_type": "execute_result"
        }
      ],
      "source": [
        "# Dict method: converting other datatypes to dictionary\n",
        "dict(X)\n",
        "X"
      ]
    },
    {
      "cell_type": "markdown",
      "metadata": {
        "id": "Ntfs0ncgffBB"
      },
      "source": [
        "## <font color=red>4. Set<font/>\n",
        "\n",
        "Set is an unordered and non-indexed collection data type in python.\n",
        "\n",
        "    \n",
        "Set is not changeable but we can add new elements"
      ]
    },
    {
      "cell_type": "code",
      "execution_count": null,
      "metadata": {
        "id": "bbVqeITdffBC"
      },
      "outputs": [],
      "source": [
        "X = {'Akshay', 325, 50.36}"
      ]
    },
    {
      "cell_type": "code",
      "execution_count": null,
      "metadata": {
        "id": "STb7x_xlffBC"
      },
      "outputs": [],
      "source": [
        "# Packing and unpacking\n",
        "a, b, c = {64, 38, 61}\n"
      ]
    },
    {
      "cell_type": "code",
      "execution_count": null,
      "metadata": {
        "id": "2DmezijdffBD",
        "outputId": "d0a3e096-2c5b-400a-8b8f-de9180fb317b"
      },
      "outputs": [
        {
          "data": {
            "text/plain": [
              "64"
            ]
          },
          "execution_count": 153,
          "metadata": {},
          "output_type": "execute_result"
        }
      ],
      "source": [
        "a"
      ]
    },
    {
      "cell_type": "markdown",
      "metadata": {
        "id": "tttCVtcdffBD"
      },
      "source": [
        "### Operation\n",
        "Accessing\n",
        "\n",
        "Adding\n",
        "\n",
        "Changing --> Not changeable\n",
        "\n",
        "Deleting"
      ]
    },
    {
      "cell_type": "code",
      "execution_count": null,
      "metadata": {
        "id": "Lg9142IMffBE",
        "outputId": "4b8e2058-7363-43e0-de5a-905383bd3a54"
      },
      "outputs": [
        {
          "data": {
            "text/plain": [
              "{2.5, 6, 12, 21, 25, 63}"
            ]
          },
          "execution_count": 154,
          "metadata": {},
          "output_type": "execute_result"
        }
      ],
      "source": [
        "X = {12, 6, 25, 63, 21,2.5}\n",
        "X"
      ]
    },
    {
      "cell_type": "code",
      "execution_count": null,
      "metadata": {
        "id": "G1NLEFcjffBE",
        "outputId": "81c95ac0-7f3d-4931-865d-9bef84e34c4a"
      },
      "outputs": [
        {
          "ename": "TypeError",
          "evalue": "'set' object is not subscriptable",
          "output_type": "error",
          "traceback": [
            "\u001b[1;31m---------------------------------------------------------------------------\u001b[0m",
            "\u001b[1;31mTypeError\u001b[0m                                 Traceback (most recent call last)",
            "\u001b[1;32m<ipython-input-155-0641941bd7c3>\u001b[0m in \u001b[0;36m<module>\u001b[1;34m\u001b[0m\n\u001b[0;32m      1\u001b[0m \u001b[1;31m# No slicing operation\u001b[0m\u001b[1;33m\u001b[0m\u001b[1;33m\u001b[0m\u001b[1;33m\u001b[0m\u001b[0m\n\u001b[1;32m----> 2\u001b[1;33m \u001b[0mX\u001b[0m\u001b[1;33m[\u001b[0m\u001b[1;36m0\u001b[0m\u001b[1;33m]\u001b[0m\u001b[1;33m\u001b[0m\u001b[1;33m\u001b[0m\u001b[0m\n\u001b[0m",
            "\u001b[1;31mTypeError\u001b[0m: 'set' object is not subscriptable"
          ]
        }
      ],
      "source": [
        "# No slicing operation\n",
        "X[0]"
      ]
    },
    {
      "cell_type": "code",
      "execution_count": null,
      "metadata": {
        "id": "w-2lGa48ffBF",
        "outputId": "f390a37a-ae47-4ee5-90e1-79f9116b64f2"
      },
      "outputs": [
        {
          "ename": "NameError",
          "evalue": "name 'X' is not defined",
          "output_type": "error",
          "traceback": [
            "\u001b[1;31m---------------------------------------------------------------------------\u001b[0m",
            "\u001b[1;31mNameError\u001b[0m                                 Traceback (most recent call last)",
            "\u001b[1;32m<ipython-input-157-3f2f232f19d7>\u001b[0m in \u001b[0;36m<module>\u001b[1;34m\u001b[0m\n\u001b[0;32m      1\u001b[0m \u001b[1;31m# Deletion\u001b[0m\u001b[1;33m\u001b[0m\u001b[1;33m\u001b[0m\u001b[1;33m\u001b[0m\u001b[0m\n\u001b[1;32m----> 2\u001b[1;33m \u001b[1;32mdel\u001b[0m\u001b[1;33m(\u001b[0m\u001b[0mX\u001b[0m\u001b[1;33m)\u001b[0m\u001b[1;33m\u001b[0m\u001b[1;33m\u001b[0m\u001b[0m\n\u001b[0m",
            "\u001b[1;31mNameError\u001b[0m: name 'X' is not defined"
          ]
        }
      ],
      "source": [
        "# Deletion\n",
        "del(X)"
      ]
    },
    {
      "cell_type": "markdown",
      "metadata": {
        "id": "dBxB2Fj-ffBF"
      },
      "source": [
        "### Set methods\n",
        "#### <font color=green>1.update( )<font/>,                                                 <font color=green>2.remove( )<font/>\n",
        "#### <font color=green>3.discard( )<font/>,                                 <font color=green>4.symmetric_difference( )<font/>\n",
        "#### <font color=green>5.union( )<font/>,                                         <font color=green>6.intersection( )<font/>\n",
        "#### <font color=green>7.difference( )<font/>,                                          <font color=green>8.clear( )<font/>\n",
        "#### <font color=green>8.clear( )<font/>"
      ]
    },
    {
      "cell_type": "code",
      "execution_count": null,
      "metadata": {
        "id": "8eW50eRhffBF",
        "outputId": "3e2e2277-9614-4dd1-ed86-69d636276ea1"
      },
      "outputs": [
        {
          "data": {
            "text/plain": [
              "{10, 12, 25, 35, 65, 68, 100, 1000}"
            ]
          },
          "execution_count": 158,
          "metadata": {},
          "output_type": "execute_result"
        }
      ],
      "source": [
        "# Update method\n",
        "X={12,35,25,68}\n",
        "Y={25,65,100,10,1000}\n",
        "\n",
        "X.update(Y)\n",
        "X"
      ]
    },
    {
      "cell_type": "code",
      "execution_count": null,
      "metadata": {
        "id": "Q1cKULRkffBF",
        "outputId": "6df63e1b-f041-44de-b08d-4b0108310208"
      },
      "outputs": [
        {
          "data": {
            "text/plain": [
              "{10, 25, 65, 100, 1000, 2500}"
            ]
          },
          "execution_count": 159,
          "metadata": {},
          "output_type": "execute_result"
        }
      ],
      "source": [
        "# add method\n",
        "Y.add(2500)\n",
        "Y"
      ]
    },
    {
      "cell_type": "code",
      "execution_count": null,
      "metadata": {
        "id": "G4Tezi1BffBG",
        "outputId": "59c5bcf3-4bba-46fc-a598-321f78151c1f"
      },
      "outputs": [
        {
          "data": {
            "text/plain": [
              "{10, 25, 65, 100, 2500}"
            ]
          },
          "execution_count": 160,
          "metadata": {},
          "output_type": "execute_result"
        }
      ],
      "source": [
        "# Remove method\n",
        "Y.remove(1000)\n",
        "Y"
      ]
    },
    {
      "cell_type": "code",
      "execution_count": null,
      "metadata": {
        "id": "Sd3bDHOHffBH",
        "outputId": "5fd05cbb-41c2-4e4f-aa48-7b64ae8387ac"
      },
      "outputs": [
        {
          "data": {
            "text/plain": [
              "65"
            ]
          },
          "execution_count": 161,
          "metadata": {},
          "output_type": "execute_result"
        }
      ],
      "source": [
        "# Pop method\n",
        "Y.pop()"
      ]
    },
    {
      "cell_type": "code",
      "execution_count": null,
      "metadata": {
        "id": "Z4YU_YJlffBI",
        "outputId": "cb4c7d90-2fc1-42cf-b458-49985e816420"
      },
      "outputs": [
        {
          "data": {
            "text/plain": [
              "{10, 25, 100}"
            ]
          },
          "execution_count": 163,
          "metadata": {},
          "output_type": "execute_result"
        }
      ],
      "source": [
        "# Discard method\n",
        "Y.discard(2500)\n",
        "Y"
      ]
    },
    {
      "cell_type": "code",
      "execution_count": null,
      "metadata": {
        "id": "38dfYGlzffBI",
        "outputId": "f5ea4a39-c346-4343-d54f-5fcef80d77e7"
      },
      "outputs": [
        {
          "data": {
            "text/plain": [
              "set()"
            ]
          },
          "execution_count": 164,
          "metadata": {},
          "output_type": "execute_result"
        }
      ],
      "source": [
        "# clear method\n",
        "Y.clear()\n",
        "Y"
      ]
    },
    {
      "cell_type": "code",
      "execution_count": null,
      "metadata": {
        "id": "sgZIG0m9ffBJ",
        "outputId": "cf325421-da07-4dfb-d2d9-b883d2cf2924"
      },
      "outputs": [
        {
          "data": {
            "text/plain": [
              "{10, 100, 1000, 12, 2, 25, 3, 35, 65, 68, 'G'}"
            ]
          },
          "execution_count": 165,
          "metadata": {},
          "output_type": "execute_result"
        }
      ],
      "source": [
        "# union method\n",
        "Y={2,3,'G',100}\n",
        "\n",
        "X.union(Y)"
      ]
    },
    {
      "cell_type": "code",
      "execution_count": null,
      "metadata": {
        "id": "IlrptET-ffBK",
        "outputId": "940f9ce5-2a11-4f63-cd1e-d8ea9e012358"
      },
      "outputs": [
        {
          "data": {
            "text/plain": [
              "{100}"
            ]
          },
          "execution_count": 166,
          "metadata": {},
          "output_type": "execute_result"
        }
      ],
      "source": [
        "# Intersection method\n",
        "X.intersection(Y)"
      ]
    },
    {
      "cell_type": "code",
      "execution_count": null,
      "metadata": {
        "id": "4YvVP4ELffBK",
        "outputId": "8b5ad093-cf4d-43b5-a2b0-e2c6fc6174ba"
      },
      "outputs": [
        {
          "data": {
            "text/plain": [
              "{10, 12, 25, 35, 65, 68, 1000}"
            ]
          },
          "execution_count": 167,
          "metadata": {},
          "output_type": "execute_result"
        }
      ],
      "source": [
        "# Difference method\n",
        "X.difference(Y)"
      ]
    },
    {
      "cell_type": "code",
      "execution_count": null,
      "metadata": {
        "id": "WyTR55l8ffBK",
        "outputId": "eb0417ef-3a56-4914-a4f8-2e63f54fc5a6"
      },
      "outputs": [
        {
          "data": {
            "text/plain": [
              "{10, 1000, 12, 2, 25, 3, 35, 65, 68, 'G'}"
            ]
          },
          "execution_count": 168,
          "metadata": {},
          "output_type": "execute_result"
        }
      ],
      "source": [
        "# Symmetric method\n",
        "X.symmetric_difference(Y)"
      ]
    },
    {
      "cell_type": "markdown",
      "metadata": {
        "id": "QGXjiFtJffBL"
      },
      "source": [
        "#### Difference between 'update( )' and 'add( )' method\n",
        "\n",
        "update([ ]), function is used to add more than one objects and add( ) is used to add only one objects.\n",
        "\n",
        "#### ' remove( )' and 'discard( )'\n",
        "\n",
        "Both are used to remove the values"
      ]
    },
    {
      "cell_type": "code",
      "execution_count": null,
      "metadata": {
        "id": "PK0rCozTffBL",
        "outputId": "61c60de2-787d-4641-f5af-9a2d81e415e4"
      },
      "outputs": [
        {
          "data": {
            "text/plain": [
              "{54, 60.25, 'Akshay', 'Developer', 'Kuamr', 'python'}"
            ]
          },
          "execution_count": 179,
          "metadata": {},
          "output_type": "execute_result"
        }
      ],
      "source": [
        "X = {'Akshay','Kuamr', 'python','Developer', 54, 60.25}\n",
        "X"
      ]
    },
    {
      "cell_type": "code",
      "execution_count": null,
      "metadata": {
        "id": "KqI1XEw6ffBL",
        "outputId": "fd4abd2d-fea1-4004-c9c9-e79579feb1b1"
      },
      "outputs": [
        {
          "name": "stdout",
          "output_type": "stream",
          "text": [
            "{'Developer', 'Akshay', 'Data scientist', 'Artificial inteligence engineer', 54, 'python', 'Kuamr', 60.25}\n"
          ]
        }
      ],
      "source": [
        "# Update method\n",
        "X.update(['Data scientist','Artificial inteligence engineer'])\n",
        "print(X)"
      ]
    },
    {
      "cell_type": "code",
      "execution_count": null,
      "metadata": {
        "id": "EHagAnu2ffBL",
        "outputId": "a2f396c5-29ad-4775-e7a3-3f025d559d61"
      },
      "outputs": [
        {
          "name": "stdout",
          "output_type": "stream",
          "text": [
            "{'Developer', 'Akshay', 'Data scientist', 'Artificial inteligence engineer', 54, 'python', 'Kuamr', 60.25, 'Cloud computing'}\n"
          ]
        }
      ],
      "source": [
        "# Add method\n",
        "X.add('Cloud computing')\n",
        "print(X)"
      ]
    },
    {
      "cell_type": "markdown",
      "metadata": {
        "id": "QH9s4_pVffBL"
      },
      "source": [
        "### Set Function\n",
        "### <font color=green>1.len( )<font/>\n",
        "### <font color=green>2.max( )<font/>\n",
        "### <font color=green>3.min( )<font/>\n",
        "### <font color=green>4.sorted( )<font/>\n",
        "### <font color=green>4.set( )<font/>"
      ]
    },
    {
      "cell_type": "code",
      "execution_count": null,
      "metadata": {
        "id": "FvOhrp0lffBM",
        "outputId": "2b6f673f-9469-405f-f0d1-bda2523f4cde"
      },
      "outputs": [
        {
          "data": {
            "text/plain": [
              "6"
            ]
          },
          "execution_count": 180,
          "metadata": {},
          "output_type": "execute_result"
        }
      ],
      "source": [
        "# len function\n",
        "len(X)"
      ]
    },
    {
      "cell_type": "code",
      "execution_count": null,
      "metadata": {
        "id": "YroGQ2AUffBM",
        "outputId": "c6f44c19-4e47-4f77-a3a2-182882548d48"
      },
      "outputs": [
        {
          "ename": "TypeError",
          "evalue": "'>' not supported between instances of 'int' and 'str'",
          "output_type": "error",
          "traceback": [
            "\u001b[1;31m---------------------------------------------------------------------------\u001b[0m",
            "\u001b[1;31mTypeError\u001b[0m                                 Traceback (most recent call last)",
            "\u001b[1;32m<ipython-input-181-9a884ac4d686>\u001b[0m in \u001b[0;36m<module>\u001b[1;34m\u001b[0m\n\u001b[0;32m      1\u001b[0m \u001b[1;31m# Max function\u001b[0m\u001b[1;33m\u001b[0m\u001b[1;33m\u001b[0m\u001b[1;33m\u001b[0m\u001b[0m\n\u001b[1;32m----> 2\u001b[1;33m \u001b[0mmax\u001b[0m\u001b[1;33m(\u001b[0m\u001b[0mX\u001b[0m\u001b[1;33m)\u001b[0m\u001b[1;33m\u001b[0m\u001b[1;33m\u001b[0m\u001b[0m\n\u001b[0m",
            "\u001b[1;31mTypeError\u001b[0m: '>' not supported between instances of 'int' and 'str'"
          ]
        }
      ],
      "source": [
        "# Max function\n",
        "max(X)"
      ]
    },
    {
      "cell_type": "code",
      "execution_count": null,
      "metadata": {
        "id": "b1oHhM5YffBM",
        "outputId": "22545a37-d424-4961-f9fd-10270a35ae15"
      },
      "outputs": [
        {
          "ename": "TypeError",
          "evalue": "'<' not supported between instances of 'int' and 'str'",
          "output_type": "error",
          "traceback": [
            "\u001b[1;31m---------------------------------------------------------------------------\u001b[0m",
            "\u001b[1;31mTypeError\u001b[0m                                 Traceback (most recent call last)",
            "\u001b[1;32m<ipython-input-182-1a3b6eac23fc>\u001b[0m in \u001b[0;36m<module>\u001b[1;34m\u001b[0m\n\u001b[0;32m      1\u001b[0m \u001b[1;31m# Min function\u001b[0m\u001b[1;33m\u001b[0m\u001b[1;33m\u001b[0m\u001b[1;33m\u001b[0m\u001b[0m\n\u001b[1;32m----> 2\u001b[1;33m \u001b[0mmin\u001b[0m\u001b[1;33m(\u001b[0m\u001b[0mX\u001b[0m\u001b[1;33m)\u001b[0m\u001b[1;33m\u001b[0m\u001b[1;33m\u001b[0m\u001b[0m\n\u001b[0m",
            "\u001b[1;31mTypeError\u001b[0m: '<' not supported between instances of 'int' and 'str'"
          ]
        }
      ],
      "source": [
        "# Min function\n",
        "min(X)"
      ]
    },
    {
      "cell_type": "code",
      "execution_count": null,
      "metadata": {
        "id": "TDfqEZGaffBM",
        "outputId": "297b4e73-e450-4919-c7ca-12dbe4714744"
      },
      "outputs": [
        {
          "ename": "TypeError",
          "evalue": "'<' not supported between instances of 'int' and 'str'",
          "output_type": "error",
          "traceback": [
            "\u001b[1;31m---------------------------------------------------------------------------\u001b[0m",
            "\u001b[1;31mTypeError\u001b[0m                                 Traceback (most recent call last)",
            "\u001b[1;32m<ipython-input-183-2e582dabbe51>\u001b[0m in \u001b[0;36m<module>\u001b[1;34m\u001b[0m\n\u001b[0;32m      1\u001b[0m \u001b[1;31m# Sorted function\u001b[0m\u001b[1;33m\u001b[0m\u001b[1;33m\u001b[0m\u001b[1;33m\u001b[0m\u001b[0m\n\u001b[1;32m----> 2\u001b[1;33m \u001b[0msorted\u001b[0m\u001b[1;33m(\u001b[0m\u001b[0mX\u001b[0m\u001b[1;33m)\u001b[0m\u001b[1;33m\u001b[0m\u001b[1;33m\u001b[0m\u001b[0m\n\u001b[0m",
            "\u001b[1;31mTypeError\u001b[0m: '<' not supported between instances of 'int' and 'str'"
          ]
        }
      ],
      "source": [
        "# Sorted function\n",
        "sorted(X)"
      ]
    },
    {
      "cell_type": "code",
      "execution_count": null,
      "metadata": {
        "id": "hn92wlNoffBN",
        "outputId": "d9dc45b8-3b1e-46ec-c55d-3e10edbbda49"
      },
      "outputs": [
        {
          "data": {
            "text/plain": [
              "{54, 60.25, 'Akshay', 'Developer', 'Kuamr', 'python'}"
            ]
          },
          "execution_count": 184,
          "metadata": {},
          "output_type": "execute_result"
        }
      ],
      "source": [
        "# Set function\n",
        "set(X)"
      ]
    },
    {
      "cell_type": "markdown",
      "metadata": {
        "id": "BUthawKFffBN"
      },
      "source": [
        "# Python String\n",
        "\n",
        "- String is a sequence of character which consist character within single quotes(  ‘  ‘  ), double quotes(  “  “ ) or triple quotes(  ‘”  ‘”  ) or it can be blank.\n",
        "- String is an immutable data structure that means it can not be changed."
      ]
    },
    {
      "cell_type": "code",
      "execution_count": null,
      "metadata": {
        "id": "x8LUqKACffBN",
        "outputId": "a402ec33-6792-4af1-f60c-66fc371a52c9"
      },
      "outputs": [
        {
          "data": {
            "text/plain": [
              "'Artificial intelligence'"
            ]
          },
          "execution_count": 185,
          "metadata": {},
          "output_type": "execute_result"
        }
      ],
      "source": [
        "S = \"Artificial intelligence\"\n",
        "S"
      ]
    },
    {
      "cell_type": "markdown",
      "metadata": {
        "id": "81p4KTZxffBP"
      },
      "source": [
        "# String Operation\n",
        "\n",
        "- Accessing\n",
        "- Adding\n",
        "- Changing\n",
        "- Deleting"
      ]
    },
    {
      "cell_type": "code",
      "execution_count": null,
      "metadata": {
        "id": "6XZqFmfAffBQ",
        "outputId": "b8c9102e-5c97-408e-d546-cf690b4bf102"
      },
      "outputs": [
        {
          "data": {
            "text/plain": [
              "'A'"
            ]
          },
          "execution_count": 186,
          "metadata": {},
          "output_type": "execute_result"
        }
      ],
      "source": [
        "# By Slicing operation we can access the element of objects.\n",
        "S[0]"
      ]
    },
    {
      "cell_type": "code",
      "execution_count": null,
      "metadata": {
        "id": "Ptacd-9XffBQ",
        "outputId": "1949fc2a-bf83-4da2-c651-7ca7fcdffaae"
      },
      "outputs": [
        {
          "data": {
            "text/plain": [
              "'Akshay kumar Artificial intelligence'"
            ]
          },
          "execution_count": 188,
          "metadata": {},
          "output_type": "execute_result"
        }
      ],
      "source": [
        "# Concatenating two or more string object.\n",
        "A = 'Akshay kumar '\n",
        "\n",
        "A+S"
      ]
    },
    {
      "cell_type": "code",
      "execution_count": null,
      "metadata": {
        "id": "X6UYy2zUffBR",
        "outputId": "263e5a2d-e5ae-484a-daef-eae80321e215"
      },
      "outputs": [
        {
          "data": {
            "text/plain": [
              "'Artificial intelligenceArtificial intelligenceArtificial intelligenceArtificial intelligence'"
            ]
          },
          "execution_count": 189,
          "metadata": {},
          "output_type": "execute_result"
        }
      ],
      "source": [
        "# Repentance\n",
        "S*4"
      ]
    },
    {
      "cell_type": "markdown",
      "metadata": {
        "id": "kq9-2o7fffBR"
      },
      "source": [
        "#### Slicing operation"
      ]
    },
    {
      "cell_type": "code",
      "execution_count": null,
      "metadata": {
        "id": "LWfpRebyffBS",
        "outputId": "5924e362-a963-4c39-b91d-b55420b8ddb6"
      },
      "outputs": [
        {
          "data": {
            "text/plain": [
              "'Akshay'"
            ]
          },
          "execution_count": 190,
          "metadata": {},
          "output_type": "execute_result"
        }
      ],
      "source": [
        "A[0:6]"
      ]
    },
    {
      "cell_type": "code",
      "execution_count": null,
      "metadata": {
        "id": "qB2EiGOQffBS",
        "outputId": "6d2df523-4cad-4304-b346-c5a9c4e36a37"
      },
      "outputs": [
        {
          "data": {
            "text/plain": [
              "'kumar '"
            ]
          },
          "execution_count": 191,
          "metadata": {},
          "output_type": "execute_result"
        }
      ],
      "source": [
        "A[7:]"
      ]
    },
    {
      "cell_type": "code",
      "execution_count": null,
      "metadata": {
        "id": "WY97Zvc8ffBT",
        "outputId": "5e464ca0-c871-46f6-d68d-6de1696124c1"
      },
      "outputs": [
        {
          "data": {
            "text/plain": [
              "'sa'"
            ]
          },
          "execution_count": 192,
          "metadata": {},
          "output_type": "execute_result"
        }
      ],
      "source": [
        "A[2:6:2]"
      ]
    },
    {
      "cell_type": "code",
      "execution_count": null,
      "metadata": {
        "id": "NSZGdjZZffBT",
        "outputId": "eef7272d-bfdd-425e-d44e-a44393e8197c"
      },
      "outputs": [
        {
          "data": {
            "text/plain": [
              "'hykmr'"
            ]
          },
          "execution_count": 193,
          "metadata": {},
          "output_type": "execute_result"
        }
      ],
      "source": [
        "A[3::2]"
      ]
    },
    {
      "cell_type": "code",
      "execution_count": null,
      "metadata": {
        "id": "3zioCiMYffBT",
        "outputId": "87421969-4c5f-4cef-e797-9184094abd9d"
      },
      "outputs": [
        {
          "data": {
            "text/plain": [
              "' ramuk yahskA'"
            ]
          },
          "execution_count": 194,
          "metadata": {},
          "output_type": "execute_result"
        }
      ],
      "source": [
        "A[::-1]"
      ]
    },
    {
      "cell_type": "markdown",
      "metadata": {
        "id": "2MNCVtOWffBU"
      },
      "source": [
        "### String Function\n",
        "### <font color=green>1.find( )<font/>\n",
        "### <font color=green>2.lower( )<font/>\n",
        "### <font color=green>3.upper( )<font/>\n",
        "### <font color=green>4.title( )<font/>\n",
        "### <font color=green>5.capitalize( )<font/>\n",
        "### <font color=green>6.swapcase( )<font/>\n",
        "### <font color=green>7.rstrip( )<font/>\n",
        "### <font color=green>8.lstrip( )<font/>\n",
        "### <font color=green>9.split( )<font/>\n",
        "### <font color=green>10.lsplit( )<font/>\n",
        "### <font color=green>11.rsplit( )<font/>\n",
        "### <font color=green>12.just( )<font/>\n",
        "### <font color=green>13.ljust( )<font/>\n",
        "### <font color=green>14.rjust( )<font/>\n",
        "### <font color=green>15.center( )<font/>\n",
        "### <font color=green>16.replace( )<font/>\n",
        "### <font color=green>17.length( )<font/>"
      ]
    },
    {
      "cell_type": "code",
      "execution_count": null,
      "metadata": {
        "id": "iP9tDfPeffBU",
        "outputId": "ee5b3e79-7819-46e2-9d13-e1da0ba3a70b"
      },
      "outputs": [
        {
          "data": {
            "text/plain": [
              "8"
            ]
          },
          "execution_count": 195,
          "metadata": {},
          "output_type": "execute_result"
        }
      ],
      "source": [
        "# find the index of substring\n",
        "S = \"This is Akshay\"\n",
        "S.find('Akshay')"
      ]
    },
    {
      "cell_type": "code",
      "execution_count": null,
      "metadata": {
        "id": "kt8b9k2fffBU",
        "outputId": "6f767362-a2cc-4694-c9fe-ec2dc50ea7e4"
      },
      "outputs": [
        {
          "data": {
            "text/plain": [
              "'my name is akshay'"
            ]
          },
          "execution_count": 196,
          "metadata": {},
          "output_type": "execute_result"
        }
      ],
      "source": [
        "# Converting string into lower case.\n",
        "String = \"My name is Akshay\"\n",
        "String.lower()"
      ]
    },
    {
      "cell_type": "code",
      "execution_count": null,
      "metadata": {
        "id": "F6i-M6P8ffBU",
        "outputId": "6a03a464-f543-4b23-957b-6c97efb99f3e"
      },
      "outputs": [
        {
          "data": {
            "text/plain": [
              "'MY NAME IS AKSHAY'"
            ]
          },
          "execution_count": 197,
          "metadata": {},
          "output_type": "execute_result"
        }
      ],
      "source": [
        "# Converting string into upper case\n",
        "String.upper()"
      ]
    },
    {
      "cell_type": "code",
      "execution_count": null,
      "metadata": {
        "id": "e5WNbJPnffBV",
        "outputId": "9dd65439-7313-48c8-cbf1-09a2be04ee4d"
      },
      "outputs": [
        {
          "data": {
            "text/plain": [
              "'My Name Is Akshay'"
            ]
          },
          "execution_count": 198,
          "metadata": {},
          "output_type": "execute_result"
        }
      ],
      "source": [
        "# Converting string into normal case for each words\n",
        "String.title()"
      ]
    },
    {
      "cell_type": "code",
      "execution_count": null,
      "metadata": {
        "id": "uCF_u2S4ffBV",
        "outputId": "38382826-8d13-4617-b6f9-acad3534f5cd"
      },
      "outputs": [
        {
          "data": {
            "text/plain": [
              "'My name is akshay'"
            ]
          },
          "execution_count": 199,
          "metadata": {},
          "output_type": "execute_result"
        }
      ],
      "source": [
        "# Converting string into standard case for sentence\n",
        "String.capitalize()"
      ]
    },
    {
      "cell_type": "code",
      "execution_count": null,
      "metadata": {
        "id": "kj7yN62uffBV",
        "outputId": "f52b32e7-2250-45a3-d301-b0559cb2868c"
      },
      "outputs": [
        {
          "data": {
            "text/plain": [
              "'mY NAME IS aKSHAY'"
            ]
          },
          "execution_count": 200,
          "metadata": {},
          "output_type": "execute_result"
        }
      ],
      "source": [
        "# converting string case by swaping method. capital case<-->small case\n",
        "String.swapcase()"
      ]
    },
    {
      "cell_type": "code",
      "execution_count": null,
      "metadata": {
        "id": "DC8BzMefffBV"
      },
      "outputs": [],
      "source": [
        "# Removing extra-character (Right strip)\n",
        "X=\"tAkshay kumark\"\n",
        "X=X.rstrip('k')"
      ]
    },
    {
      "cell_type": "code",
      "execution_count": null,
      "metadata": {
        "id": "lVEmPzR2ffBW",
        "outputId": "5929d283-6808-4922-bc0c-555d8bc861af"
      },
      "outputs": [
        {
          "data": {
            "text/plain": [
              "'Akshay kumar'"
            ]
          },
          "execution_count": 202,
          "metadata": {},
          "output_type": "execute_result"
        }
      ],
      "source": [
        "# Removing extra-character (Right strip)\n",
        "X.lstrip('t')"
      ]
    },
    {
      "cell_type": "code",
      "execution_count": null,
      "metadata": {
        "id": "ygwoDaCNffBW",
        "outputId": "7e0fd216-3043-42ab-d1d7-02b8a6529c62"
      },
      "outputs": [
        {
          "data": {
            "text/plain": [
              "[' i like apples ', ' mangoes', ' bananas']"
            ]
          },
          "execution_count": 203,
          "metadata": {},
          "output_type": "execute_result"
        }
      ],
      "source": [
        "# Splitting a string\n",
        "fruit = ' i like apples , mangoes, bananas'\n",
        "fruit.split(',')"
      ]
    },
    {
      "cell_type": "code",
      "execution_count": null,
      "metadata": {
        "scrolled": true,
        "id": "yubIHnnyffBW",
        "outputId": "d4f765b5-3e15-44c9-890e-db916fe2c029"
      },
      "outputs": [
        {
          "data": {
            "text/plain": [
              "['tAkshay', 'kumar']"
            ]
          },
          "execution_count": 205,
          "metadata": {},
          "output_type": "execute_result"
        }
      ],
      "source": [
        "X.split(\" \")"
      ]
    },
    {
      "cell_type": "code",
      "execution_count": null,
      "metadata": {
        "id": "ySIbbQTnffBW",
        "outputId": "7f4a0fd0-043a-4bf0-8d35-01522f725ce0"
      },
      "outputs": [
        {
          "data": {
            "text/plain": [
              "['I', 'like', 'to play football and cricket']"
            ]
          },
          "execution_count": 206,
          "metadata": {},
          "output_type": "execute_result"
        }
      ],
      "source": [
        "X= \"I like to play football and cricket\"\n",
        "X.split(\" \",2)   # splitting only first two words and default from left side"
      ]
    },
    {
      "cell_type": "code",
      "execution_count": null,
      "metadata": {
        "id": "Pf8Gt10HffBX",
        "outputId": "051d7f5d-9733-4820-bb9f-475349c306b2"
      },
      "outputs": [
        {
          "data": {
            "text/plain": [
              "['I like to play football', 'an', 'cricket']"
            ]
          },
          "execution_count": 207,
          "metadata": {},
          "output_type": "execute_result"
        }
      ],
      "source": [
        "X= \"I like to play football an cricket\"\n",
        "X.rsplit(\" \",2)   # splitting only first two words from right side"
      ]
    },
    {
      "cell_type": "code",
      "execution_count": null,
      "metadata": {
        "id": "7revrJrnffBY",
        "outputId": "e22d5e64-8f1e-43c2-d3e0-88fd357343ea"
      },
      "outputs": [
        {
          "data": {
            "text/plain": [
              "'I like to play football an cricket                '"
            ]
          },
          "execution_count": 208,
          "metadata": {},
          "output_type": "execute_result"
        }
      ],
      "source": [
        "# String Arrangement / String justification\n",
        "X.ljust(50,\" \")                  #  gives the number of spacified space."
      ]
    },
    {
      "cell_type": "code",
      "execution_count": null,
      "metadata": {
        "id": "xHVoNm-iffBY",
        "outputId": "619398df-4160-4026-fbda-c7b0bcda7629"
      },
      "outputs": [
        {
          "data": {
            "text/plain": [
              "'                I like to play football an cricket'"
            ]
          },
          "execution_count": 209,
          "metadata": {},
          "output_type": "execute_result"
        }
      ],
      "source": [
        "X.rjust(50,\" \")"
      ]
    },
    {
      "cell_type": "code",
      "execution_count": null,
      "metadata": {
        "id": "21rFwSiqffBY",
        "outputId": "685a4d44-9b60-4165-b70b-f4ae4eee1346"
      },
      "outputs": [
        {
          "data": {
            "text/plain": [
              "'$$$$$$$$$$$$$$$$I like to play football an cricket'"
            ]
          },
          "execution_count": 211,
          "metadata": {},
          "output_type": "execute_result"
        }
      ],
      "source": [
        "# Justification with some character/ digit / alphanumeric value.\n",
        "X.rjust(50,\"$\")"
      ]
    },
    {
      "cell_type": "code",
      "execution_count": null,
      "metadata": {
        "id": "MnFTjOGGffBZ",
        "outputId": "6ee8682a-da86-439d-d64b-ad22f240448e"
      },
      "outputs": [
        {
          "data": {
            "text/plain": [
              "'I like to play football an cricket&&&&&&&&&&&&&&&&'"
            ]
          },
          "execution_count": 215,
          "metadata": {},
          "output_type": "execute_result"
        }
      ],
      "source": [
        "X.ljust(50,\"&\")"
      ]
    },
    {
      "cell_type": "code",
      "execution_count": null,
      "metadata": {
        "id": "V05KHpmoffBa",
        "outputId": "8bdc06e3-e248-41e2-982b-c2e5204d1472"
      },
      "outputs": [
        {
          "data": {
            "text/plain": [
              "'00000000I like to play football an cricket00000000'"
            ]
          },
          "execution_count": 216,
          "metadata": {},
          "output_type": "execute_result"
        }
      ],
      "source": [
        "X.center(50,\"0\")"
      ]
    },
    {
      "cell_type": "code",
      "execution_count": null,
      "metadata": {
        "id": "Bbiot5h9ffBa",
        "outputId": "f7b17ff8-deda-4be1-fcd5-ad2cc70b22ea"
      },
      "outputs": [
        {
          "data": {
            "text/plain": [
              "'0000000000000000I like to play football an cricket'"
            ]
          },
          "execution_count": 217,
          "metadata": {},
          "output_type": "execute_result"
        }
      ],
      "source": [
        "# To fill Zero\n",
        "X.zfill(50)"
      ]
    },
    {
      "cell_type": "code",
      "execution_count": null,
      "metadata": {
        "id": "IEqW2dM4ffBa",
        "outputId": "36e9394e-7612-4e60-e8f2-95b317e4ca38"
      },
      "outputs": [
        {
          "data": {
            "text/plain": [
              "'I like to play football and cricket'"
            ]
          },
          "execution_count": 218,
          "metadata": {},
          "output_type": "execute_result"
        }
      ],
      "source": [
        "# Replace the string\n",
        "X.replace(\"an\", 'and')"
      ]
    },
    {
      "cell_type": "code",
      "execution_count": null,
      "metadata": {
        "id": "PHF2UbZXffBb",
        "outputId": "c2a163ee-0677-4093-ee87-454e1739ab75"
      },
      "outputs": [
        {
          "data": {
            "text/plain": [
              "False"
            ]
          },
          "execution_count": 219,
          "metadata": {},
          "output_type": "execute_result"
        }
      ],
      "source": [
        "# Boolean method to check string.\n",
        "X.isdigit()"
      ]
    },
    {
      "cell_type": "code",
      "execution_count": null,
      "metadata": {
        "id": "1-rxXInSffBb",
        "outputId": "99fdf637-b5bc-40da-ab44-0d8d7a3ed326"
      },
      "outputs": [
        {
          "data": {
            "text/plain": [
              "False"
            ]
          },
          "execution_count": 220,
          "metadata": {},
          "output_type": "execute_result"
        }
      ],
      "source": [
        "X.isalnum()"
      ]
    },
    {
      "cell_type": "code",
      "execution_count": null,
      "metadata": {
        "id": "AwKdNoMfffBb",
        "outputId": "d1ebbf78-62fd-4aa4-efc5-ae1fbc083376"
      },
      "outputs": [
        {
          "data": {
            "text/plain": [
              "False"
            ]
          },
          "execution_count": 221,
          "metadata": {},
          "output_type": "execute_result"
        }
      ],
      "source": [
        "X.isalpha()"
      ]
    },
    {
      "cell_type": "code",
      "execution_count": null,
      "metadata": {
        "id": "tNWf2hVKffBc",
        "outputId": "4ca2967b-f6df-42e7-d04a-311153649b7b"
      },
      "outputs": [
        {
          "data": {
            "text/plain": [
              "False"
            ]
          },
          "execution_count": 222,
          "metadata": {},
          "output_type": "execute_result"
        }
      ],
      "source": [
        "X.isspace()"
      ]
    },
    {
      "cell_type": "code",
      "execution_count": null,
      "metadata": {
        "id": "i7g3YrLNffBc",
        "outputId": "e538f24a-88ab-40d1-ff0f-8ff6778b313d"
      },
      "outputs": [
        {
          "data": {
            "text/plain": [
              "False"
            ]
          },
          "execution_count": 224,
          "metadata": {},
          "output_type": "execute_result"
        }
      ],
      "source": [
        "X.islower()"
      ]
    },
    {
      "cell_type": "code",
      "execution_count": null,
      "metadata": {
        "id": "exDAWDsZffBd",
        "outputId": "b7fae6e9-600f-41e0-b45d-3ba86c36c436"
      },
      "outputs": [
        {
          "data": {
            "text/plain": [
              "True"
            ]
          },
          "execution_count": 225,
          "metadata": {},
          "output_type": "execute_result"
        }
      ],
      "source": [
        "# startswith and endwith\n",
        "X=\"We all are students\"\n",
        "X.startswith('We')"
      ]
    },
    {
      "cell_type": "code",
      "execution_count": null,
      "metadata": {
        "id": "XEJdgMMXffBe",
        "outputId": "8ced18b9-a4b5-41a6-a812-57652be720bd"
      },
      "outputs": [
        {
          "data": {
            "text/plain": [
              "True"
            ]
          },
          "execution_count": 226,
          "metadata": {},
          "output_type": "execute_result"
        }
      ],
      "source": [
        "X.startswith(\"are\",7,12)"
      ]
    },
    {
      "cell_type": "code",
      "execution_count": null,
      "metadata": {
        "id": "qz6oTlqTffBe",
        "outputId": "8694373b-f927-49ab-9a55-da3a6031d140"
      },
      "outputs": [
        {
          "data": {
            "text/plain": [
              "True"
            ]
          },
          "execution_count": 228,
          "metadata": {},
          "output_type": "execute_result"
        }
      ],
      "source": [
        "# endswith\n",
        "credit = '12500 500 500 500'\n",
        "credit.endswith('500')"
      ]
    },
    {
      "cell_type": "code",
      "execution_count": null,
      "metadata": {
        "id": "zPaXViWcffBf",
        "outputId": "b32878cf-d9c3-43fe-9a83-87e36ec6eaaf"
      },
      "outputs": [
        {
          "data": {
            "text/plain": [
              "True"
            ]
          },
          "execution_count": 229,
          "metadata": {},
          "output_type": "execute_result"
        }
      ],
      "source": [
        "credit.endswith('500',12,20)"
      ]
    },
    {
      "cell_type": "code",
      "execution_count": null,
      "metadata": {
        "id": "speKww7kffBg",
        "outputId": "747773df-a904-4afc-8f4c-9e0dfa256843"
      },
      "outputs": [
        {
          "name": "stdout",
          "output_type": "stream",
          "text": [
            "True\n"
          ]
        }
      ],
      "source": [
        "# Python endswith with array\n",
        "\n",
        "extensions = '.mp3','.mp4','.jpg','xlsx','docs'\n",
        "\n",
        "file_name = 'music.xlsx'\n",
        "\n",
        "print(file_name.endswith(extensions))"
      ]
    },
    {
      "cell_type": "markdown",
      "metadata": {
        "id": "oCymBvFuffBg"
      },
      "source": [
        "#  Arrays\n",
        "\n",
        "Arrays are used to store data of just one types and they have index which is used to access the  data accordingly.\n",
        "\n",
        "Collection of similar data types and arrangement of data which can have multidimensional data of homogeneaus in nature.\n",
        "\n",
        "### 1D vector\n",
        "\n",
        "Vector can be one-dimensional array\n",
        "\n",
        "### 2D vector\n",
        "\n",
        "The data elements in two dimentional arrays can be accessed using two indices. One index referring to the main or parent array and another index reffering to the position of the data element in the inner aarray.\n",
        "\n",
        "Matrix is a special case of two dimensional array."
      ]
    },
    {
      "cell_type": "code",
      "execution_count": null,
      "metadata": {
        "id": "GA90Xb0kffBg",
        "outputId": "b846a0cb-97be-4fd3-d58a-0383d3dd981e"
      },
      "outputs": [
        {
          "data": {
            "text/plain": [
              "(1.2, 3.6, 23.5, 2.6, 8.9, 5.6)"
            ]
          },
          "execution_count": 231,
          "metadata": {},
          "output_type": "execute_result"
        }
      ],
      "source": [
        "# 1D - Arrays\n",
        "a = 1.2, 3.6, 23.5, 2.6, 8.9, 5.6\n",
        "a"
      ]
    },
    {
      "cell_type": "code",
      "execution_count": null,
      "metadata": {
        "id": "hHrxEl2rffBg",
        "outputId": "88745287-4df0-4444-991c-89e7f1ae4364"
      },
      "outputs": [
        {
          "data": {
            "text/plain": [
              "[[11, 25, 35, 50], [12, 52, 98, 35], [85, 65, 25, 25], [21, 72, 20, 15]]"
            ]
          },
          "execution_count": 232,
          "metadata": {},
          "output_type": "execute_result"
        }
      ],
      "source": [
        "# 2D - Arrays\n",
        "A = [[11, 25, 35, 50], [12, 52, 98, 35], [85, 65, 25, 25], [21, 72, 20, 15]]\n",
        "A"
      ]
    },
    {
      "cell_type": "code",
      "execution_count": null,
      "metadata": {
        "id": "--kbYe5EffBh",
        "outputId": "e2042a7b-fed1-4ba7-eaf5-c26fcc2a3e1f"
      },
      "outputs": [
        {
          "name": "stdout",
          "output_type": "stream",
          "text": [
            "98\n"
          ]
        }
      ],
      "source": [
        "print(A[1][2])"
      ]
    },
    {
      "cell_type": "markdown",
      "metadata": {
        "id": "7fv2VvIgffBh"
      },
      "source": [
        "#### Matrix\n",
        "\n",
        "matrix is a special case of two dimensional array where each data element is of strictly same size. So every matrix is also a two dimensional array but not vice versa. Matrix is very importatnt data structures for many mathematical and scientific calculations. It has rows and columns."
      ]
    },
    {
      "cell_type": "code",
      "execution_count": null,
      "metadata": {
        "id": "DI0T6KvNffBi"
      },
      "outputs": [],
      "source": [
        "# Numpy is library used for numerical computing\n",
        "from numpy import *    # '*' means extracting all functions.\n",
        "a = array([['Mon', 12, 32,25,12],['Tue', 32, 25, 18,25],['wed', 56, 81, 10, 21], ['Thurs', 56, 81, 10, 53],\n",
        "           ['Fri', 56, 81, 10, 71],['Sat', 56, 81, 10, 20],['Sat', 56, 81, 10, 20]])"
      ]
    },
    {
      "cell_type": "code",
      "execution_count": null,
      "metadata": {
        "id": "32pA3BW3ffBi",
        "outputId": "ae6eb207-1f96-42b1-90d7-56a0326f2d10"
      },
      "outputs": [
        {
          "name": "stdout",
          "output_type": "stream",
          "text": [
            "[['Mon' '12' '32' '25' '12']\n",
            " ['Tue' '32' '25' '18' '25']\n",
            " ['wed' '56' '81' '10' '21']\n",
            " ['Thurs' '56' '81' '10' '53']\n",
            " ['Fri' '56' '81' '10' '71']\n",
            " ['Sat' '56' '81' '10' '20']\n",
            " ['Sat' '56' '81' '10' '20']]\n"
          ]
        }
      ],
      "source": [
        "matrix = reshape(a,(7,5))\n",
        "print(matrix)"
      ]
    },
    {
      "cell_type": "markdown",
      "metadata": {
        "id": "AyIhOjp5ffBj"
      },
      "source": [
        "####  Input / Output / New line / comment"
      ]
    },
    {
      "cell_type": "code",
      "execution_count": null,
      "metadata": {
        "id": "nnJGnyK6ffBj",
        "outputId": "93225763-ea32-4ada-f462-7359c77ab6b8"
      },
      "outputs": [
        {
          "name": "stdout",
          "output_type": "stream",
          "text": [
            "2\n"
          ]
        },
        {
          "data": {
            "text/plain": [
              "'2'"
            ]
          },
          "execution_count": 236,
          "metadata": {},
          "output_type": "execute_result"
        }
      ],
      "source": [
        "# Input  :- By default, it will give the output as string type.\n",
        "input()"
      ]
    },
    {
      "cell_type": "code",
      "execution_count": null,
      "metadata": {
        "id": "aYpaW3CBffBj",
        "outputId": "d8391424-1b34-433e-c80f-57e91e034889"
      },
      "outputs": [
        {
          "name": "stdout",
          "output_type": "stream",
          "text": [
            "54\n"
          ]
        },
        {
          "data": {
            "text/plain": [
              "54.0"
            ]
          },
          "execution_count": 237,
          "metadata": {},
          "output_type": "execute_result"
        }
      ],
      "source": [
        "# input() function with specified datatypes\n",
        "float(input())"
      ]
    },
    {
      "cell_type": "code",
      "execution_count": null,
      "metadata": {
        "id": "n32cHsUdffBj",
        "outputId": "bbaa779e-da89-4bab-f0df-3df01238e5f5"
      },
      "outputs": [
        {
          "name": "stdout",
          "output_type": "stream",
          "text": [
            "6\n"
          ]
        }
      ],
      "source": [
        "# Output :- print() is used to display the output.\n",
        "print(1+5)"
      ]
    },
    {
      "cell_type": "code",
      "execution_count": null,
      "metadata": {
        "id": "ow4QlE2TffBk",
        "outputId": "4eb4df32-d40b-4530-c92b-52ccc69889c3"
      },
      "outputs": [
        {
          "name": "stdout",
          "output_type": "stream",
          "text": [
            "I want to become an expert\n"
          ]
        }
      ],
      "source": [
        "print('I want to become an expert')"
      ]
    },
    {
      "cell_type": "code",
      "execution_count": null,
      "metadata": {
        "id": "Kke60h9tffBk",
        "outputId": "afc0b654-110d-4870-efee-c095a9a3ef35"
      },
      "outputs": [
        {
          "name": "stdout",
          "output_type": "stream",
          "text": [
            " this is a jupiter notebook \n",
            " used for coding\n"
          ]
        }
      ],
      "source": [
        "# New line : \\n\n",
        "print(\" this is a jupiter notebook \\n used for coding\")"
      ]
    },
    {
      "cell_type": "code",
      "execution_count": null,
      "metadata": {
        "id": "CgkjS-VcffBk"
      },
      "outputs": [],
      "source": [
        "# New line : \"\"\" ABC...\"\"\"\n",
        "print(\"\"\" This is jupiter Notebook\n",
        " used for coding\"\"\")"
      ]
    },
    {
      "cell_type": "code",
      "execution_count": null,
      "metadata": {
        "id": "bKi-1MUuffBk"
      },
      "outputs": [],
      "source": [
        "# Comment : # and \"'ABC...'\"\n",
        "# This is comment line"
      ]
    },
    {
      "cell_type": "markdown",
      "metadata": {
        "id": "GuL7_CqxffBk"
      },
      "source": [
        "# <font color=Orange>Flow control statement<font/>\n",
        "### 1. Sequential control statement\n",
        "### 2. Decision / Selection control statement\n",
        "### 3. Loop / Iterative control statement"
      ]
    },
    {
      "cell_type": "markdown",
      "metadata": {
        "id": "Y8d0gbQCffBl"
      },
      "source": [
        "## <font color=green>1. Sequential control statement<font/>"
      ]
    },
    {
      "cell_type": "code",
      "execution_count": null,
      "metadata": {
        "id": "1o0HO7uXffBl",
        "outputId": "3ab05d2f-9851-4317-f0ca-4bc0fbdd7fc8"
      },
      "outputs": [
        {
          "name": "stdout",
          "output_type": "stream",
          "text": [
            "Amit Kumar\n"
          ]
        }
      ],
      "source": [
        "# Sequential Statement\n",
        "a = 'Amit'\n",
        "b =' Kumar'\n",
        "c = a+b\n",
        "print(c)"
      ]
    },
    {
      "cell_type": "markdown",
      "metadata": {
        "id": "Ml0Koe_1ffBl"
      },
      "source": [
        "## <font color=green>2. Decision / Selection control statement<font/>\n",
        "\n",
        "### -  if\n",
        "### -  if-else\n",
        "### -  elif"
      ]
    },
    {
      "cell_type": "markdown",
      "metadata": {
        "id": "8fyehk_GffBm"
      },
      "source": [
        "### <font color=Red>if Statement<font/>"
      ]
    },
    {
      "cell_type": "code",
      "execution_count": null,
      "metadata": {
        "id": "vrKOp9O2ffBm"
      },
      "outputs": [],
      "source": [
        "# Program for If Statement\n",
        "a= 20\n",
        "\n",
        "if a >=18:\n",
        "        print(\"Person is eligible for vote\")\n"
      ]
    },
    {
      "cell_type": "markdown",
      "metadata": {
        "id": "l6IKsIXQffBm"
      },
      "source": [
        "### <font color=Red>if-else Statement<font/>"
      ]
    },
    {
      "cell_type": "code",
      "execution_count": null,
      "metadata": {
        "id": "xoQBO4KoffBm"
      },
      "outputs": [],
      "source": [
        "# Program for if-else Statement :- Voting Eligibility\n",
        "\n",
        "a = 21\n",
        "\n",
        "if  a >= 18:\n",
        "    print(\"Person is eligible for vote\")\n",
        "else:\n",
        "    print(\"Person is not eligible for vote\")"
      ]
    },
    {
      "cell_type": "code",
      "execution_count": null,
      "metadata": {
        "id": "HQeXey6effBn"
      },
      "outputs": [],
      "source": [
        "# Program for If-else Statement:- ATM Program\n",
        "\n",
        "Bal = 200\n",
        "Withdraw = (int)(input(\"Enter the Amount\"))\n",
        "\n",
        "if Withdraw > Bal:\n",
        "        print(\"Invalid Amount\")\n",
        "\n",
        "else:\n",
        "        Balance = Bal - Withdraw\n",
        "        print(\"Your available account balance is:\", Balance)"
      ]
    },
    {
      "cell_type": "markdown",
      "metadata": {
        "id": "bGDmZARrffBn"
      },
      "source": [
        "### <font color=Red>elif Statement<font/>"
      ]
    },
    {
      "cell_type": "code",
      "execution_count": null,
      "metadata": {
        "id": "MI8C0Qw4ffBo"
      },
      "outputs": [],
      "source": [
        "# Program for elif Statement: Greater Number\n",
        "\n",
        "a = (int)(input(\"Enter the First Number\"))\n",
        "b = (int)(input(\"Enter the Second Number\"))\n",
        "c = (int)(input(\"Enter the Third Number\"))\n",
        "\n",
        "if a>b and a>c :\n",
        "        print(\"A is greater\")\n",
        "elif b>a and b>c :\n",
        "        print(\"B is greater\")\n",
        "else :\n",
        "        print(\"C is greater\")"
      ]
    },
    {
      "cell_type": "code",
      "execution_count": null,
      "metadata": {
        "id": "a3cRGO6WffBo"
      },
      "outputs": [],
      "source": [
        "# Program for elif Statement: Student's Name besed Informing Examination Room and Stream\n",
        "\n",
        "# Number of Branch Variables.\n",
        "Mechanical = [\"Amit\",\"Ajay\", \"Rohan\", \"Gaurav\", \"Tejinder Singh\"]\n",
        "Civil = [\"Ayush\", \"Arohi\", \"Rohan\", \"Mahi\",\"Akshay\"]\n",
        "Electrical = [\"Ajeet\", \"Aman\", \"Ankit\", \"Ajay das\", \"July\"]\n",
        "Computer = [\"Abhinash\", \"Farhan\", \"Rahul\", \"Joe\", \"Tejinder\"]\n",
        "\n",
        "# Get the branch name and welcome the student.\n",
        "Student_name = input(\"Enter your name:\")\n",
        "Student_name = Student_name.title()\n",
        "\n",
        "# Control if the student belongs to above specified branch\n",
        "if Student_name in Mechanical :\n",
        "                 print(\"\\n\\nHello..!\", Student_name)\n",
        "                 print(\"Welcome your in ACMT Group of colleges\")\n",
        "                 print(\"Your Branch is Mechanical Engineering \\nYour Examination Room No:01\")\n",
        "elif Student_name in Civil :\n",
        "                 print(\"\\n\\nHello..!\", Student_name)\n",
        "                 print(\"Welcome your in ACMT Group of colleges\")\n",
        "                 print(\"Your branch is Civil Engineering \\nYour Examination Room No:02\")\n",
        "elif Student_name in Electrical :\n",
        "                 print(\"\\n\\nHello..!\", Student_name)\n",
        "                 print(\"Welcome your in ACMT Group of colleges\")\n",
        "                 print(\"Your branch is Electrical Engineering \\nYour Examination Room No:03\")\n",
        "else:\n",
        "    print(\"\\n\\nHello..!\", Student_name)\n",
        "    print(\"Welcome your in ACMT Group of colleges\")\n",
        "    print(\"Your branch is computer science Engineering \\nYour Examination Room No:04\")\n"
      ]
    },
    {
      "cell_type": "markdown",
      "metadata": {
        "id": "RM5-4CzGffBp"
      },
      "source": [
        "## <font color=green>3. Loop or Iteration control statement<font/>\n",
        "Sometimes we need to run a block of code a number of times.\n",
        "\n",
        "### -  for loop  ( Definite Loop/ Bounded)\n",
        "- A loop that has set number of times to run.\n",
        "\n",
        "### -  While loop ( IndefiniteLoop/ Unbounded)\n",
        "- A loop that has indefinite number of times to run."
      ]
    },
    {
      "cell_type": "markdown",
      "metadata": {
        "id": "8Oc2zOCnffBp"
      },
      "source": [
        "### 1. <font color=red>for loop<font/>  ( Definite Loop/ Bounded)\n",
        "- A loop that has set number of times to run.\n",
        "    \n",
        "### syntax -\n",
        "###         <font color=red>for<font/> <font color=blue>variable<font/> <font color=red>range<font/> <font color=black>(Start<font/> , <font color=orange>end<font/> , <font color=black>increment<font/>) :\n",
        "    \n",
        "                                              Instructions\n",
        "                                              Instructions"
      ]
    },
    {
      "cell_type": "code",
      "execution_count": null,
      "metadata": {
        "id": "fLhG-r1wffBp"
      },
      "outputs": [],
      "source": [
        "# for loop : Three arguments (starting, Ending, Increment)\n",
        "for i in range(1,10,2):\n",
        "    print(i)"
      ]
    },
    {
      "cell_type": "code",
      "execution_count": null,
      "metadata": {
        "id": "POzDLNAwffBp"
      },
      "outputs": [],
      "source": [
        "# If we don't provide increment, By defaults, it takes increment=1.\n",
        "for i in range(1,10):\n",
        "    print(i)"
      ]
    },
    {
      "cell_type": "code",
      "execution_count": null,
      "metadata": {
        "id": "fC32UYJpffBq"
      },
      "outputs": [],
      "source": [
        "# If we don't provide starting point and increment, By defaults, it takes starting = 0 and increment=1.\n",
        "for i in range(10):\n",
        "    print(i)"
      ]
    },
    {
      "cell_type": "code",
      "execution_count": null,
      "metadata": {
        "id": "8KV1zTFWffBq"
      },
      "outputs": [],
      "source": [
        "for i in range(1,10):\n",
        "    print(\"Akshay Kumar\")"
      ]
    },
    {
      "cell_type": "code",
      "execution_count": null,
      "metadata": {
        "scrolled": true,
        "id": "BNviPPEfffBq"
      },
      "outputs": [],
      "source": [
        "# By default, Loop has new line instruction in program. if we want to continue in one line then-\n",
        "for i in range(1,10):\n",
        "    print(\"Akshay kumar\",end=\" \")"
      ]
    },
    {
      "cell_type": "markdown",
      "metadata": {
        "id": "475CYwOdffBr"
      },
      "source": [
        "### 2. <font color=red>while loop<font/>  ( Indefinite Loop/ Unbounded)\n",
        "- A loop that has indefinite number of times to run.\n",
        "    \n",
        "### Syntax:-    <font color=red>while<font/> <font color=blue>condition<font/>:\n",
        "                          Instruction/ statement\n",
        "                          Instruction/ statement\n",
        "              "
      ]
    },
    {
      "cell_type": "code",
      "execution_count": null,
      "metadata": {
        "id": "JwOMGIwxffBr"
      },
      "outputs": [],
      "source": [
        "x = 1\n",
        "while x<=5:\n",
        "    print(x)\n",
        "    x=x+1"
      ]
    },
    {
      "cell_type": "code",
      "execution_count": null,
      "metadata": {
        "id": "aBONkV83ffBr"
      },
      "outputs": [],
      "source": [
        "i = 1\n",
        "while i<=10:\n",
        "    print(\"Akshay Kumar\")\n",
        "    i=i+1"
      ]
    },
    {
      "cell_type": "markdown",
      "metadata": {
        "id": "nOcdMMXIffBs"
      },
      "source": [
        "###  We have two jumping statement\n",
        "\n",
        "### <font color=red>Break , Continue <font/>\n"
      ]
    },
    {
      "cell_type": "code",
      "execution_count": null,
      "metadata": {
        "id": "46xWVg0pffBs",
        "outputId": "77b2a67f-ea2e-4ef9-ffc0-182dc4ad732c"
      },
      "outputs": [
        {
          "name": "stdout",
          "output_type": "stream",
          "text": [
            "1\n",
            "2\n",
            "3\n",
            "4\n"
          ]
        }
      ],
      "source": [
        "# Break statement\n",
        "i=1\n",
        "while (i<=10):\n",
        "    print(i)\n",
        "    i=i+1\n",
        "    if(i==5):\n",
        "        break"
      ]
    },
    {
      "cell_type": "code",
      "execution_count": null,
      "metadata": {
        "id": "f62XEJ-LffBs",
        "outputId": "959733d2-edde-4d02-9d4f-43ecf6901f4f"
      },
      "outputs": [
        {
          "name": "stdout",
          "output_type": "stream",
          "text": [
            "2\n",
            "3\n",
            "4\n",
            "5\n",
            "6\n",
            "7\n",
            "8\n",
            "9\n",
            "10\n",
            "11\n"
          ]
        }
      ],
      "source": [
        "# Continue statement\n",
        "i=1\n",
        "while (i<=10):\n",
        "    i=i+1\n",
        "    print(i)\n",
        "    if(i==5):\n",
        "        continue"
      ]
    },
    {
      "cell_type": "code",
      "execution_count": null,
      "metadata": {
        "id": "dusGwjBMffBt",
        "outputId": "4a14c6e0-2bd3-434f-d00b-78d5b3ff48c0"
      },
      "outputs": [
        {
          "name": "stdout",
          "output_type": "stream",
          "text": [
            "2\n",
            "3\n",
            "4\n",
            "6\n",
            "7\n",
            "8\n",
            "9\n",
            "10\n",
            "11\n"
          ]
        }
      ],
      "source": [
        "# Continue statement\n",
        "i=1\n",
        "while (i<=10):\n",
        "        i=i+1\n",
        "        if(i==5):\n",
        "            continue\n",
        "        print(i)\n",
        ""
      ]
    },
    {
      "cell_type": "code",
      "execution_count": null,
      "metadata": {
        "id": "EiZ-CVJ2ffBu",
        "outputId": "a8c04bec-bb07-47d7-80bc-79e56cd7470f"
      },
      "outputs": [
        {
          "name": "stdout",
          "output_type": "stream",
          "text": [
            "2\n",
            "3\n",
            "4\n",
            "6\n",
            "8\n",
            "9\n",
            "10\n",
            "11\n"
          ]
        }
      ],
      "source": [
        "# Continue statement\n",
        "i=1\n",
        "while (i<=10):\n",
        "        i=i+1\n",
        "        if(i==5 or i==7):\n",
        "            continue\n",
        "        print(i)\n",
        ""
      ]
    },
    {
      "cell_type": "markdown",
      "metadata": {
        "id": "RRdVyngKffBv"
      },
      "source": [
        "## Popular program using for Loop and while Loop"
      ]
    },
    {
      "cell_type": "markdown",
      "metadata": {
        "id": "uW24QSdoffBw"
      },
      "source": [
        "#### **1. Sum of range of numbers**"
      ]
    },
    {
      "cell_type": "code",
      "execution_count": null,
      "metadata": {
        "id": "UHPVPuA0ffBx",
        "outputId": "74b9f527-9b4e-4ec4-d1e8-8cd1a461fff8"
      },
      "outputs": [
        {
          "name": "stdout",
          "output_type": "stream",
          "text": [
            "Sum is =  55\n"
          ]
        }
      ],
      "source": [
        "# 1. Write a program to sum of number from 1 to 10.\n",
        "\n",
        "s = 0\n",
        "\n",
        "for i in range(1,11):\n",
        "    s=s+i\n",
        "\n",
        "print(\"Sum is = \",s)"
      ]
    },
    {
      "cell_type": "markdown",
      "metadata": {
        "id": "JE7Tk10dffBy"
      },
      "source": [
        "####  **2. Print a table of any number**"
      ]
    },
    {
      "cell_type": "code",
      "execution_count": null,
      "metadata": {
        "id": "oUfiDGSJffBy"
      },
      "outputs": [],
      "source": [
        "# 2.A .Write a program to print a table in multiplication steps.\n",
        "\n",
        "a = (int)(input(\"Enter the number: \"))\n",
        "\n",
        "for i in range(1,11):\n",
        "    print(a,\" * \",i,\" = \",a*i)"
      ]
    },
    {
      "cell_type": "code",
      "execution_count": null,
      "metadata": {
        "id": "U7bHOBgUffBy",
        "outputId": "eb14aa79-9844-476c-91d6-8b52d6971a65"
      },
      "outputs": [
        {
          "name": "stdout",
          "output_type": "stream",
          "text": [
            "2 4 6 8 10 12 14 16 18 20 \n",
            "\n",
            "3 6 9 12 15 18 21 24 27 30 \n",
            "\n",
            "4 8 12 16 20 24 28 32 36 40 \n",
            "\n",
            "5 10 15 20 25 30 35 40 45 50 \n",
            "\n",
            "6 12 18 24 30 36 42 48 54 60 \n",
            "\n",
            "7 14 21 28 35 42 49 56 63 70 \n",
            "\n",
            "8 16 24 32 40 48 56 64 72 80 \n",
            "\n",
            "9 18 27 36 45 54 63 72 81 90 \n",
            "\n",
            "10 20 30 40 50 60 70 80 90 100 \n",
            "\n"
          ]
        }
      ],
      "source": [
        "# 2.B .Write a program to print Table from 2 to 10.\n",
        "\n",
        "for i in range(2,10+1):\n",
        "    for j in range(1,10+1):          # By using nested loop\n",
        "        print(i*j, end=\" \")\n",
        "    print(\"\\n\")"
      ]
    },
    {
      "cell_type": "markdown",
      "metadata": {
        "id": "vG0OfjRdffBz"
      },
      "source": [
        "#### **3. Factorial of a number**"
      ]
    },
    {
      "cell_type": "code",
      "execution_count": null,
      "metadata": {
        "id": "TRZfF3rnffBz"
      },
      "outputs": [],
      "source": [
        "# 3.Write a program to print factorial of a number.\n",
        "a = (int)(input(\"Enter a number : \"))\n",
        "f=1\n",
        "for i in range(1,a+1):\n",
        "    f=f*i\n",
        "\n",
        "print(\"Factorial is = \",f)"
      ]
    },
    {
      "cell_type": "markdown",
      "metadata": {
        "id": "W1oLGAsqffBz"
      },
      "source": [
        "#### **4. To check a number is prime or not**"
      ]
    },
    {
      "cell_type": "code",
      "execution_count": null,
      "metadata": {
        "id": "VbSKfpLHffBz"
      },
      "outputs": [],
      "source": [
        "# 4.Write a program to check a number is prime or not.\n",
        "\n",
        "num = int(input('Enter a number: '))\n",
        "\n",
        "# Prime numbers are greater than 1\n",
        "if num > 1:\n",
        "    # Chech for factors\n",
        "    for i in range(2,num+1):\n",
        "        if (num%i)==0:\n",
        "            print('Number is not a prime number')\n",
        "            print(i, \"times\", num//i, 'is', num)\n",
        "            break\n",
        "\n",
        "        else:\n",
        "            print(num, \"is a prime number\")\n",
        "            break\n",
        "\n",
        "else:\n",
        "    print(num, 'is not a prime number')\n"
      ]
    },
    {
      "cell_type": "markdown",
      "metadata": {
        "id": "hCeDaL_yffBz"
      },
      "source": [
        "#### **5. Prime number within a range**"
      ]
    },
    {
      "cell_type": "code",
      "execution_count": null,
      "metadata": {
        "id": "EZe0q0eIffB0"
      },
      "outputs": [],
      "source": [
        "# 5.Write a program to print prime number between 1 to 100.\n",
        "\n",
        "for i in range(1,100):\n",
        "    j=2\n",
        "    while j<=i//2:\n",
        "        if(i%j==0):\n",
        "            break\n",
        "        j=j+1\n",
        "\n",
        "    if (j>i//2):\n",
        "        print(i)"
      ]
    },
    {
      "cell_type": "markdown",
      "metadata": {
        "id": "OuQmXrZnffB0"
      },
      "source": [
        "#### **6. Reverse a number**"
      ]
    },
    {
      "cell_type": "code",
      "execution_count": null,
      "metadata": {
        "id": "XysxfK1cffB0"
      },
      "outputs": [],
      "source": [
        "# 6.Write a program to reverse a number.\n",
        "\n",
        "a = (int)(input(\"Enter a number : \"))\n",
        "s=0\n",
        "while a!=0:       # One by one, we have to take out the digits.\n",
        "    x=a%10        # Modulus by 10 give the remainder that is the last number : 3\n",
        "    s=s*10+x      # Output per iteration.\n",
        "    a=a//10       # floor division takes only integer part, removes the digit after decimal: 26.2\n",
        "\n",
        "print(\"Reverse of given number is : \",s)"
      ]
    },
    {
      "cell_type": "markdown",
      "metadata": {
        "id": "bLq2GaGjffB0"
      },
      "source": [
        "#### **7. Check a number is perfect or not**"
      ]
    },
    {
      "cell_type": "code",
      "execution_count": null,
      "metadata": {
        "id": "t0q7xwAmffB1"
      },
      "outputs": [],
      "source": [
        "# 7.Write a program to check a number is perfect or not.  6 = 1,2,3\n",
        "\n",
        "a=(int)(input(\"Enter a number\"))\n",
        "s=0\n",
        "\n",
        "for i in range(1,a//2+1):\n",
        "    if a%i==0:\n",
        "        s=s+i\n",
        "\n",
        "if s==a:\n",
        "    print(\"Number is perfect Number\")\n",
        "else:\n",
        "    print(\"Number is not perfect Number\")"
      ]
    },
    {
      "cell_type": "markdown",
      "metadata": {
        "id": "faaHrHMzffB1"
      },
      "source": [
        "#### **8. Palindrome number**"
      ]
    },
    {
      "cell_type": "code",
      "execution_count": null,
      "metadata": {
        "id": "WGSRKxq1ffB2"
      },
      "outputs": [],
      "source": [
        "# 8.Write a program to check a number is palindrome number.\n",
        "# Palindrome number is that number which is same as the form after reversing the digit.\n",
        "\n",
        "a=(int)(input(\"Enter a number : \"))\n",
        "z=a\n",
        "s=0\n",
        "\n",
        "while a!=0:\n",
        "    x=a%10\n",
        "    s=s*10+x\n",
        "    a=a//10\n",
        "\n",
        "if s==z:\n",
        "    print(\"Number is Palindrome\")\n",
        "else:\n",
        "    Print(\"Number is not Palindrome\")\n"
      ]
    },
    {
      "cell_type": "markdown",
      "metadata": {
        "id": "QfS4RRYlffB3"
      },
      "source": [
        "#### **9. Armstrong number - 3 digit number**"
      ]
    },
    {
      "cell_type": "code",
      "execution_count": null,
      "metadata": {
        "id": "IqT27tfkffB3"
      },
      "outputs": [],
      "source": [
        "# 9.Write a program to check a 3 digit number is Armstrong or not.   153=1*1*1+5*5*5+3*3*3, 407= 4*4*4+0*0*0+7*7*7\n",
        "\n",
        "\n",
        "a=(int)(input(\"Enter a number : \"))\n",
        "z=a\n",
        "s=0\n",
        "\n",
        "while a!=0:\n",
        "    x=a%10\n",
        "    s=s+x**3\n",
        "    a=a//10\n",
        "\n",
        "if z==s:\n",
        "    print(\"Number is Armstrong\")\n",
        "else:\n",
        "    print(\"Number is not Armstrong\")\n"
      ]
    },
    {
      "cell_type": "markdown",
      "metadata": {
        "id": "X2xWBzlMffB4"
      },
      "source": [
        "#### **11. Armstrong number - N number of digit**"
      ]
    },
    {
      "cell_type": "code",
      "execution_count": null,
      "metadata": {
        "id": "DaCg0TU-ffB4"
      },
      "outputs": [],
      "source": [
        "# 10.Write a program to check a number is Armstrong or not for N number of digit.  45=4*4+5*5, 153=1*1*1+5*5*5+3*3*3\n",
        "\n",
        "\n",
        "a=(int)(input(\"Enter a number : \"))\n",
        "z=a\n",
        "\n",
        "n = len(str(a))\n",
        "\n",
        "s=0\n",
        "\n",
        "while a!=0:\n",
        "    x=a%10\n",
        "    s=s+x**n\n",
        "    a=a//10\n",
        "\n",
        "if z==s:\n",
        "    print(\"Number is Armstrong\")\n",
        "else:\n",
        "    print(\"Number is not Armstrong\")\n"
      ]
    },
    {
      "cell_type": "markdown",
      "metadata": {
        "id": "x_QCrSI8ffB4"
      },
      "source": [
        "#### **13. Armstrong number - Within a specified range of number**"
      ]
    },
    {
      "cell_type": "code",
      "execution_count": null,
      "metadata": {
        "id": "vZkSPybRffB4"
      },
      "outputs": [],
      "source": [
        "# 13.A .Write a program to print Armstrong number from 100 to 1000.\n",
        "\n",
        "for i in range(100,1000):\n",
        "    s=0\n",
        "    z=i\n",
        "    while z!=0:\n",
        "        x=z%10\n",
        "        s=s+x*x*x\n",
        "        z=z//10\n",
        "    if i==s:\n",
        "        print(i)\n",
        "\n"
      ]
    },
    {
      "cell_type": "code",
      "execution_count": null,
      "metadata": {
        "id": "I7hcSB30ffB5"
      },
      "outputs": [],
      "source": [
        "# 13.B .Write a program to check Armstrong number in a certain interval.\n",
        "\n",
        "lower = 100\n",
        "upper = 2000\n",
        "\n",
        "for num in range(lower, upper + 1):\n",
        "\n",
        "    # Order of digits in a number\n",
        "    order =len(str(num))\n",
        "\n",
        "    # initialize sum\n",
        "    sum = 0\n",
        "\n",
        "    temp = num\n",
        "    while temp>0:\n",
        "        digit = temp%10\n",
        "        sum += digit ** order\n",
        "        temp//=10\n",
        "\n",
        "    if num == sum:\n",
        "        print(\"Armstrong numbers is: \",num)\n"
      ]
    },
    {
      "cell_type": "markdown",
      "metadata": {
        "id": "doB4xuIlffB5"
      },
      "source": [
        "#### **14. Fibonacci Series**"
      ]
    },
    {
      "cell_type": "code",
      "execution_count": null,
      "metadata": {
        "id": "3-wenigCffB5"
      },
      "outputs": [],
      "source": [
        "# 14.Write a program to print Fibonacci series. Made by adding last two number of that new nuber\n",
        "\n",
        "a=(int)(input(\"Enter Number of Terms \"))\n",
        "first=0\n",
        "second=1\n",
        "\n",
        "for i in range(1, a+1):\n",
        "    print(first)\n",
        "    third=first+second\n",
        "    first=second\n",
        "    second=third"
      ]
    },
    {
      "cell_type": "markdown",
      "metadata": {
        "id": "NKWyeLpJffB6"
      },
      "source": [
        "#### **15. HCF -<font color=blue> Higher Common Factor**<font/> of two number"
      ]
    },
    {
      "cell_type": "code",
      "execution_count": null,
      "metadata": {
        "id": "KSu2k2VPffB6"
      },
      "outputs": [],
      "source": [
        "# 15.Write a program to calculate HCF of two number.\n",
        "\n",
        "a=(int)(input('Enter first number'))\n",
        "b=(int)(input('Enter second number'))\n",
        "small=0\n",
        "if a<b:\n",
        "    small=a\n",
        "else:\n",
        "    small=b\n",
        "\n",
        "for i in range(small,0,-1):\n",
        "    if a%i==0 and b%i==0:\n",
        "        print(\"HCF is \",i)\n",
        "        break"
      ]
    },
    {
      "cell_type": "markdown",
      "metadata": {
        "id": "Cd2hEHXrffB6"
      },
      "source": [
        "#### **16. LCM- <font color=blue>Least Common Factor**<font/> of two number"
      ]
    },
    {
      "cell_type": "code",
      "execution_count": null,
      "metadata": {
        "id": "4D8dyfWDffB6"
      },
      "outputs": [],
      "source": [
        "# 16.Write a program to calculate LCM of two number.\n",
        "\n",
        "a=(int)(input('Enter first number: '))\n",
        "b=(int)(input('Enter second number: '))\n",
        "small=0\n",
        "if a>b:\n",
        "    big=a\n",
        "else:\n",
        "    big=b\n",
        "\n",
        "for i in range(big,a*b+1):\n",
        "    if i%a==0 and i%b==0:\n",
        "        print(\"LCM is \",i)\n",
        "        break"
      ]
    },
    {
      "cell_type": "markdown",
      "metadata": {
        "id": "sZJbny26ffB7"
      },
      "source": [
        "#### <font color=blue> **HCF and LCM** <font/> for two number"
      ]
    },
    {
      "cell_type": "code",
      "execution_count": null,
      "metadata": {
        "id": "0_A7EgkbffB7"
      },
      "outputs": [],
      "source": [
        "# 16.C .Write a program to calculate HCF and LCF of two number.\n",
        "a=(int)(input('Enter first number: '))\n",
        "b=(int)(input('Enter second number: '))\n",
        "small=0\n",
        "if a>b:\n",
        "    big=a\n",
        "else:\n",
        "    big=b\n",
        "\n",
        "for i in range(big,a*b+1):\n",
        "    if i%a==0 and i%b==0:\n",
        "        print(\"LCM is \",i)\n",
        "        print(\"HCF is \", (a*b)/i)\n",
        "        break"
      ]
    },
    {
      "cell_type": "markdown",
      "metadata": {
        "id": "MS50PO0bffB7"
      },
      "source": [
        "# <font color=red>Function<font/>\n",
        "    \n",
        "* Functions are pieces(block) of code that does something.\n",
        "* They are reusable.\n",
        "* They execute or run when called by their name.\n",
        "* They can have **<font color=green>parameters<font/>**(<font color=Red>variables<font/>) <font color=black>and<font/> <font color=green>**arguments**(<font color=red>values<font/>)<font color=black>\n",
        "* They can return data as a result.\n",
        "* There are built-in functions. eg:- **print(), min(), max()** etc.\n",
        "* You can also create your own custom functions.\n",
        "<font/>\n",
        "    \n",
        "    \n",
        "## Creating a function\n",
        "  \n",
        "#### Part 1. Defining the function with <font color=green>def<font/> <font color=black>Keyword and function name.<font/>\n",
        "### <Font color=green>**def**<font/>   <font color=blue>function_name():<font/>\n",
        "       Instructions..\n",
        "       Instructions..\n",
        "    \n",
        "#### Part 2. Calling a function\n",
        "- Also known as: running, executing, invoking.\n",
        "- You can call a function by it's name and add parenthesis.\n",
        "- Any parameters or arguments are placed inside the parenthesis.    \n",
        "\n",
        "### <font color=blue>**function_name():**<font/>"
      ]
    },
    {
      "cell_type": "markdown",
      "metadata": {
        "id": "bb_JrJRZffB8"
      },
      "source": [
        "#### Parameter Vs Argument\n",
        "- A **Parameters** is a variable defined inside a function's parenthesis. While defining the funcion, number of parameters are given.\n",
        "- An **Arguments** is the actual value you pass(**Give**) the function when it is called."
      ]
    },
    {
      "cell_type": "code",
      "execution_count": null,
      "metadata": {
        "id": "fPdO07pEffB8",
        "outputId": "36794cc0-9c6e-49e7-f8aa-c8742a87c0d0"
      },
      "outputs": [
        {
          "name": "stdout",
          "output_type": "stream",
          "text": [
            "Hello World\n"
          ]
        }
      ],
      "source": [
        "######>* Creating a simple function\n",
        "\n",
        "####... part -1. Defining the function..........\n",
        "\n",
        "def function_name():\n",
        "    # instructions....\n",
        "    # instructions....\n",
        "    print('Hello World')\n",
        "\n",
        "####... part -2. Calling the function........(Also known as: running, executing, invoking the function)\n",
        "function_name()"
      ]
    },
    {
      "cell_type": "code",
      "execution_count": null,
      "metadata": {
        "id": "yBeGSkOXffB9",
        "outputId": "c7b9ed72-2085-4418-bf60-bd25db0ddaba"
      },
      "outputs": [
        {
          "name": "stdout",
          "output_type": "stream",
          "text": [
            "30\n"
          ]
        }
      ],
      "source": [
        "######>* Creating a function which adds two numbers.\n",
        "\n",
        "# 1.Defining a function.\n",
        "def add_two_num(x,y):\n",
        "    print(x+y)\n",
        "\n",
        "# 2.Calling a function.\n",
        "add_two_num(10,20)\n"
      ]
    },
    {
      "cell_type": "markdown",
      "metadata": {
        "id": "XhpPuNXUffB9"
      },
      "source": [
        "#### Return Value  :-  If you want a function to return a value, you need to use Return keyword inside the function.\n",
        "\n",
        "##### This is used inside the function to return a value."
      ]
    },
    {
      "cell_type": "code",
      "execution_count": null,
      "metadata": {
        "id": "Jy4J01TIffB-",
        "outputId": "065e0ed7-8673-47b4-92a4-6a93734fc441"
      },
      "outputs": [
        {
          "data": {
            "text/plain": [
              "15"
            ]
          },
          "execution_count": 9,
          "metadata": {},
          "output_type": "execute_result"
        }
      ],
      "source": [
        "### Defining the function.\n",
        "def sum(x,y):\n",
        "    return x+y\n",
        "\n",
        "### Calling the function.\n",
        "sum(5,10)"
      ]
    },
    {
      "cell_type": "markdown",
      "metadata": {
        "id": "X5UP0VjaffB_"
      },
      "source": [
        "#### Default Parameter Value\n",
        "##### This is the value function uses when called without passing it a value.\n"
      ]
    },
    {
      "cell_type": "code",
      "execution_count": null,
      "metadata": {
        "id": "aF7Mpg_0ffB_",
        "outputId": "9381bbd1-be41-4bcc-bcc0-f8148b58bf31"
      },
      "outputs": [
        {
          "name": "stdout",
          "output_type": "stream",
          "text": [
            "Hello Akshay Kumar\n",
            "Hello Rohit\n",
            "Hello Amit\n"
          ]
        }
      ],
      "source": [
        "### Defining the function.\n",
        "def student_name(name='Akshay Kumar'):\n",
        "    print('Hello '+ name)\n",
        "\n",
        "### Calling The function.\n",
        "student_name()\n",
        "student_name('Rohit')\n",
        "student_name('Amit')"
      ]
    },
    {
      "cell_type": "markdown",
      "metadata": {
        "id": "HpzZZ7AOffB_"
      },
      "source": [
        "#### Keyword Arguments\n",
        "- Allows you to use what parameters to use from alist of parameters.\n",
        "- You do not need to worry about the order of arguments.\n",
        "- Allow you to givevalue only to parameters you want provided the other parameters have default argument values."
      ]
    },
    {
      "cell_type": "code",
      "execution_count": null,
      "metadata": {
        "id": "hgoYlGHCffCA",
        "outputId": "93441331-13e6-4960-c04d-5e77358f089a"
      },
      "outputs": [
        {
          "name": "stdout",
          "output_type": "stream",
          "text": [
            "a is: 6  and, b is: 8  while c is: 8\n",
            "a is: 41  and, b is: 6  while c is: 25\n",
            "a is: 5  and, b is: 6  while c is: 10\n"
          ]
        }
      ],
      "source": [
        "# Defining the function\n",
        "def more_num(a, b=6, c=8):\n",
        "    print(\"a is:\",a,\" and, b is:\",b,\" while c is:\",c)\n",
        "\n",
        "# Calling the function\n",
        "more_num(6,8)\n",
        "more_num(41, c=25)\n",
        "more_num(c=10, a=5)"
      ]
    },
    {
      "cell_type": "code",
      "execution_count": null,
      "metadata": {
        "id": "bVKlGTwQffCA",
        "outputId": "037377b2-ce8e-420d-a154-927721a5906f"
      },
      "outputs": [
        {
          "data": {
            "text/plain": [
              "'Hello, We welcome yours. Please get in...!'"
            ]
          },
          "execution_count": 28,
          "metadata": {},
          "output_type": "execute_result"
        }
      ],
      "source": [
        "# Function returning other function\n",
        "\n",
        "### Defining\n",
        "def greeting():\n",
        "    def say_hello():\n",
        "        return \"Hello, We welcome yours. Please get in...!\"\n",
        "    return say_hello()\n",
        "\n",
        "### Calling the function.\n",
        "greeting()"
      ]
    },
    {
      "cell_type": "code",
      "execution_count": null,
      "metadata": {
        "id": "-no5r1BNffCA",
        "outputId": "9e4aaba6-1f9e-4a32-9f0f-a9ad62c1f97d"
      },
      "outputs": [
        {
          "name": "stdout",
          "output_type": "stream",
          "text": [
            "3\n",
            "9\n",
            "16\n"
          ]
        }
      ],
      "source": [
        "# Assigning a function into a variable\n",
        "\n",
        "### Defining\n",
        "def mynum(x):\n",
        "    return x+1\n",
        "\n",
        "# Assigning a function into a variable\n",
        "num = mynum\n",
        "\n",
        "# Calling a function.\n",
        "print(num(2))\n",
        "print(num(8))\n",
        "print(num(15))"
      ]
    },
    {
      "cell_type": "code",
      "execution_count": null,
      "metadata": {
        "id": "SmtJ_sbbffCB",
        "outputId": "a8c24323-77b2-4fd1-b617-97814ab33ee7"
      },
      "outputs": [
        {
          "name": "stdout",
          "output_type": "stream",
          "text": [
            "10\n",
            "My fav number is  7\n"
          ]
        },
        {
          "data": {
            "text/plain": [
              "10"
            ]
          },
          "execution_count": 38,
          "metadata": {},
          "output_type": "execute_result"
        }
      ],
      "source": [
        "# Global and Local variable\n",
        "\n",
        "x=10  # Global variable\n",
        "\n",
        "def mynum(x):\n",
        "    print(x)\n",
        "    x=7      # local variable\n",
        "    print(\"My fav number is \", x)\n",
        "\n",
        "mynum(x)\n",
        "\n",
        "x   # value of global variable doesn't change.\n"
      ]
    },
    {
      "cell_type": "code",
      "execution_count": null,
      "metadata": {
        "id": "PsOs32wEffCB",
        "outputId": "a40b9173-b242-4f21-9646-1481ca0bbfd8"
      },
      "outputs": [
        {
          "data": {
            "text/plain": [
              "6"
            ]
          },
          "execution_count": 42,
          "metadata": {},
          "output_type": "execute_result"
        }
      ],
      "source": [
        "# Nesting Functions\n",
        "\n",
        "# Defining the function\n",
        "def mynum(a):\n",
        "    def num(a):\n",
        "        return a+1\n",
        "    result = num(a)\n",
        "    return result\n",
        "# Calling the function\n",
        "mynum(5)"
      ]
    },
    {
      "cell_type": "code",
      "execution_count": null,
      "metadata": {
        "id": "FUMlR2CDffCB",
        "outputId": "0bd541ef-6122-44ff-d9bb-da01616681c4"
      },
      "outputs": [
        {
          "name": "stdout",
          "output_type": "stream",
          "text": [
            "Show me the money..!\n"
          ]
        }
      ],
      "source": [
        "# Nested function accessing variable scope.\n",
        "\n",
        "# Defining the nested function.\n",
        "def display_message(message):\n",
        "\n",
        "    def message_sender():\n",
        "        print(message)\n",
        "    message_sender()\n",
        "\n",
        "# Calling the function\n",
        "display_message('Show me the money..!')"
      ]
    },
    {
      "cell_type": "code",
      "execution_count": null,
      "metadata": {
        "id": "OdxuIrpYffCC"
      },
      "outputs": [],
      "source": [
        "# Pass Keyword in python\n",
        "\n",
        "def dream_home():    # It will directly pass without giving any output.\n",
        "    pass\n"
      ]
    },
    {
      "cell_type": "code",
      "execution_count": null,
      "metadata": {
        "id": "4Q9oaya-ffCC",
        "outputId": "863c1c3e-5d03-4e07-d9e6-1b89834ce13b"
      },
      "outputs": [
        {
          "name": "stdout",
          "output_type": "stream",
          "text": [
            "8\n"
          ]
        }
      ],
      "source": [
        "# Passing function as arguments to other functions.\n",
        "\n",
        "def mynum(b):\n",
        "    return b + 1\n",
        "def addnum(c):\n",
        "    newnum = 7\n",
        "    return c(newnum)\n",
        "\n",
        "print(addnum(mynum))"
      ]
    },
    {
      "cell_type": "markdown",
      "metadata": {
        "id": "bWWoBvtxffCC"
      },
      "source": [
        "#### VarArgs Parameters\n",
        "- Lets you define number of argumets for a function.\n",
        "- It is done using * symbol."
      ]
    },
    {
      "cell_type": "code",
      "execution_count": null,
      "metadata": {
        "id": "8zMyeC3PffCC",
        "outputId": "7e6f2075-2b0c-4df5-9dac-0b649ef7cd29"
      },
      "outputs": [
        {
          "name": "stdout",
          "output_type": "stream",
          "text": [
            "Myfav number is 7\n",
            "num 1\n",
            "num 2\n",
            "num 3\n",
            "num 4\n",
            "amit 302\n",
            "Raju 300\n",
            "Mohan 250\n"
          ]
        }
      ],
      "source": [
        "# defining a function\n",
        "def total_numbers(a=10, *numbers, **phonebook):     # Single * means Tuple  and Double ** means Dictionary.\n",
        "    print(\"Myfav number is\", a)\n",
        "\n",
        "    for num in numbers:\n",
        "        print(\"num\", num)\n",
        "\n",
        "    for name, phone_number in phonebook.items():\n",
        "        print(name, phone_number)\n",
        "\n",
        "#calling the function\n",
        "total_numbers(7,1,2,3,4,amit=302,Raju=300,Mohan=250)"
      ]
    },
    {
      "cell_type": "markdown",
      "metadata": {
        "id": "MH6qimo4ffCD"
      },
      "source": [
        "### Anonymous Functions(Lambda)\n",
        "\n",
        "- They are defined using the lambda keyword.\n",
        "- They can take several arguments but can only have expression.\n",
        "\n",
        " **lambda <font color=red>Parameters <font/>:<font color=purple> instructions/Return value<font/>**"
      ]
    },
    {
      "cell_type": "code",
      "execution_count": null,
      "metadata": {
        "id": "U5VV52hQffCD",
        "outputId": "2eebc1dd-5f86-4c8d-8c5c-1142788d41ad"
      },
      "outputs": [
        {
          "data": {
            "text/plain": [
              "10"
            ]
          },
          "execution_count": 64,
          "metadata": {},
          "output_type": "execute_result"
        }
      ],
      "source": [
        "# Anonymous function lambda\n",
        "a = lambda x: x+6                # Defining\n",
        "\n",
        "a(4)                             # Calling"
      ]
    },
    {
      "cell_type": "code",
      "execution_count": null,
      "metadata": {
        "id": "dmLm--qeffCD",
        "outputId": "6d1bc510-04bb-46fc-ab34-8c69c5bb6824"
      },
      "outputs": [
        {
          "data": {
            "text/plain": [
              "30"
            ]
          },
          "execution_count": 65,
          "metadata": {},
          "output_type": "execute_result"
        }
      ],
      "source": [
        "b = lambda x, y: x+y      # Defining\n",
        "\n",
        "b(10,20)                  # Calling"
      ]
    },
    {
      "cell_type": "code",
      "execution_count": null,
      "metadata": {
        "id": "CGUhvtV5ffCD",
        "outputId": "5cf39749-79e8-487d-dbf9-fdeb37d06bf3"
      },
      "outputs": [
        {
          "data": {
            "text/plain": [
              "50"
            ]
          },
          "execution_count": 66,
          "metadata": {},
          "output_type": "execute_result"
        }
      ],
      "source": [
        "#Lambda function in custom function\n",
        "\n",
        "def ghost_number(n):\n",
        "    return lambda f:f*n\n",
        "\n",
        "\n",
        "duble_num =ghost_number(5)\n",
        "\n",
        "duble_num(10)"
      ]
    },
    {
      "cell_type": "markdown",
      "metadata": {
        "id": "8XhG6bodffCE"
      },
      "source": [
        "-------------------------------------------------------------------------------------------------------------------------------\n",
        "\n",
        "\n",
        "## <font color=gren>Types of functions in Python<font/>\n",
        "\n",
        "In real time, a Python function may define with or without parameters, and a function may or may not return a value. It entirely depends upon the user requirement.\n",
        "\n",
        "- Function with No argument and No return value.\n",
        "- Function with No argument and with a Return value.\n",
        "- Function with  argument and No return value.\n",
        "- Function with argument and Return value."
      ]
    },
    {
      "cell_type": "markdown",
      "metadata": {
        "id": "2Ex5bnE4ffCE"
      },
      "source": [
        "### **<font color=green>1. Python Function with No argument and No Return<font/>**\n",
        "\n",
        "In this type, we are going to calculate the Sum of 2 integer values and print the output from the user defined function itself."
      ]
    },
    {
      "cell_type": "code",
      "execution_count": null,
      "metadata": {
        "id": "l0xaaXmMffCE"
      },
      "outputs": [],
      "source": [
        "# Python Function with No Arguments, and No Return Value\n",
        "def Adding():\n",
        "    a = 20\n",
        "    b = 30\n",
        "    Sum = a + b\n",
        "    print(\"After Calling the Function:\", Sum)"
      ]
    },
    {
      "cell_type": "code",
      "execution_count": null,
      "metadata": {
        "id": "Cmg9qmIFffCE"
      },
      "outputs": [],
      "source": [
        "Adding()"
      ]
    },
    {
      "cell_type": "markdown",
      "metadata": {
        "id": "TxPGshrRffCF"
      },
      "source": [
        "### **<font color=green>2. Python Function with No arguments and with a Return value<font/>**\n",
        "\n",
        "In this type, we are going to calculate the multiplication of 2 integer values using the user defined function without arguments and return keyword."
      ]
    },
    {
      "cell_type": "code",
      "execution_count": null,
      "metadata": {
        "id": "1rCPZLCcffCF"
      },
      "outputs": [],
      "source": [
        "# Python Function with No Arguments, and with Return Value\n",
        "def Multiplication():\n",
        "    a = 10\n",
        "    b = 25\n",
        "    Multi = a * b\n",
        "    return Multi\n"
      ]
    },
    {
      "cell_type": "code",
      "execution_count": null,
      "metadata": {
        "id": "3xFNHW3qffCF"
      },
      "outputs": [],
      "source": [
        "Multiplication()"
      ]
    },
    {
      "cell_type": "code",
      "execution_count": null,
      "metadata": {
        "id": "hauCVRnXffCF"
      },
      "outputs": [],
      "source": [
        "# Here, Whenever we call the Multiplication() function, it prints the same output because a and b have fixed values\n",
        "# inside the function.\n",
        "\n",
        "print(\"After Calling the Multiplication Function: \", Multiplication())\n"
      ]
    },
    {
      "cell_type": "code",
      "execution_count": null,
      "metadata": {
        "id": "_GYx05WXffCF"
      },
      "outputs": [],
      "source": [
        "print(Multiplication())"
      ]
    },
    {
      "cell_type": "markdown",
      "metadata": {
        "id": "m3jUM3PNffCG"
      },
      "source": [
        "### **<font color=green>3. Python Function with argument and No Return value<font/>**\n",
        "\n",
        "In this type of function in Python, Program allows the user to enter 2 integer values and then, We are going to pass those values to the user defined function to Multiply them."
      ]
    },
    {
      "cell_type": "code",
      "execution_count": null,
      "metadata": {
        "id": "EJuT2NSOffCG"
      },
      "outputs": [],
      "source": [
        "# Python Function with Arguments, and NO Return Value\n",
        "def Multiplications(a, b):\n",
        "    Multi = a * b\n",
        "    print(\"After Calling the Function:\", Multi)\n",
        ""
      ]
    },
    {
      "cell_type": "markdown",
      "metadata": {
        "id": "EtwLqwwxffCG"
      },
      "source": [
        "### **Note** :-\n",
        "Within the Multiplication(a, b) function, We declared the variables of Multi, and also, we also has (a, b) arguments in the function. It means this function allows the user to pass 2 values."
      ]
    },
    {
      "cell_type": "code",
      "execution_count": null,
      "metadata": {
        "id": "TXIiucZSffCG"
      },
      "outputs": [],
      "source": [
        "# Calling the function\n",
        "Multiplications(10, 20)"
      ]
    },
    {
      "cell_type": "code",
      "execution_count": null,
      "metadata": {
        "id": "mSUPadSJffCH"
      },
      "outputs": [],
      "source": [
        "# Calling the function\n",
        "Multiplications(5,-10)"
      ]
    },
    {
      "cell_type": "markdown",
      "metadata": {
        "id": "lEhMxtn4ffCH"
      },
      "source": [
        "### **<font color=green>4. Python Function with arguments and Return value<font/>**\n",
        "\n",
        "This type of function, Program allows the user to enter 2 integer values. Then, we pass those values to the user-defined function to add those values and return the value using the return keyword."
      ]
    },
    {
      "cell_type": "code",
      "execution_count": null,
      "metadata": {
        "id": "T90iOODqffCH"
      },
      "outputs": [],
      "source": [
        "# Python Function with Arguments, and NO Return Value\n",
        "def Addition(a, b):\n",
        "    Sum = a + b\n",
        "    return Sum"
      ]
    },
    {
      "cell_type": "code",
      "execution_count": null,
      "metadata": {
        "id": "1k8RAMlHffCH"
      },
      "outputs": [],
      "source": [
        "# We are calling the Function Outside the Function Definition\n",
        "print(\"After Calling the Function:\", Addition(25, 45))"
      ]
    },
    {
      "cell_type": "code",
      "execution_count": null,
      "metadata": {
        "id": "pzq0EIvHffCI"
      },
      "outputs": [],
      "source": [
        "Addition(12,5)"
      ]
    },
    {
      "cell_type": "code",
      "execution_count": null,
      "metadata": {
        "id": "UKtUqPWCffCI"
      },
      "outputs": [],
      "source": [
        "# If we don't pass both values, function doesn't run\n",
        "Addition(10)"
      ]
    },
    {
      "cell_type": "code",
      "execution_count": null,
      "metadata": {
        "id": "P6w1SE1LffCI"
      },
      "outputs": [],
      "source": [
        "# Python function with Arguments of predefined values.\n",
        "\n",
        "def Add5(a=5, b=5):\n",
        "    Sum = a + b\n",
        "    return Sum"
      ]
    },
    {
      "cell_type": "code",
      "execution_count": null,
      "metadata": {
        "id": "ya_cybXQffCI"
      },
      "outputs": [],
      "source": [
        "Add5(10)"
      ]
    },
    {
      "cell_type": "code",
      "execution_count": null,
      "metadata": {
        "id": "Uu9sSULZffCK"
      },
      "outputs": [],
      "source": [
        "Add5(10,20)"
      ]
    },
    {
      "cell_type": "code",
      "execution_count": null,
      "metadata": {
        "id": "bXE82f2IffCL"
      },
      "outputs": [],
      "source": []
    }
  ],
  "metadata": {
    "kernelspec": {
      "display_name": "Python 3 (ipykernel)",
      "language": "python",
      "name": "python3"
    },
    "language_info": {
      "codemirror_mode": {
        "name": "ipython",
        "version": 3
      },
      "file_extension": ".py",
      "mimetype": "text/x-python",
      "name": "python",
      "nbconvert_exporter": "python",
      "pygments_lexer": "ipython3",
      "version": "3.9.13"
    },
    "colab": {
      "provenance": [],
      "include_colab_link": true
    }
  },
  "nbformat": 4,
  "nbformat_minor": 0
}