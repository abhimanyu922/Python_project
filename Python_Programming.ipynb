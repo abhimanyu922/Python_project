{
  "cells": [
    {
      "cell_type": "markdown",
      "metadata": {
        "id": "view-in-github",
        "colab_type": "text"
      },
      "source": [
        "<a href=\"https://colab.research.google.com/github/abhimanyu922/demo-2/blob/master/Python_Programming.ipynb\" target=\"_parent\"><img src=\"https://colab.research.google.com/assets/colab-badge.svg\" alt=\"Open In Colab\"/></a>"
      ]
    },
    {
      "cell_type": "markdown",
      "metadata": {
        "id": "ZhBnxwkeQpGL"
      },
      "source": [
        "# ![image.png](attachment:image.png)"
      ]
    },
    {
      "cell_type": "markdown",
      "metadata": {
        "id": "HfDbVYvSQpGT"
      },
      "source": [
        "# Input (integer , float and String)"
      ]
    },
    {
      "cell_type": "markdown",
      "metadata": {
        "id": "H4LH_ipKQpGU"
      },
      "source": [
        "# If Only Block"
      ]
    },
    {
      "cell_type": "markdown",
      "metadata": {
        "id": "EG97scZwQpGV"
      },
      "source": [
        "### elif"
      ]
    },
    {
      "cell_type": "markdown",
      "metadata": {
        "id": "q4UuBU7FQpGW"
      },
      "source": [
        "# Logical Operator"
      ]
    },
    {
      "cell_type": "markdown",
      "metadata": {
        "id": "92CFo-KhQpGX"
      },
      "source": [
        "##  Compulsion = AND\n",
        "##  Flexible = OR"
      ]
    },
    {
      "cell_type": "code",
      "execution_count": null,
      "metadata": {
        "id": "x76RCaDgQpGZ"
      },
      "outputs": [],
      "source": [
        "a= 5"
      ]
    },
    {
      "cell_type": "code",
      "execution_count": null,
      "metadata": {
        "id": "WJXeHmHuQpGb",
        "outputId": "d39a5453-7167-41d9-f7e0-89222a8e28b5"
      },
      "outputs": [
        {
          "data": {
            "text/plain": [
              "5"
            ]
          },
          "execution_count": 3,
          "metadata": {},
          "output_type": "execute_result"
        }
      ],
      "source": [
        "a"
      ]
    },
    {
      "cell_type": "code",
      "execution_count": null,
      "metadata": {
        "id": "SoZvXbqTQpGe",
        "outputId": "0ceb3343-113f-427b-a1db-c42d9c14decd"
      },
      "outputs": [
        {
          "name": "stdout",
          "output_type": "stream",
          "text": [
            "5\n"
          ]
        }
      ],
      "source": [
        "print(a)"
      ]
    },
    {
      "cell_type": "code",
      "execution_count": null,
      "metadata": {
        "id": "XbTJxj5CQpGf",
        "outputId": "c466c6e4-f60c-4864-931a-fb63db4ee95c"
      },
      "outputs": [
        {
          "name": "stdout",
          "output_type": "stream",
          "text": [
            "Enter the value of variable a : 6\n"
          ]
        }
      ],
      "source": [
        "a =input(\"Enter the value of variable a : \")"
      ]
    },
    {
      "cell_type": "code",
      "execution_count": null,
      "metadata": {
        "id": "iEUbrtSGQpGg",
        "outputId": "8ed9d33b-ee2d-482c-9d1e-69051faca00a"
      },
      "outputs": [
        {
          "name": "stdout",
          "output_type": "stream",
          "text": [
            "6\n"
          ]
        }
      ],
      "source": [
        "print(a)"
      ]
    },
    {
      "cell_type": "code",
      "execution_count": null,
      "metadata": {
        "id": "PhHFlOOTQpGi",
        "outputId": "67b60fe4-2941-4e9f-ba87-38f31e24c948"
      },
      "outputs": [
        {
          "name": "stdout",
          "output_type": "stream",
          "text": [
            "Enter the name :Abdul\n"
          ]
        }
      ],
      "source": [
        "name = str(input(\"Enter the name :\"))"
      ]
    },
    {
      "cell_type": "code",
      "execution_count": null,
      "metadata": {
        "id": "jNGGh16lQpGj",
        "outputId": "63eb616a-ab8b-4de3-8e21-8c71377046f4"
      },
      "outputs": [
        {
          "name": "stdout",
          "output_type": "stream",
          "text": [
            "Abdul\n"
          ]
        }
      ],
      "source": [
        "print(name)"
      ]
    },
    {
      "cell_type": "code",
      "execution_count": null,
      "metadata": {
        "id": "z3Vc4LygQpGk",
        "outputId": "5269aae8-565b-436e-cf29-2c7f53c26117"
      },
      "outputs": [
        {
          "name": "stdout",
          "output_type": "stream",
          "text": [
            "Enter your age :12\n"
          ]
        }
      ],
      "source": [
        "age = int(input(\"Enter your age :\"))"
      ]
    },
    {
      "cell_type": "code",
      "execution_count": null,
      "metadata": {
        "id": "lfkTyJ2yQpGl",
        "outputId": "ad8a0406-2c94-4a30-bc95-c6a0565aa93c"
      },
      "outputs": [
        {
          "name": "stdout",
          "output_type": "stream",
          "text": [
            "Enter your country :467\n"
          ]
        }
      ],
      "source": [
        "country= str(input(\"Enter your country :\"))"
      ]
    },
    {
      "cell_type": "code",
      "execution_count": null,
      "metadata": {
        "id": "9gsJy0IlQpGn",
        "outputId": "6bab98e9-80b7-490b-f69e-0d6c7c3a406b"
      },
      "outputs": [
        {
          "data": {
            "text/plain": [
              "'467'"
            ]
          },
          "execution_count": 21,
          "metadata": {},
          "output_type": "execute_result"
        }
      ],
      "source": [
        "country"
      ]
    },
    {
      "cell_type": "code",
      "execution_count": null,
      "metadata": {
        "id": "IfgoEnmhQpGo"
      },
      "outputs": [],
      "source": [
        "country = int(input(\"Enter your country : \"))"
      ]
    },
    {
      "cell_type": "code",
      "execution_count": null,
      "metadata": {
        "id": "1DZA8KX5QpGp",
        "outputId": "81333cd1-0e51-47ab-c7b1-d1b42fea28c6"
      },
      "outputs": [
        {
          "data": {
            "text/plain": [
              "467"
            ]
          },
          "execution_count": 23,
          "metadata": {},
          "output_type": "execute_result"
        }
      ],
      "source": [
        "country"
      ]
    },
    {
      "cell_type": "code",
      "execution_count": null,
      "metadata": {
        "id": "1kGxn0DyQpGq",
        "outputId": "8cb761c5-f378-4946-8982-77661197ade3"
      },
      "outputs": [
        {
          "name": "stdout",
          "output_type": "stream",
          "text": [
            "Enter your height :one eighty cms\n"
          ]
        },
        {
          "ename": "ValueError",
          "evalue": "could not convert string to float: 'one eighty cms'",
          "output_type": "error",
          "traceback": [
            "\u001b[1;31m---------------------------------------------------------------------------\u001b[0m",
            "\u001b[1;31mValueError\u001b[0m                                Traceback (most recent call last)",
            "\u001b[1;32m<ipython-input-29-258c9252a1aa>\u001b[0m in \u001b[0;36m<module>\u001b[1;34m\u001b[0m\n\u001b[1;32m----> 1\u001b[1;33m \u001b[0mheight\u001b[0m \u001b[1;33m=\u001b[0m \u001b[0mfloat\u001b[0m\u001b[1;33m(\u001b[0m\u001b[0minput\u001b[0m\u001b[1;33m(\u001b[0m\u001b[1;34m\"Enter your height :\"\u001b[0m\u001b[1;33m)\u001b[0m\u001b[1;33m)\u001b[0m\u001b[1;33m\u001b[0m\u001b[1;33m\u001b[0m\u001b[0m\n\u001b[0m",
            "\u001b[1;31mValueError\u001b[0m: could not convert string to float: 'one eighty cms'"
          ]
        }
      ],
      "source": [
        "height = float(input(\"Enter your height :\"))"
      ]
    },
    {
      "cell_type": "code",
      "execution_count": null,
      "metadata": {
        "id": "WA8qvaQaQpGr",
        "outputId": "bfa49d57-a4d7-4cc1-e531-5c95123c2c3a"
      },
      "outputs": [
        {
          "data": {
            "text/plain": [
              "185.0"
            ]
          },
          "execution_count": 28,
          "metadata": {},
          "output_type": "execute_result"
        }
      ],
      "source": [
        "height"
      ]
    },
    {
      "cell_type": "markdown",
      "metadata": {
        "id": "mULLYubwQpGr"
      },
      "source": [
        "## If block"
      ]
    },
    {
      "cell_type": "markdown",
      "metadata": {
        "id": "NulYKTdJQpGr"
      },
      "source": [
        "## If else block"
      ]
    },
    {
      "cell_type": "markdown",
      "metadata": {
        "id": "XMl5MrjgQpGs"
      },
      "source": [
        "## if Elif block"
      ]
    },
    {
      "cell_type": "code",
      "execution_count": null,
      "metadata": {
        "id": "Q44oqRm5QpGs"
      },
      "outputs": [],
      "source": [
        "a = 7"
      ]
    },
    {
      "cell_type": "code",
      "execution_count": null,
      "metadata": {
        "id": "zT7nAp5NQpGs",
        "outputId": "dd02a473-192d-4a74-ad67-c2ca83583ac0"
      },
      "outputs": [
        {
          "data": {
            "text/plain": [
              "True"
            ]
          },
          "execution_count": 43,
          "metadata": {},
          "output_type": "execute_result"
        }
      ],
      "source": [
        "a==7"
      ]
    },
    {
      "cell_type": "code",
      "execution_count": null,
      "metadata": {
        "id": "w0RMstaJQpGt",
        "outputId": "beb09800-9c69-49fc-e9ab-609349df6768"
      },
      "outputs": [
        {
          "name": "stdout",
          "output_type": "stream",
          "text": [
            "Enter the rain status :Yes\n"
          ]
        }
      ],
      "source": [
        "rain  = str(input (\"Enter the rain status :\"))"
      ]
    },
    {
      "cell_type": "code",
      "execution_count": null,
      "metadata": {
        "id": "BaH8_fyIQpGt",
        "outputId": "959053b2-a0db-4b0e-8b43-b18fd641fb45"
      },
      "outputs": [
        {
          "name": "stdout",
          "output_type": "stream",
          "text": [
            "Yes\n"
          ]
        }
      ],
      "source": [
        "print(rain)"
      ]
    },
    {
      "cell_type": "code",
      "execution_count": null,
      "metadata": {
        "id": "vtnx8NYYQpGu",
        "outputId": "bdf6fb03-ed6c-4e99-a5f2-04f007c0f0e6"
      },
      "outputs": [
        {
          "name": "stdout",
          "output_type": "stream",
          "text": [
            "I am going to take umbrella\n"
          ]
        }
      ],
      "source": [
        "if (rain == \"Yes\") :\n",
        "    print(\"I am going to take umbrella\")\n",
        "\n",
        "else :\n",
        "    print(\"I am not going to take Umbrella\")"
      ]
    },
    {
      "cell_type": "code",
      "execution_count": null,
      "metadata": {
        "id": "CsG4BJEgQpGu",
        "outputId": "3c39d993-fb4a-41b2-982e-16813aaf2dd4"
      },
      "outputs": [
        {
          "name": "stdout",
          "output_type": "stream",
          "text": [
            "Enter the rain status (1/0) :0\n"
          ]
        }
      ],
      "source": [
        "\n",
        "rain = int(input(\"Enter the rain status (1/0) :\"))"
      ]
    },
    {
      "cell_type": "code",
      "execution_count": null,
      "metadata": {
        "id": "KBMeVwxnQpGv",
        "outputId": "cd96cc19-107d-4600-d305-bdc92c43d11b"
      },
      "outputs": [
        {
          "name": "stdout",
          "output_type": "stream",
          "text": [
            "0\n"
          ]
        }
      ],
      "source": [
        "print(rain)"
      ]
    },
    {
      "cell_type": "code",
      "execution_count": null,
      "metadata": {
        "id": "iRTdy5vIQpGw",
        "outputId": "86ddee39-6087-4c30-80bf-967c9396f0c5"
      },
      "outputs": [
        {
          "data": {
            "text/plain": [
              "False"
            ]
          },
          "execution_count": 6,
          "metadata": {},
          "output_type": "execute_result"
        }
      ],
      "source": [
        "rain ==1"
      ]
    },
    {
      "cell_type": "code",
      "execution_count": null,
      "metadata": {
        "id": "OC0iDzaYQpGw",
        "outputId": "d5302fa2-6ef5-4848-d9e6-b4c197d737a2"
      },
      "outputs": [
        {
          "name": "stdout",
          "output_type": "stream",
          "text": [
            "I am not going to take Umbrella\n"
          ]
        }
      ],
      "source": [
        "if (rain == 1) :\n",
        "    print(\"I am going to take umbrella\")\n",
        "    print (\"Also I will take rain coat for safety\")\n",
        "\n",
        "else :\n",
        "    print(\"I am not going to take Umbrella\")"
      ]
    },
    {
      "cell_type": "code",
      "execution_count": null,
      "metadata": {
        "id": "R9A2nCPiQpGx"
      },
      "outputs": [],
      "source": []
    },
    {
      "cell_type": "code",
      "execution_count": null,
      "metadata": {
        "id": "U11xxK5NQpGy"
      },
      "outputs": [],
      "source": []
    },
    {
      "cell_type": "code",
      "execution_count": null,
      "metadata": {
        "id": "HLM4kNPeQpGz"
      },
      "outputs": [],
      "source": []
    },
    {
      "cell_type": "markdown",
      "metadata": {
        "id": "fzJpsXXlQpGz"
      },
      "source": [
        "### Simpe If else block"
      ]
    },
    {
      "cell_type": "code",
      "execution_count": null,
      "metadata": {
        "id": "V1sqqKCgQpG0",
        "outputId": "42908cd2-ed7f-43f4-a773-80698042e792"
      },
      "outputs": [
        {
          "name": "stdout",
          "output_type": "stream",
          "text": [
            "Number is not 10\n"
          ]
        }
      ],
      "source": [
        "num = 11\n",
        "\n",
        "if (num==10 ):\n",
        "    print(\"Number is 10\")\n",
        "else:\n",
        "    print(\"Number is not 10\")"
      ]
    },
    {
      "cell_type": "code",
      "execution_count": null,
      "metadata": {
        "id": "nYFuGufXQpG1"
      },
      "outputs": [],
      "source": []
    },
    {
      "cell_type": "code",
      "execution_count": null,
      "metadata": {
        "id": "te1j5CSBQpG2"
      },
      "outputs": [],
      "source": [
        "num = 12"
      ]
    },
    {
      "cell_type": "code",
      "execution_count": null,
      "metadata": {
        "id": "AWg0Olp2QpG4",
        "outputId": "060ee833-a5fb-4fa4-d07c-f2831c6bbf46"
      },
      "outputs": [
        {
          "name": "stdout",
          "output_type": "stream",
          "text": [
            "12\n"
          ]
        }
      ],
      "source": [
        "print(num)"
      ]
    },
    {
      "cell_type": "code",
      "execution_count": null,
      "metadata": {
        "id": "4-8070iIQpG5",
        "outputId": "db366938-27bc-417c-ef5f-58ad70fa9ff5"
      },
      "outputs": [
        {
          "name": "stdout",
          "output_type": "stream",
          "text": [
            "The number was not 10\n",
            "16\n"
          ]
        }
      ],
      "source": [
        "if (num==10):\n",
        "    print(\"Number is 10\")\n",
        "else:\n",
        "    num=num+1\n",
        "    print(\"The number was not 10\")\n",
        "    print(num)"
      ]
    },
    {
      "cell_type": "code",
      "execution_count": null,
      "metadata": {
        "id": "tx2Q4V31QpG6"
      },
      "outputs": [],
      "source": [
        "num = 12"
      ]
    },
    {
      "cell_type": "code",
      "execution_count": null,
      "metadata": {
        "id": "XPzuUHSSQpG7",
        "outputId": "a5754daf-1940-4eeb-e218-9060e8e083e1"
      },
      "outputs": [
        {
          "name": "stdout",
          "output_type": "stream",
          "text": [
            "the number is not 10\n",
            " The incremented value   of num is 15 \n"
          ]
        }
      ],
      "source": [
        "\n",
        "\n",
        "if (num==10):\n",
        "    print(\"Number is 10\")\n",
        "else:\n",
        "    num=num+1\n",
        "    print(\"the number is not 10\")\n",
        "    print(\" The incremented value   of num is {} \".format(num))"
      ]
    },
    {
      "cell_type": "code",
      "execution_count": null,
      "metadata": {
        "id": "jpaLZ1mJQpG7"
      },
      "outputs": [],
      "source": []
    },
    {
      "cell_type": "code",
      "execution_count": null,
      "metadata": {
        "id": "dUGZhFlnQpG8"
      },
      "outputs": [],
      "source": []
    },
    {
      "cell_type": "markdown",
      "metadata": {
        "id": "qAeRCEqEQpG8"
      },
      "source": [
        "## Simple if elif block"
      ]
    },
    {
      "cell_type": "markdown",
      "metadata": {
        "id": "tvCxzqRdQpG8"
      },
      "source": [
        "## Example - Bus fare and age"
      ]
    },
    {
      "cell_type": "code",
      "execution_count": null,
      "metadata": {
        "id": "kygEcxXKQpG9",
        "outputId": "637e1511-d601-4645-db80-ea04a0cde89c"
      },
      "outputs": [
        {
          "name": "stdout",
          "output_type": "stream",
          "text": [
            "Enter the age :2\n",
            "The bus fare is 0\n"
          ]
        }
      ],
      "source": [
        "age = int(input(\"Enter the age :\"))\n",
        "\n",
        "\n",
        "if (0<=age<3):\n",
        "    print(\"The bus fare is 0\")\n",
        "elif(3<=age<=10):\n",
        "    print(\"Bus fare is 20\")\n",
        "elif(10<age<20):\n",
        "    print(\"Bus fare is 25\")\n",
        "elif (65<=age<=110):\n",
        "    print(\"The bus fare is 0 for Senior Citizen\")\n",
        "else:\n",
        "    print(\"Bus fare is 30\")\n",
        ""
      ]
    },
    {
      "cell_type": "code",
      "execution_count": null,
      "metadata": {
        "id": "rUzw7MQNQpG9",
        "outputId": "587efd94-5572-4502-82a4-012d9808eda4"
      },
      "outputs": [
        {
          "name": "stdout",
          "output_type": "stream",
          "text": [
            "Enter the age :35\n",
            "Bus fare is 30\n"
          ]
        }
      ],
      "source": [
        "age = int(input(\"Enter the age :\"))\n",
        "\n",
        "# first Block\n",
        "if (age >= 0 and age<3):\n",
        "    print(\"The bus fare is 0\")\n",
        "# second block\n",
        "elif(age >= 3 and age <=10):\n",
        "    print(\"Bus fare is 20\")\n",
        "# third block\n",
        "elif(age > 10 and age <20 ):\n",
        "    print(\"Bus fare is 25\")\n",
        "# fourth block\n",
        "elif (age >=65 and age <=110):\n",
        "    print(\"The bus fare is 0 for Senior Citizen\")\n",
        "#fifth block\n",
        "    else:\n",
        "    print(\"Bus fare is 30\")\n",
        ""
      ]
    },
    {
      "cell_type": "code",
      "execution_count": null,
      "metadata": {
        "id": "UzTDlGSvQpG-",
        "outputId": "2cbd5da4-2d40-49b3-c045-09b35bb0ddd1"
      },
      "outputs": [
        {
          "name": "stdout",
          "output_type": "stream",
          "text": [
            "Enter the age :66\n",
            "The bus fare is 0 for Senior Citizen\n"
          ]
        }
      ],
      "source": [
        "age = int(input(\"Enter the age :\"))\n",
        "# 0<=age<3\n",
        "if ((age==0 or age>0) and (age<3 or age==3) ):\n",
        "    print(\"The bus fare is 0\")\n",
        "elif ( (age==65 or age>65) and (age==110 or age<110)):\n",
        "    print(\"The bus fare is 0 for Senior Citizen\")\n",
        "else:\n",
        "    print(\"Bus fare is 30\")"
      ]
    },
    {
      "cell_type": "code",
      "execution_count": null,
      "metadata": {
        "id": "QJuhmX3rQpG-"
      },
      "outputs": [],
      "source": []
    },
    {
      "cell_type": "code",
      "execution_count": null,
      "metadata": {
        "id": "_kdX_K--QpG_"
      },
      "outputs": [],
      "source": []
    },
    {
      "cell_type": "code",
      "execution_count": null,
      "metadata": {
        "id": "EzSNfIhwQpHA"
      },
      "outputs": [],
      "source": []
    },
    {
      "cell_type": "code",
      "execution_count": null,
      "metadata": {
        "id": "NUlQUo_MQpHB"
      },
      "outputs": [],
      "source": []
    },
    {
      "cell_type": "code",
      "execution_count": null,
      "metadata": {
        "id": "z2HJnKrKQpHB"
      },
      "outputs": [],
      "source": []
    },
    {
      "cell_type": "code",
      "execution_count": null,
      "metadata": {
        "id": "toyxeAinQpHC"
      },
      "outputs": [],
      "source": []
    },
    {
      "cell_type": "markdown",
      "metadata": {
        "id": "oDXyficuQpHC"
      },
      "source": [
        "## Example 2 - Raining and Umbrella and Uber"
      ]
    },
    {
      "cell_type": "code",
      "execution_count": null,
      "metadata": {
        "id": "6V_lrSbGQpHD",
        "outputId": "2429f9df-df87-4f73-ad1d-0cacbe41a7e5"
      },
      "outputs": [
        {
          "name": "stdout",
          "output_type": "stream",
          "text": [
            "Enter whether it is raining or not :No\n"
          ]
        }
      ],
      "source": [
        "Raining = str(input(\"Enter whether it is raining or not :\"))"
      ]
    },
    {
      "cell_type": "code",
      "execution_count": null,
      "metadata": {
        "id": "nHXC9UMRQpHE",
        "outputId": "173aea8e-c0e8-485d-b208-2e715dc707df"
      },
      "outputs": [
        {
          "name": "stdout",
          "output_type": "stream",
          "text": [
            "Enter whether you have umbrella with you or not :No\n"
          ]
        }
      ],
      "source": [
        "Umbrella_Available = str (input(\"Enter whether you have umbrella with you or not :\"))"
      ]
    },
    {
      "cell_type": "code",
      "execution_count": null,
      "metadata": {
        "id": "IaloFWREQpHF",
        "outputId": "6abf6c41-7247-4506-ca2b-67b46073e62e"
      },
      "outputs": [
        {
          "name": "stdout",
          "output_type": "stream",
          "text": [
            "Enter whether you uber is available or not :No\n"
          ]
        }
      ],
      "source": [
        "Uber_Available =str (input(\"Enter whether you uber is available or not :\"))"
      ]
    },
    {
      "cell_type": "code",
      "execution_count": null,
      "metadata": {
        "id": "3gEQiSA7QpHF",
        "outputId": "ff41b9bb-7cef-4c0c-fe0f-cd7a503efbbb"
      },
      "outputs": [
        {
          "name": "stdout",
          "output_type": "stream",
          "text": [
            "No\n",
            "No\n",
            "No\n"
          ]
        }
      ],
      "source": [
        "print (Raining)\n",
        "print (Umbrella_Available)\n",
        "print(Uber_Available)"
      ]
    },
    {
      "cell_type": "code",
      "execution_count": null,
      "metadata": {
        "id": "fgT_NDreQpHG",
        "outputId": "8a7a7045-67f1-4585-d462-ce88a1e4d920"
      },
      "outputs": [
        {
          "name": "stdout",
          "output_type": "stream",
          "text": [
            "The rainining condition is  No\n"
          ]
        }
      ],
      "source": [
        "print(\"The rainining condition is \",Raining)"
      ]
    },
    {
      "cell_type": "code",
      "execution_count": null,
      "metadata": {
        "id": "F6_MJoXiQpHH",
        "outputId": "5cce5af6-2dd2-4eb8-9de5-9f965d140e5a"
      },
      "outputs": [
        {
          "name": "stdout",
          "output_type": "stream",
          "text": [
            "The raining condition is  No\n"
          ]
        }
      ],
      "source": [
        "print(\"The raining condition is  {}\".format(Raining))"
      ]
    },
    {
      "cell_type": "code",
      "execution_count": null,
      "metadata": {
        "id": "I22nflFIQpHH",
        "outputId": "d1882faa-922f-4df3-d470-a70784c395ed"
      },
      "outputs": [
        {
          "name": "stdout",
          "output_type": "stream",
          "text": [
            "Goin to Office ?  Yes Frist Block decsison\n"
          ]
        }
      ],
      "source": [
        "\n",
        "#First Block\n",
        "if (Raining=='No' and Umbrella_Available=='No'):\n",
        "    Going_to_Office=\"Yes\"\n",
        "    print(\"Goin to Office ?  {} Frist Block decsison\".format(Going_to_Office))\n",
        "\n",
        "#Second Block\n",
        "elif (Raining==\"Yes\" and Umbrella_Available==\"No\" and Uber_Available==\"No\"):\n",
        "    Going_to_Office='No'\n",
        "    print(\"The decision to go office is : {} and decision is made from 2nd block\".format(Going_to_Office))\n",
        "\n",
        "#third Block\n",
        "elif (Raining==\"Yes\" and Umbrella_Available==\"No\" and Uber_Available==\"Yes\"):\n",
        "    Going_to_Office='Yes'\n",
        "    print(\"The decision to go office is : {}  and decision is made from 3rd block\".format(Going_to_Office))\n",
        "\n",
        "#fourth Block\n",
        "elif (Raining=='No' and Umbrella_Available==\"No\" and Uber_Available==\"Yes\"):\n",
        "    Going_to_Office=\"Yes\"\n",
        "    print(\"The decision to go office is : {}  and decision is made from 4th block\".format(Going_to_Office))\n",
        "# else:\n",
        "#     Going_to_Office=\"Yes\"\n",
        "#     print(\"The decision to go office is : {} and decision is made from 5th block which is else \".format(Going_to_Office))"
      ]
    },
    {
      "cell_type": "markdown",
      "metadata": {
        "id": "tX4cfT6fQpHI"
      },
      "source": [
        "# Example 3 - Restaurant"
      ]
    },
    {
      "cell_type": "markdown",
      "metadata": {
        "id": "DFbkd87FQpHI"
      },
      "source": [
        "## Nested If elif logic"
      ]
    },
    {
      "cell_type": "markdown",
      "metadata": {
        "id": "QkplvoKFQpHJ"
      },
      "source": [
        "### Build Nest if elif logic for Purchasing Pizza or Burger in a Restaurant"
      ]
    },
    {
      "cell_type": "markdown",
      "metadata": {
        "id": "i_0VogLHQpHJ"
      },
      "source": [
        "### Veg , Thin Crust , Toppings - (T1, T2, T3, T4) , Free Coke"
      ]
    },
    {
      "cell_type": "markdown",
      "metadata": {
        "id": "hLH01DS-QpHK"
      },
      "source": [
        "### Burger - Veg (V1), Topping - (Not T2)  "
      ]
    },
    {
      "cell_type": "markdown",
      "metadata": {
        "id": "WvCgjEDfQpHK"
      },
      "source": [
        "### <!-- Pizza - Yes/No\n",
        "Veg - Yes/No\n",
        "Topping - t1 - No\n",
        "          t2- Yes\n",
        "          t3- Yes\n",
        "Free Coke - No --> -->"
      ]
    },
    {
      "cell_type": "code",
      "execution_count": null,
      "metadata": {
        "id": "bRYwWjDpQpHL"
      },
      "outputs": [],
      "source": [
        "Pizza=\"1\"\n",
        "Burger =\"0\"\n",
        "T1=\"1\"\n",
        "T2=\"1\"\n",
        "T3=\"1\"\n",
        "T4=\"1\"\n",
        "Thin_Crust=\"1\"\n",
        "Free_Coke=\"0\"\n"
      ]
    },
    {
      "cell_type": "code",
      "execution_count": null,
      "metadata": {
        "id": "IjpJi0eCQpHM",
        "outputId": "aaa7d738-e22f-496b-e58d-c12136fa3c3d"
      },
      "outputs": [
        {
          "name": "stdout",
          "output_type": "stream",
          "text": [
            " Want Pizza : 0\n"
          ]
        }
      ],
      "source": [
        "Pizza = int( input(\" Want Pizza : \") )"
      ]
    },
    {
      "cell_type": "code",
      "execution_count": null,
      "metadata": {
        "id": "1iH7Pi-zQpHM",
        "outputId": "95415441-f6e7-4972-aed5-219c455c6232"
      },
      "outputs": [
        {
          "name": "stdout",
          "output_type": "stream",
          "text": [
            " Which Topping ? : t1\n"
          ]
        }
      ],
      "source": [
        "Toppings =str( input(\" Which Topping ? : \") )"
      ]
    },
    {
      "cell_type": "code",
      "execution_count": null,
      "metadata": {
        "id": "qrrBll4YQpHN",
        "outputId": "d5265bfc-4779-4912-f65c-4b39baa4c77f"
      },
      "outputs": [
        {
          "name": "stdout",
          "output_type": "stream",
          "text": [
            " Want T1 : 1\n",
            " Want T2 : 1\n",
            " Want T3 : 1\n"
          ]
        }
      ],
      "source": [
        "T1 = int( input(\" Want T1 : \") )\n",
        "T2 = int( input(\" Want T2 : \") )\n",
        "T3 = int( input(\" Want T3 : \") )"
      ]
    },
    {
      "cell_type": "code",
      "execution_count": null,
      "metadata": {
        "id": "VDywHWm9QpHN",
        "outputId": "b08fb994-ad84-44e0-c2e3-998d53af432d"
      },
      "outputs": [
        {
          "name": "stdout",
          "output_type": "stream",
          "text": [
            "Want Burger :no\n"
          ]
        }
      ],
      "source": [
        "Burger = str(input(\"Want Burger :\"))"
      ]
    },
    {
      "cell_type": "code",
      "execution_count": null,
      "metadata": {
        "id": "597OWSthQpHO"
      },
      "outputs": [],
      "source": [
        "\n",
        "\n",
        "\n",
        "\n",
        "if (Pizza==1):\n",
        "    print(\"The Pizza values is 1 which is Yes\")\n",
        "    if (Burger==\"No\"):\n",
        "        print( \"I am Sad\")\n",
        "elif (Pizza==\"Yes\"):\n",
        "    if(T1=='Yes' and T2==\"Yes\" and T3==\"Yes\" and T4==\"Yes\" and Thin_Crust=='Yes' and Free_Coke=='Yes'):\n",
        "        print(\"Yes  please order and tell me price\")\n",
        "    else:\n",
        "        print(\"Thank you\")\n",
        "\n",
        "\n",
        "\n",
        "\n",
        "\n",
        "\n",
        "\n",
        "#     elif(T1=='Yes' and T2=\"Yes\"and T3==\"Yes\" and T4==\"No\" and Thin_Crust=='Yes' and Free_Coke=='Yes')\n",
        "#         print(\"No sir I dont want to order\")\n",
        "#     elif(T1=='Yes' and T2=\"Yes\"and T3==\"No\" and T4==\"No\" and Thin_Crust=='Yes' and Free_Coke=='Yes')\n",
        "#         print(\"No sir I dont want to order\")\n",
        "#     elif(T1=='No' and T2=\"Yes\"and T3==\"No\" and T4==\"No\" and Thin_Crust=='Yes' and Free_Coke=='Yes')\n",
        "#         print(\"No sir I dont want to order\")"
      ]
    },
    {
      "cell_type": "code",
      "execution_count": null,
      "metadata": {
        "id": "iTnQArcpQpHO"
      },
      "outputs": [],
      "source": []
    },
    {
      "cell_type": "code",
      "execution_count": null,
      "metadata": {
        "id": "gb7LjlZ_QpHP"
      },
      "outputs": [],
      "source": [
        "Pizza=\"Yes\"\n",
        "\n"
      ]
    },
    {
      "cell_type": "code",
      "execution_count": null,
      "metadata": {
        "id": "PHoaDpIVQpHQ",
        "outputId": "003a856c-e6e6-4b8b-bde0-8eec2d64ae6b"
      },
      "outputs": [
        {
          "data": {
            "text/plain": [
              "'Yes'"
            ]
          },
          "execution_count": 3,
          "metadata": {},
          "output_type": "execute_result"
        }
      ],
      "source": [
        "Pizza"
      ]
    },
    {
      "cell_type": "code",
      "execution_count": null,
      "metadata": {
        "id": "NA22SCpwQpHR"
      },
      "outputs": [],
      "source": [
        "Number_Order= 5"
      ]
    },
    {
      "cell_type": "code",
      "execution_count": null,
      "metadata": {
        "id": "7ULpJPCwQpHR"
      },
      "outputs": [],
      "source": [
        "Topping='T1'\n",
        "Topping='T2'"
      ]
    },
    {
      "cell_type": "code",
      "execution_count": null,
      "metadata": {
        "id": "BVr7zPLcQpHS",
        "outputId": "345ff7dd-cd76-4485-ec3d-1d1b6ce87de9"
      },
      "outputs": [
        {
          "data": {
            "text/plain": [
              "'T2'"
            ]
          },
          "execution_count": 6,
          "metadata": {},
          "output_type": "execute_result"
        }
      ],
      "source": [
        "Topping"
      ]
    },
    {
      "cell_type": "markdown",
      "metadata": {
        "id": "brgn96l8QpHT"
      },
      "source": [
        "## Which item do the customer want"
      ]
    },
    {
      "cell_type": "code",
      "execution_count": null,
      "metadata": {
        "id": "bWsevcc8QpHT",
        "outputId": "b7df2412-222c-49f0-8fe2-caf29ed94f18"
      },
      "outputs": [
        {
          "name": "stdout",
          "output_type": "stream",
          "text": [
            "Enter the item :drnk\n",
            "Ok you have choosen drink, , please help us in further question\n",
            "You want COKE or PEPSI ?\n",
            "COKE or Pepsi because we only serve these two : Pep\n",
            "Enter you prefered drink size: s\n",
            "You have choosen a  s drink and you have choosen Pep\n",
            "the price is 16\n"
          ]
        }
      ],
      "source": [
        "item= str(input(\"Enter the item :\"))\n",
        "\n",
        "if (item in ('Pizza','PIZZA','PIZ','PI','piza''PIZARIA' )):\n",
        "    print(\"Ok you have choosen pizza , please help us in further question\")\n",
        "    print(\"You need veg / non veg pizza ?\")\n",
        "    veg_non_veg  = str(input(\"Enter you preference : \"))\n",
        "    if (veg_non_veg in ('veg','VEG','vg','ve') ):\n",
        "        print(\"As you have choosen\",veg_non_veg,\"Pizza\")\n",
        "        print(\"Please help us in knowing veg topping you want\")\n",
        "        topping_veg  = str(input(\"Do you want us to ask for toppings : \"))\n",
        "        print(\"Thanks , we are going to veg topping prefrences \")\n",
        "        VT1= str(input(\"You want Veg Topping 1 :\"))\n",
        "        VT2= str(input(\"You want Veg Topping 2 :\"))\n",
        "        if (VT1 in ('Yes','y','yes')):\n",
        "            print(\"You have choosen VT1\")\n",
        "        elif(VT2 in  ('Yes','y','yes')):\n",
        "            print(\"You have choosen VT2\")\n",
        "        else :\n",
        "            print(\"You have not choosen toppings, we cannot provide veg pizza without toppings\")\n",
        "    elif ( veg_non_veg in ('nveg','NON-VEG','nvg','nv','NON Vegeterian') ):\n",
        "        print(\"As you have choosen\",veg_non_veg,\"Pizza\")\n",
        "        print(\"Please help us in knowing non veg topping you want\")\n",
        "        topping_non_veg  = str(input(\"Do you want us to ask for toppings : \"))\n",
        "        print(\"Thanks , we are going to veg topping prefrences \")\n",
        "        NVT1= str(input(\"You want Non-Veg Topping 1 :\"))\n",
        "        NVT2= str(input(\"You want Non-Veg Topping 2 :\"))\n",
        "        if (NVT1  in ('Yes','y','yes')):\n",
        "            print(\"You have choosen NVT1\")\n",
        "        elif(NVT2 in  ('Yes','y','yes')):\n",
        "            print(\"You have choosen NVT2\")\n",
        "        else :\n",
        "            print(\"You have not choosen toppings, we cannot provide non -veg pizza without toppings\")\n",
        "\n",
        "\n",
        "\n",
        "\n",
        "elif (item in ('burgr','berger','brgr','BERGER')):\n",
        "    print( \"Ok you have choosen burger, , please help us in further question\")\n",
        "    print(\"You want single or double ?\")\n",
        "    single_double  = str(input(\"Enter you preference : \"))\n",
        "    print (\"You have choosen a \",single_double,\"burger\")\n",
        "\n",
        "\n",
        "elif (item in ('drick','drnk','I am thirsty','DRINK','SOFT drink')):\n",
        "    print( \"Ok you have choosen drink, , please help us in further question\")\n",
        "    print(\"You want COKE or PEPSI ?\")\n",
        "    COKE_PEPSI  = str(input(\"COKE or Pepsi because we only serve these two : \"))\n",
        "    drink_size  = str(input(\"Enter you prefered drink size: \"))\n",
        "    print (\"You have choosen a \",drink_size,\"drink and you have choosen\" , COKE_PEPSI)\n",
        "    if (COKE_PEPSI in ('CK','COKE','coca-cola') and drink_size in ('s','small','SM')):\n",
        "        print(\"the price is 15\")\n",
        "    elif (COKE_PEPSI in ('CK','COKE','coca-cola') and drink_size in ('M','Medium','med')):\n",
        "        print(\"the price is 20\")\n",
        "    elif (COKE_PEPSI in ('PEP','PEPSI','Pep','pepsi') and drink_size in ('s','small','SM')):\n",
        "        print(\"the price is 16\")\n",
        "    elif (COKE_PEPSI in ('PEP','PEPSI','Pep','pepsi') and drink_size in ('M','Medium','med') ):\n",
        "        print(\"the price is 21\")\n",
        "    else :\n",
        "        print(\"Please enter preference correctly\")\n",
        "\n",
        "\n",
        "else:\n",
        "        print(\"Soory we don't serve this\")\n",
        "\n",
        "\n"
      ]
    },
    {
      "cell_type": "code",
      "execution_count": null,
      "metadata": {
        "id": "tkhSeyUVQpHU"
      },
      "outputs": [],
      "source": []
    },
    {
      "cell_type": "markdown",
      "metadata": {
        "id": "Lr3o7qoUQpHU"
      },
      "source": [
        "# Data Type Conversion"
      ]
    },
    {
      "cell_type": "markdown",
      "metadata": {
        "id": "vVMne6SBQpHV"
      },
      "source": [
        "![image.png](attachment:image.png)##"
      ]
    },
    {
      "cell_type": "markdown",
      "metadata": {
        "id": "x1NXrTmBQpHV"
      },
      "source": [
        "# ![image.png](attachment:image.png)"
      ]
    },
    {
      "cell_type": "markdown",
      "metadata": {
        "id": "rzQb7d4WQpHV"
      },
      "source": [
        "## ![image.png](attachment:image.png)"
      ]
    },
    {
      "cell_type": "markdown",
      "metadata": {
        "id": "Q2oTYc-uQpHW"
      },
      "source": [
        "# Implicit Conversion"
      ]
    },
    {
      "cell_type": "code",
      "execution_count": null,
      "metadata": {
        "id": "YUmJlafMQpHW"
      },
      "outputs": [],
      "source": [
        "# float value\n",
        "\n",
        "Sales_price_per_item = 8.9"
      ]
    },
    {
      "cell_type": "code",
      "execution_count": null,
      "metadata": {
        "id": "-VEJHlSQQpHX",
        "outputId": "2340137b-9a69-4ea0-8c7d-94fd5af8f4ba"
      },
      "outputs": [
        {
          "data": {
            "text/plain": [
              "8.9"
            ]
          },
          "execution_count": 2,
          "metadata": {},
          "output_type": "execute_result"
        }
      ],
      "source": [
        "Sales_price_per_item"
      ]
    },
    {
      "cell_type": "code",
      "execution_count": null,
      "metadata": {
        "id": "h1A1SSAZQpHY"
      },
      "outputs": [],
      "source": [
        "# Integer Value\n",
        "\n",
        "Number_of_Items_ordered = 6"
      ]
    },
    {
      "cell_type": "code",
      "execution_count": null,
      "metadata": {
        "id": "iqeIPrz8QpHZ"
      },
      "outputs": [],
      "source": [
        "# Total Bill\n",
        "Total_bill = Sales_price_per_item * Number_of_Items_ordered"
      ]
    },
    {
      "cell_type": "code",
      "execution_count": null,
      "metadata": {
        "id": "Y3oxhkc4QpHa",
        "outputId": "98ab19cd-b170-4577-f6d6-22d8a7be5e01"
      },
      "outputs": [
        {
          "data": {
            "text/plain": [
              "53.400000000000006"
            ]
          },
          "execution_count": 5,
          "metadata": {},
          "output_type": "execute_result"
        }
      ],
      "source": [
        "Total_bill"
      ]
    },
    {
      "cell_type": "code",
      "execution_count": null,
      "metadata": {
        "id": "ZYiZamYJQpHa",
        "outputId": "f12cd62e-e860-42f9-bc79-8d041fcba9d0"
      },
      "outputs": [
        {
          "data": {
            "text/plain": [
              "53"
            ]
          },
          "execution_count": 77,
          "metadata": {},
          "output_type": "execute_result"
        }
      ],
      "source": [
        "round(Total_bill)"
      ]
    },
    {
      "cell_type": "code",
      "execution_count": null,
      "metadata": {
        "id": "e1AD3tJGQpHb"
      },
      "outputs": [],
      "source": []
    },
    {
      "cell_type": "code",
      "execution_count": null,
      "metadata": {
        "id": "aTcKi2QvQpHb",
        "outputId": "db98da5e-39c9-47e1-8bae-10c44dc3adc6"
      },
      "outputs": [
        {
          "name": "stdout",
          "output_type": "stream",
          "text": [
            "The total price of items purchased from ABC store is 53.400000000000006 where number of items purchased were 6\n"
          ]
        }
      ],
      "source": [
        "print(\"The total price of items purchased from ABC store is {} where number of items purchased were {}\".format(Total_bill,Number_of_Items_ordered))"
      ]
    },
    {
      "cell_type": "code",
      "execution_count": null,
      "metadata": {
        "id": "RrwIomUBQpHb",
        "outputId": "d6f3d1f6-821d-4c30-b0e6-34a2fb2dce50"
      },
      "outputs": [
        {
          "data": {
            "text/plain": [
              "float"
            ]
          },
          "execution_count": 45,
          "metadata": {},
          "output_type": "execute_result"
        }
      ],
      "source": [
        "type(Total_bill)"
      ]
    },
    {
      "cell_type": "markdown",
      "metadata": {
        "id": "D8pQ4jQxQpHc"
      },
      "source": [
        "## Implicit conversion is performed by python in above example as Total bill is assigned as float automatically by Python"
      ]
    },
    {
      "cell_type": "code",
      "execution_count": null,
      "metadata": {
        "id": "OBxTaZxXQpHc"
      },
      "outputs": [],
      "source": []
    },
    {
      "cell_type": "code",
      "execution_count": null,
      "metadata": {
        "id": "xxckQKMVQpHd"
      },
      "outputs": [],
      "source": []
    },
    {
      "cell_type": "code",
      "execution_count": null,
      "metadata": {
        "id": "WQWz9nNjQpHd"
      },
      "outputs": [],
      "source": []
    },
    {
      "cell_type": "markdown",
      "metadata": {
        "id": "1r0PX4CeQpHd"
      },
      "source": [
        "## We are going to do Explicit Conversion"
      ]
    },
    {
      "cell_type": "code",
      "execution_count": null,
      "metadata": {
        "id": "iUqgwm4KQpHe"
      },
      "outputs": [],
      "source": [
        "Price_per_item= 490"
      ]
    },
    {
      "cell_type": "code",
      "execution_count": null,
      "metadata": {
        "id": "CbA_IPjaQpHe",
        "outputId": "a9d48211-59c7-4e53-a0e2-a7aa6229aff9"
      },
      "outputs": [
        {
          "data": {
            "text/plain": [
              "int"
            ]
          },
          "execution_count": 7,
          "metadata": {},
          "output_type": "execute_result"
        }
      ],
      "source": [
        "type(Price_per_item)"
      ]
    },
    {
      "cell_type": "code",
      "execution_count": null,
      "metadata": {
        "id": "L-VFbl64QpHf"
      },
      "outputs": [],
      "source": [
        "Service_tax=\"2.5\""
      ]
    },
    {
      "cell_type": "code",
      "execution_count": null,
      "metadata": {
        "id": "Rn7rfHhbQpHg",
        "outputId": "b3d5c64b-1ca8-430c-c25f-052459443981"
      },
      "outputs": [
        {
          "data": {
            "text/plain": [
              "str"
            ]
          },
          "execution_count": 9,
          "metadata": {},
          "output_type": "execute_result"
        }
      ],
      "source": [
        "type(Service_tax)"
      ]
    },
    {
      "cell_type": "code",
      "execution_count": null,
      "metadata": {
        "id": "rFAv8NihQpHh",
        "outputId": "3d315266-3c55-460d-868e-62590b23e370"
      },
      "outputs": [
        {
          "ename": "TypeError",
          "evalue": "unsupported operand type(s) for +: 'int' and 'str'",
          "output_type": "error",
          "traceback": [
            "\u001b[1;31m---------------------------------------------------------------------------\u001b[0m",
            "\u001b[1;31mTypeError\u001b[0m                                 Traceback (most recent call last)",
            "\u001b[1;32m<ipython-input-11-2eee239925d0>\u001b[0m in \u001b[0;36m<module>\u001b[1;34m\u001b[0m\n\u001b[1;32m----> 1\u001b[1;33m \u001b[0mTotal_price_including_tax\u001b[0m \u001b[1;33m=\u001b[0m \u001b[0mPrice_per_item\u001b[0m  \u001b[1;33m+\u001b[0m  \u001b[0mService_tax\u001b[0m\u001b[1;33m\u001b[0m\u001b[1;33m\u001b[0m\u001b[0m\n\u001b[0m",
            "\u001b[1;31mTypeError\u001b[0m: unsupported operand type(s) for +: 'int' and 'str'"
          ]
        }
      ],
      "source": [
        "Total_price_including_tax = Price_per_item  +  Service_tax"
      ]
    },
    {
      "cell_type": "markdown",
      "metadata": {
        "id": "WKMDXDvkQpHi"
      },
      "source": [
        "# Solution is Explicit Conversion which is a forceful method"
      ]
    },
    {
      "cell_type": "code",
      "execution_count": null,
      "metadata": {
        "id": "3AM8KSrtQpHj"
      },
      "outputs": [],
      "source": [
        "Total_price_including_tax= Price_per_item +  float(Service_tax)"
      ]
    },
    {
      "cell_type": "code",
      "execution_count": null,
      "metadata": {
        "scrolled": true,
        "id": "p3k6Go_kQpHj",
        "outputId": "8d93de19-0be8-4971-d5d6-e7f4cdcfb0b4"
      },
      "outputs": [
        {
          "data": {
            "text/plain": [
              "492.5"
            ]
          },
          "execution_count": 14,
          "metadata": {},
          "output_type": "execute_result"
        }
      ],
      "source": [
        "Total_price_including_tax"
      ]
    },
    {
      "cell_type": "code",
      "execution_count": null,
      "metadata": {
        "id": "Q7r1JJARQpHk"
      },
      "outputs": [],
      "source": []
    },
    {
      "cell_type": "code",
      "execution_count": null,
      "metadata": {
        "id": "qgaUtN5iQpHl"
      },
      "outputs": [],
      "source": []
    },
    {
      "cell_type": "markdown",
      "metadata": {
        "id": "0Sx76pyJQpHl"
      },
      "source": [
        "# Type Casting"
      ]
    },
    {
      "cell_type": "markdown",
      "metadata": {
        "id": "V7ARnyiNQpHm"
      },
      "source": [
        "#Int()\n",
        "#Float()\n",
        "#Bool()\n",
        "#Str()"
      ]
    },
    {
      "cell_type": "markdown",
      "metadata": {
        "id": "6TAotKDUQpHn"
      },
      "source": [
        "### Float Type Casting to String"
      ]
    },
    {
      "cell_type": "code",
      "execution_count": null,
      "metadata": {
        "id": "_Tel9yu9QpHn",
        "outputId": "0c131bd2-49e2-4db1-f869-a1651859ec36"
      },
      "outputs": [
        {
          "data": {
            "text/plain": [
              "492.5"
            ]
          },
          "execution_count": 17,
          "metadata": {},
          "output_type": "execute_result"
        }
      ],
      "source": [
        "Total_price_including_tax"
      ]
    },
    {
      "cell_type": "code",
      "execution_count": null,
      "metadata": {
        "id": "DKbcuiavQpHo",
        "outputId": "3edd08a7-b445-40c6-8913-4fdf5106221b"
      },
      "outputs": [
        {
          "data": {
            "text/plain": [
              "float"
            ]
          },
          "execution_count": 18,
          "metadata": {},
          "output_type": "execute_result"
        }
      ],
      "source": [
        "type(Total_price_including_tax)"
      ]
    },
    {
      "cell_type": "code",
      "execution_count": null,
      "metadata": {
        "id": "gJ7NF_sxQpHp",
        "outputId": "45bf8d87-8ea4-47e1-a6a1-17070047132d"
      },
      "outputs": [
        {
          "data": {
            "text/plain": [
              "'492.5'"
            ]
          },
          "execution_count": 20,
          "metadata": {},
          "output_type": "execute_result"
        }
      ],
      "source": [
        "str(Total_price_including_tax)"
      ]
    },
    {
      "cell_type": "code",
      "execution_count": null,
      "metadata": {
        "id": "xdR9KMnzQpHq"
      },
      "outputs": [],
      "source": []
    },
    {
      "cell_type": "markdown",
      "metadata": {
        "id": "zW5Ar23tQpHq"
      },
      "source": [
        "### Boolean type Casting"
      ]
    },
    {
      "cell_type": "code",
      "execution_count": null,
      "metadata": {
        "id": "uLqAyOh2QpHr"
      },
      "outputs": [],
      "source": [
        "Pizza , Topping1 = 1 , 0"
      ]
    },
    {
      "cell_type": "code",
      "execution_count": null,
      "metadata": {
        "id": "tZkEC0gwQpHs",
        "outputId": "551b22e4-0d93-4c4c-837f-115de69d4202"
      },
      "outputs": [
        {
          "data": {
            "text/plain": [
              "int"
            ]
          },
          "execution_count": 22,
          "metadata": {},
          "output_type": "execute_result"
        }
      ],
      "source": [
        "type(Pizza)"
      ]
    },
    {
      "cell_type": "code",
      "execution_count": null,
      "metadata": {
        "id": "u7hvLJINQpHt",
        "outputId": "7c1f282a-3764-47f5-e742-0a26366d0567"
      },
      "outputs": [
        {
          "data": {
            "text/plain": [
              "True"
            ]
          },
          "execution_count": 24,
          "metadata": {},
          "output_type": "execute_result"
        }
      ],
      "source": [
        "bool(Pizza)"
      ]
    },
    {
      "cell_type": "code",
      "execution_count": null,
      "metadata": {
        "id": "R21OG3XCQpHt",
        "outputId": "9c77138e-a383-4674-c5ce-af3320f61db9"
      },
      "outputs": [
        {
          "data": {
            "text/plain": [
              "False"
            ]
          },
          "execution_count": 26,
          "metadata": {},
          "output_type": "execute_result"
        }
      ],
      "source": [
        "bool(Topping1)"
      ]
    },
    {
      "cell_type": "code",
      "execution_count": null,
      "metadata": {
        "id": "p9SPFR-GQpHu",
        "outputId": "628c5442-292c-44fc-cf36-7332b1eba70d"
      },
      "outputs": [
        {
          "data": {
            "text/plain": [
              "1"
            ]
          },
          "execution_count": 27,
          "metadata": {},
          "output_type": "execute_result"
        }
      ],
      "source": [
        "int(Pizza)"
      ]
    },
    {
      "cell_type": "code",
      "execution_count": null,
      "metadata": {
        "id": "EVF4cEjKQpHu"
      },
      "outputs": [],
      "source": []
    },
    {
      "cell_type": "markdown",
      "metadata": {
        "id": "u_Y7Wj2kQpHv"
      },
      "source": [
        "# Inbuilt function a.k.a Implicit Function"
      ]
    },
    {
      "cell_type": "markdown",
      "metadata": {
        "id": "85HnUttiQpHv"
      },
      "source": [
        "# Functions - User defined function"
      ]
    },
    {
      "cell_type": "markdown",
      "metadata": {
        "id": "HJS2sfcWQpHv"
      },
      "source": [
        "## A function is a block of reusable code that runs when called"
      ]
    },
    {
      "cell_type": "markdown",
      "metadata": {
        "id": "Q-PyNIy1QpHw"
      },
      "source": [
        "# 1 ) Re-Usable"
      ]
    },
    {
      "cell_type": "markdown",
      "metadata": {
        "id": "RmijIFVlQpHw"
      },
      "source": [
        "## 2 ) Runs"
      ]
    },
    {
      "cell_type": "markdown",
      "metadata": {
        "id": "_gymqCnYQpHw"
      },
      "source": [
        "###  3) When called"
      ]
    },
    {
      "cell_type": "markdown",
      "metadata": {
        "id": "64e_jK39QpHx"
      },
      "source": [
        "## Function with Arguments"
      ]
    },
    {
      "cell_type": "markdown",
      "metadata": {
        "id": "Vh0y25SFQpHx"
      },
      "source": [
        "### Anything that we provide within the brackets of a definition of a function , is known as Arguments"
      ]
    },
    {
      "cell_type": "markdown",
      "metadata": {
        "id": "BX-KMFFjQpHz"
      },
      "source": [
        "### Positional Arguments Function"
      ]
    },
    {
      "cell_type": "code",
      "execution_count": null,
      "metadata": {
        "id": "LU7m4rhDQpH0"
      },
      "outputs": [],
      "source": [
        "def sum_of_values(a,b,e,d):\n",
        "    c=a+b+e+d\n",
        "    print(c)"
      ]
    },
    {
      "cell_type": "code",
      "execution_count": null,
      "metadata": {
        "id": "ltDnTTbTQpH0",
        "outputId": "f9a45aa2-34c3-4941-a22f-90c27475b731"
      },
      "outputs": [
        {
          "name": "stdout",
          "output_type": "stream",
          "text": [
            "26\n"
          ]
        }
      ],
      "source": [
        "sum_of_values(4,8,6,8)"
      ]
    },
    {
      "cell_type": "code",
      "execution_count": null,
      "metadata": {
        "id": "U92RKvSUQpH1",
        "outputId": "8b713f0d-9fb4-4d7d-e258-fd4832f155b1"
      },
      "outputs": [
        {
          "name": "stdout",
          "output_type": "stream",
          "text": [
            "80231\n"
          ]
        }
      ],
      "source": [
        "sum_of_values(47475,32756)"
      ]
    },
    {
      "cell_type": "code",
      "execution_count": null,
      "metadata": {
        "id": "PG2hUEyNQpH3",
        "outputId": "dd8e6148-0a0a-4bc5-aaac-9d66df5ffcb3"
      },
      "outputs": [
        {
          "name": "stdout",
          "output_type": "stream",
          "text": [
            "538\n"
          ]
        }
      ],
      "source": [
        "sum_of_values(44,494)"
      ]
    },
    {
      "cell_type": "code",
      "execution_count": null,
      "metadata": {
        "id": "p2fz6OiGQpH4"
      },
      "outputs": [],
      "source": [
        "def multiplication_of_values(a,b):\n",
        "    c=a*b\n",
        "    print(c)"
      ]
    },
    {
      "cell_type": "code",
      "execution_count": null,
      "metadata": {
        "id": "BtuIZy9bQpH5",
        "outputId": "b6b37868-627b-4c51-b5fd-376a5d39e905"
      },
      "outputs": [
        {
          "name": "stdout",
          "output_type": "stream",
          "text": [
            "6\n"
          ]
        }
      ],
      "source": [
        "multiplication_of_values(2,3)"
      ]
    },
    {
      "cell_type": "markdown",
      "metadata": {
        "id": "OAR5L6QBQpH6"
      },
      "source": [
        "###  Non Arguments functions"
      ]
    },
    {
      "cell_type": "code",
      "execution_count": null,
      "metadata": {
        "id": "_85vKWiTQpH6"
      },
      "outputs": [],
      "source": [
        "def what_is_your_mood ():\n",
        "    return\n",
        "\n",
        "def Second_definition():\n",
        "    print(\"this is second function\")\n",
        "\n",
        "def third_definition():\n",
        "    print(\"This is third \")\n",
        "\n"
      ]
    },
    {
      "cell_type": "code",
      "execution_count": null,
      "metadata": {
        "id": "0Gq3Pe_AQpH7"
      },
      "outputs": [],
      "source": [
        "what_is_your_mood()"
      ]
    },
    {
      "cell_type": "code",
      "execution_count": null,
      "metadata": {
        "id": "mf4LiIR6QpH7",
        "outputId": "3c7091b6-21bd-4b34-c40d-d5b47d1fdd85"
      },
      "outputs": [
        {
          "name": "stdout",
          "output_type": "stream",
          "text": [
            "\n"
          ]
        }
      ],
      "source": []
    },
    {
      "cell_type": "markdown",
      "metadata": {
        "id": "of3x5YRcQpH8"
      },
      "source": [
        "# Collections"
      ]
    },
    {
      "cell_type": "markdown",
      "metadata": {
        "id": "02aBR_amQpH9"
      },
      "source": [
        "# Creating String Variable"
      ]
    },
    {
      "cell_type": "markdown",
      "metadata": {
        "id": "RQzEEk2PQpH9"
      },
      "source": [
        "![image.png](attachment:image.png)##"
      ]
    },
    {
      "cell_type": "markdown",
      "metadata": {
        "id": "MnyZVr01QpH-"
      },
      "source": [
        "## String"
      ]
    },
    {
      "cell_type": "code",
      "execution_count": null,
      "metadata": {
        "id": "2yV1Qa9wQpH-"
      },
      "outputs": [],
      "source": [
        "name =\"Michael John\""
      ]
    },
    {
      "cell_type": "code",
      "execution_count": null,
      "metadata": {
        "id": "GVRsJX1eQpH_",
        "outputId": "3c4c51e5-86e9-4057-86d3-efb2d4deac36"
      },
      "outputs": [
        {
          "data": {
            "text/plain": [
              "str"
            ]
          },
          "execution_count": 83,
          "metadata": {},
          "output_type": "execute_result"
        }
      ],
      "source": [
        "type(name)"
      ]
    },
    {
      "cell_type": "markdown",
      "metadata": {
        "id": "JB4hon0sQpH_"
      },
      "source": [
        "## Indexing and Slicing"
      ]
    },
    {
      "cell_type": "markdown",
      "metadata": {
        "id": "b2WZQFA-QpH_"
      },
      "source": [
        "### Indexing is actually Indexation which is a process of reffering an element of an string"
      ]
    },
    {
      "cell_type": "code",
      "execution_count": null,
      "metadata": {
        "id": "leO18e1EQpIA",
        "outputId": "c8c90022-54b1-4b0f-860a-285df15376ea"
      },
      "outputs": [
        {
          "data": {
            "text/plain": [
              "'M'"
            ]
          },
          "execution_count": 50,
          "metadata": {},
          "output_type": "execute_result"
        }
      ],
      "source": [
        "name[0]"
      ]
    },
    {
      "cell_type": "code",
      "execution_count": null,
      "metadata": {
        "id": "cGnp5uOQQpIA",
        "outputId": "7ab78ea6-a229-425d-9550-c5251fd7b77f"
      },
      "outputs": [
        {
          "data": {
            "text/plain": [
              "'i'"
            ]
          },
          "execution_count": 51,
          "metadata": {},
          "output_type": "execute_result"
        }
      ],
      "source": [
        "name[1]"
      ]
    },
    {
      "cell_type": "code",
      "execution_count": null,
      "metadata": {
        "id": "aDz3kzyJQpIB",
        "outputId": "a9d7d6b7-a9d0-4276-a239-50e7248180a4"
      },
      "outputs": [
        {
          "data": {
            "text/plain": [
              "' '"
            ]
          },
          "execution_count": 52,
          "metadata": {},
          "output_type": "execute_result"
        }
      ],
      "source": [
        "name[7]"
      ]
    },
    {
      "cell_type": "markdown",
      "metadata": {
        "id": "12lEmwJnQpIB"
      },
      "source": [
        "# Rules : To fetch the particular element of string , we have to use square brackets only"
      ]
    },
    {
      "cell_type": "markdown",
      "metadata": {
        "id": "VBnQMnlzQpIB"
      },
      "source": [
        " ## Indexation or Indexation rule"
      ]
    },
    {
      "cell_type": "code",
      "execution_count": null,
      "metadata": {
        "id": "VSptUdFNQpIC"
      },
      "outputs": [],
      "source": [
        "\n",
        "\n",
        "\n",
        "\n"
      ]
    },
    {
      "cell_type": "markdown",
      "metadata": {
        "id": "mKwL_el5QpIC"
      },
      "source": [
        "## For a range of elements or series of elements from a String variable type"
      ]
    },
    {
      "cell_type": "code",
      "execution_count": null,
      "metadata": {
        "id": "9EezhGpoQpID",
        "outputId": "e2a630ce-11da-4028-86f6-7835796c48b9"
      },
      "outputs": [
        {
          "data": {
            "text/plain": [
              "'Michael John'"
            ]
          },
          "execution_count": 84,
          "metadata": {},
          "output_type": "execute_result"
        }
      ],
      "source": [
        "name"
      ]
    },
    {
      "cell_type": "code",
      "execution_count": null,
      "metadata": {
        "id": "Z3sOyD3qQpID",
        "outputId": "1909d27a-6bc9-47ee-f21b-3a743c75d615"
      },
      "outputs": [
        {
          "data": {
            "text/plain": [
              "'John'"
            ]
          },
          "execution_count": 85,
          "metadata": {},
          "output_type": "execute_result"
        }
      ],
      "source": [
        "name[8:]"
      ]
    },
    {
      "cell_type": "code",
      "execution_count": null,
      "metadata": {
        "id": "5ADCK-QaQpIE",
        "outputId": "1ffc8923-1e22-4048-f84b-3eeca0f85447"
      },
      "outputs": [
        {
          "data": {
            "text/plain": [
              "'Michael J'"
            ]
          },
          "execution_count": 64,
          "metadata": {},
          "output_type": "execute_result"
        }
      ],
      "source": [
        "name[0:9]"
      ]
    },
    {
      "cell_type": "code",
      "execution_count": null,
      "metadata": {
        "id": "9SGIblx_QpIF",
        "outputId": "cbf0e46c-dce2-4f01-e6f7-7a165525d6d6"
      },
      "outputs": [
        {
          "data": {
            "text/plain": [
              "'Michael J'"
            ]
          },
          "execution_count": 87,
          "metadata": {},
          "output_type": "execute_result"
        }
      ],
      "source": [
        "name[:9]"
      ]
    },
    {
      "cell_type": "code",
      "execution_count": null,
      "metadata": {
        "id": "Ct57-6EsQpIG",
        "outputId": "6fd3fe7f-e05a-465d-bacf-0dd6b001bcd2"
      },
      "outputs": [
        {
          "data": {
            "text/plain": [
              "12"
            ]
          },
          "execution_count": 88,
          "metadata": {},
          "output_type": "execute_result"
        }
      ],
      "source": [
        "len(name)"
      ]
    },
    {
      "cell_type": "code",
      "execution_count": null,
      "metadata": {
        "id": "d7hHfcXCQpIG",
        "outputId": "106f6e2e-c748-4712-f36a-06eef6285ade"
      },
      "outputs": [
        {
          "data": {
            "text/plain": [
              "'Michael John'"
            ]
          },
          "execution_count": 67,
          "metadata": {},
          "output_type": "execute_result"
        }
      ],
      "source": [
        "name[0:12]"
      ]
    },
    {
      "cell_type": "markdown",
      "metadata": {
        "id": "GvjRc8jZQpIH"
      },
      "source": [
        "# Understanding index value"
      ]
    },
    {
      "cell_type": "markdown",
      "metadata": {
        "id": "EvfFM-bXQpII"
      },
      "source": [
        "## ![image.png](attachment:image.png)"
      ]
    },
    {
      "cell_type": "markdown",
      "metadata": {
        "id": "eVewGZH6QpII"
      },
      "source": [
        "## Forwards index starts from 0 to (len-1)"
      ]
    },
    {
      "cell_type": "markdown",
      "metadata": {
        "id": "N9U9lYRxQpIJ"
      },
      "source": [
        "## Backward index starts from right with -1 and ends with (-len)"
      ]
    },
    {
      "cell_type": "markdown",
      "metadata": {
        "id": "jYgswVOvQpIJ"
      },
      "source": [
        "## ![image.png](attachment:image.png)"
      ]
    },
    {
      "cell_type": "markdown",
      "metadata": {
        "id": "yTDpYmKTQpIK"
      },
      "source": [
        "# Index operation or Indexation"
      ]
    },
    {
      "cell_type": "code",
      "execution_count": null,
      "metadata": {
        "id": "5Gx0KsYxQpIK",
        "outputId": "62346b85-a695-424d-acb6-b2fd58e61726"
      },
      "outputs": [
        {
          "name": "stdout",
          "output_type": "stream",
          "text": [
            "Kevin\n",
            "K\n",
            "v\n",
            "n\n",
            "i\n"
          ]
        }
      ],
      "source": [
        "str = \"Kevin\"\n",
        "\n",
        "# displaying whole string\n",
        "print(str)\n",
        "\n",
        "# displaying first character of string\n",
        "print(str[0])\n",
        "\n",
        "# displaying third character of string\n",
        "print(str[2])\n",
        "\n",
        "# displaying the last character of the string\n",
        "print(str[-1])\n",
        "\n",
        "# displaying the second last char of string\n",
        "print(str[-2])"
      ]
    },
    {
      "cell_type": "code",
      "execution_count": null,
      "metadata": {
        "id": "pkvZWnR4QpIL",
        "outputId": "88e9c5c3-f533-425c-e651-adf76145e43b"
      },
      "outputs": [
        {
          "data": {
            "text/plain": [
              "'n'"
            ]
          },
          "execution_count": 79,
          "metadata": {},
          "output_type": "execute_result"
        }
      ],
      "source": [
        "str[4]"
      ]
    },
    {
      "cell_type": "markdown",
      "metadata": {
        "id": "eax0FdAgQpIM"
      },
      "source": [
        "# Slicing Operation or picking up a range of elements"
      ]
    },
    {
      "cell_type": "code",
      "execution_count": null,
      "metadata": {
        "id": "LjFqItSiQpIM"
      },
      "outputs": [],
      "source": []
    },
    {
      "cell_type": "code",
      "execution_count": null,
      "metadata": {
        "id": "dtY0VCdaQpIN",
        "outputId": "91e22051-a33e-4879-a7a1-c66367357882"
      },
      "outputs": [
        {
          "name": "stdout",
          "output_type": "stream",
          "text": [
            "The original string is:  AnacondaInstallation\n",
            "str[9:]:  nstallation\n",
            "str[2:6]:  acon\n",
            "str[:9]:  AnacondaI\n",
            "str[9:-1]:  nstallation\n"
          ]
        }
      ],
      "source": [
        "# Getting a substring in Python – Slicing operation\n",
        "# We can slice a string to get a substring out of it. To understand the concept of slicing we must understand the positive and negative indexes in Python (see the example above to understand this). Lets take a look at the few examples of slicing.\n",
        "\n",
        "str = \"AnacondaInstallation\"\n",
        "\n",
        "# displaying whole string\n",
        "print(\"The original string is: \", str)\n",
        "\n",
        "# slicing 10th to the last character\n",
        "print(\"str[9:]: \", str[9:])\n",
        "\n",
        "# slicing 3rd to 6th character\n",
        "print(\"str[2:6]: \", str[2:6])\n",
        "\n",
        "# slicing from start to the 9th character\n",
        "print(\"str[:9]: \", str[:9])\n",
        "\n",
        "# slicing from 10th to second last character\n",
        "print(\"str[9:-1]: \", str[9:])"
      ]
    },
    {
      "cell_type": "code",
      "execution_count": null,
      "metadata": {
        "id": "JWX63aGOQpIO",
        "outputId": "a658d004-668a-4a38-d260-5e1b1bc78370"
      },
      "outputs": [
        {
          "data": {
            "text/plain": [
              "20"
            ]
          },
          "execution_count": 81,
          "metadata": {},
          "output_type": "execute_result"
        }
      ],
      "source": [
        "len(str)"
      ]
    },
    {
      "cell_type": "code",
      "execution_count": null,
      "metadata": {
        "id": "Rdf0xeeaQpIO",
        "outputId": "b78b18ad-f863-406e-a7c4-e6db30fb2fbf"
      },
      "outputs": [
        {
          "name": "stdout",
          "output_type": "stream",
          "text": [
            "Mr.John Smith\n"
          ]
        }
      ],
      "source": [
        "# The + operator is used for string concatenation in Python. Lets take an example to understand this:\n",
        "\n",
        "str1 = \"Mr.\"\n",
        "str2 = \"John \"\n",
        "str3 = \"Smith\"\n",
        "\n",
        "# Concatenation of three strings\n",
        "print(str1 + str2 + str3)"
      ]
    },
    {
      "cell_type": "code",
      "execution_count": null,
      "metadata": {
        "id": "9lX-FK9ZQpIP"
      },
      "outputs": [],
      "source": [
        "str4=str1+str2+str3"
      ]
    },
    {
      "cell_type": "code",
      "execution_count": null,
      "metadata": {
        "id": "ygD7hpNTQpIQ",
        "outputId": "f74d2015-e7e8-499b-b896-301a200750d5"
      },
      "outputs": [
        {
          "name": "stdout",
          "output_type": "stream",
          "text": [
            "Mr.John Smith\n"
          ]
        }
      ],
      "source": [
        "print(str4)"
      ]
    },
    {
      "cell_type": "code",
      "execution_count": null,
      "metadata": {
        "id": "l_PbYGsiQpIQ"
      },
      "outputs": [],
      "source": []
    }
  ],
  "metadata": {
    "kernelspec": {
      "display_name": "Python 3",
      "language": "python",
      "name": "python3"
    },
    "language_info": {
      "codemirror_mode": {
        "name": "ipython",
        "version": 3
      },
      "file_extension": ".py",
      "mimetype": "text/x-python",
      "name": "python",
      "nbconvert_exporter": "python",
      "pygments_lexer": "ipython3",
      "version": "3.8.5"
    },
    "colab": {
      "provenance": [],
      "toc_visible": true,
      "include_colab_link": true
    }
  },
  "nbformat": 4,
  "nbformat_minor": 0
}